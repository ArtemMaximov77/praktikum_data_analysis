{
 "cells": [
  {
   "cell_type": "markdown",
   "id": "892494ed",
   "metadata": {},
   "source": [
    "# Описание проекта\n",
    "Требуется напиcать несколько SQL-запросов в базу данных StackOverflow — сервиса вопросов и ответов о программировании."
   ]
  },
  {
   "cell_type": "markdown",
   "id": "ea1fbe6d",
   "metadata": {},
   "source": [
    "ER-диаграмма\n",
    "![](https://pictures.s3.yandex.net/resources/Frame_353_1_1664969443.png)"
   ]
  },
  {
   "cell_type": "markdown",
   "id": "980a5b05",
   "metadata": {},
   "source": [
    "## Первая часть"
   ]
  },
  {
   "cell_type": "markdown",
   "id": "b7f7a0ee",
   "metadata": {},
   "source": [
    "### Найдите количество вопросов, которые набрали больше 300 очков или как минимум 100 раз были добавлены в «Закладки»."
   ]
  },
  {
   "cell_type": "markdown",
   "id": "9246a915",
   "metadata": {},
   "source": [
    "SELECT COUNT(*)  \n",
    "FROM stackoverflow.posts  \n",
    "WHERE post_type_id = 1 AND (score > 300 OR favorites_count >= 100)"
   ]
  },
  {
   "cell_type": "markdown",
   "id": "f6cca8ca",
   "metadata": {},
   "source": [
    "### Сколько в среднем в день задавали вопросов с 1 по 18 ноября 2008 включительно?\n",
    "Результат округлите до целого числа."
   ]
  },
  {
   "cell_type": "markdown",
   "id": "cdc103b9",
   "metadata": {},
   "source": [
    "WITH tab AS  \n",
    "    (SELECT  \n",
    "        CAST(DATE_TRUNC('day', creation_date) AS date),  \n",
    "        SUM(post_type_id) AS count_day  \n",
    "    FROM StackOverflow.posts  \n",
    "    WHERE creation_date::date BETWEEN '2008-11-01' AND '2008-11-18' AND post_type_id = 1  \n",
    "    GROUP BY CAST(DATE_TRUNC('day', creation_date) AS date)  \n",
    "    ORDER BY 1)  \n",
    "SELECT ROUND(SUM(count_day) / COUNT(*), 0)  \n",
    "FROM tab"
   ]
  },
  {
   "cell_type": "markdown",
   "id": "9519ac08",
   "metadata": {},
   "source": [
    "### Сколько пользователей получили значки сразу в день регистрации? \n",
    "Выведите количество уникальных пользователей."
   ]
  },
  {
   "cell_type": "markdown",
   "id": "8be7b621",
   "metadata": {},
   "source": [
    "SELECT COUNT(DISTINCT u.id)  \n",
    "FROM StackOverflow.users u  \n",
    "JOIN StackOverflow.badges b ON u.id=b.user_id  \n",
    "WHERE u.creation_date::date=b.creation_date::date  "
   ]
  },
  {
   "cell_type": "markdown",
   "id": "d011cadd",
   "metadata": {},
   "source": [
    "### Сколько уникальных постов пользователя с именем Joel Coehoorn получили хотя бы один голос?"
   ]
  },
  {
   "cell_type": "markdown",
   "id": "fafc2391",
   "metadata": {},
   "source": [
    "SELECT COUNT(DISTINCT v.post_id)  \n",
    "FROM stackoverflow.users u  \n",
    "JOIN stackoverflow.posts p ON u.id=p.user_id  \n",
    "JOIN stackoverflow.votes v ON p.id=v.post_id  \n",
    "WHERE display_name = 'Joel Coehoorn' "
   ]
  },
  {
   "cell_type": "markdown",
   "id": "44231452",
   "metadata": {},
   "source": [
    "### Выгрузите все поля таблицы vote_types. Добавьте к таблице поле rank, в которое войдут номера записей в обратном порядке. \n",
    "Таблица должна быть отсортирована по полю id."
   ]
  },
  {
   "cell_type": "markdown",
   "id": "bd37743e",
   "metadata": {},
   "source": [
    "SELECT *,  \n",
    "    ROW_NUMBER() OVER(ORDER BY id DESC) AS rank  \n",
    "FROM stackoverflow.vote_types  \n",
    "ORDER BY 1"
   ]
  },
  {
   "cell_type": "markdown",
   "id": "fb3878a0",
   "metadata": {},
   "source": [
    "### Отберите 10 пользователей, которые поставили больше всего голосов типа Close. \n",
    "Отобразите таблицу из двух полей: идентификатором пользователя и количеством голосов. Отсортируйте данные сначала по убыванию количества голосов, потом по убыванию значения идентификатора пользователя."
   ]
  },
  {
   "cell_type": "markdown",
   "id": "ad4d22bc",
   "metadata": {},
   "source": [
    "SELECT v.user_id,  \n",
    "    count(*)  \n",
    "FROM stackoverflow.posts p  \n",
    "JOIN stackoverflow.votes v ON p.id=v.post_id  \n",
    "JOIN stackoverflow.vote_types v_t ON v.vote_type_id=v_t.id  \n",
    "WHERE v_t.name = 'Close'  \n",
    "GROUP BY v.user_id  \n",
    "ORDER BY 2 DESC, 1 DESC  \n",
    "LIMIT 10  "
   ]
  },
  {
   "cell_type": "markdown",
   "id": "60e3812c",
   "metadata": {},
   "source": [
    "### Отберите 10 пользователей по количеству значков, полученных в период с 15 ноября по 15 декабря 2008 года включительно. \n",
    "Отобразите несколько полей:  \n",
    "- идентификатор пользователя;  \n",
    "- число значков;  \n",
    "- место в рейтинге — чем больше значков, тем выше рейтинг.  \n",
    "\n",
    "Пользователям, которые набрали одинаковое количество значков, присвойте одно и то же место в рейтинге.\n",
    "Отсортируйте записи по количеству значков по убыванию, а затем по возрастанию значения идентификатора пользователя."
   ]
  },
  {
   "cell_type": "markdown",
   "id": "04333c60",
   "metadata": {},
   "source": [
    "SELECT u.id,  \n",
    "       COUNT(b.id),  \n",
    "       DENSE_RANK() OVER (ORDER BY COUNT(b.id) DESC)  \n",
    "FROM stackoverflow.users AS u  \n",
    "LEFT JOIN stackoverflow.badges AS b ON u.id = b.user_id  \n",
    "WHERE b.creation_date::date BETWEEN '2008-11-15' AND '2008-12-15'  \n",
    "GROUP BY u.id   \n",
    "ORDER BY 2 DESC, 1 ASC  \n",
    "LIMIT 10"
   ]
  },
  {
   "cell_type": "markdown",
   "id": "03e67165",
   "metadata": {},
   "source": [
    "### Сколько в среднем очков получает пост каждого пользователя?\n",
    "Сформируйте таблицу из следующих полей:  \n",
    "- заголовок поста;  \n",
    "- идентификатор пользователя;  \n",
    "- число очков поста;  \n",
    "- среднее число очков пользователя за пост, округлённое до целого числа.  \n",
    "\n",
    "Не учитывайте посты без заголовка, а также те, что набрали ноль очков."
   ]
  },
  {
   "cell_type": "markdown",
   "id": "5057ba2a",
   "metadata": {},
   "source": [
    "SELECT title,  \n",
    "    user_id,  \n",
    "    score,  \n",
    "    ROUND(AVG(score) OVER(PARTITION BY user_id)) -- ORDER BY user_id )  \n",
    "FROM stackoverflow.posts  \n",
    "WHERE title <> '' AND score <> 0"
   ]
  },
  {
   "cell_type": "markdown",
   "id": "aaf2ab2f",
   "metadata": {},
   "source": [
    "### Отобразите заголовки постов, которые были написаны пользователями, получившими более 1000 значков.\n",
    "Посты без заголовков не должны попасть в список."
   ]
  },
  {
   "cell_type": "markdown",
   "id": "04876d7e",
   "metadata": {},
   "source": [
    "WITH tab AS  \n",
    "    (SELECT  \n",
    "        user_id,  \n",
    "        COUNT(name) AS cnt  \n",
    "    FROM stackoverflow.badges  \n",
    "    GROUP BY user_id  \n",
    "    HAVING COUNT(name) > 1000)  \n",
    "  \n",
    "SELECT p.title  \n",
    "FROM tab  \n",
    "LEFT JOIN stackoverflow.posts p ON tab.user_id=p.user_id  \n",
    "WHERE p.title IS NOT NULL"
   ]
  },
  {
   "cell_type": "markdown",
   "id": "fe819b8d",
   "metadata": {},
   "source": [
    "### Напишите запрос, который выгрузит данные о пользователях из США (англ. United States). \n",
    "Разделите пользователей на три группы в зависимости от количества просмотров их профилей:  \n",
    "- пользователям с числом просмотров больше либо равным 350 присвойте группу 1;  \n",
    "- пользователям с числом просмотров меньше 350, но больше либо равно 100 — группу 2;  \n",
    "- пользователям с числом просмотров меньше 100 — группу 3.  \n",
    "\n",
    "Отобразите в итоговой таблице идентификатор пользователя, количество просмотров профиля и группу. Пользователи с нулевым количеством просмотров не должны войти в итоговую таблицу."
   ]
  },
  {
   "cell_type": "markdown",
   "id": "a226e851",
   "metadata": {},
   "source": [
    "SELECT  \n",
    "    id,  \n",
    "    views,  \n",
    "    CASE  \n",
    "        WHEN views >= 350 THEN 1  \n",
    "        WHEN views >= 100 AND views < 350 THEN 2  \n",
    "        WHEN views < 100 THEN 3  \n",
    "    END AS groop  \n",
    "FROM stackoverflow.users  \n",
    "WHERE (location LIKE '%United States%') AND views <> 0"
   ]
  },
  {
   "cell_type": "markdown",
   "id": "be6a2ae5",
   "metadata": {},
   "source": [
    "### Дополните предыдущий запрос. Отобразите лидеров каждой группы — пользователей, которые набрали максимальное число просмотров в своей группе. \n",
    "Выведите поля с идентификатором пользователя, группой и количеством просмотров. Отсортируйте таблицу по убыванию просмотров, а затем по возрастанию значения идентификатора."
   ]
  },
  {
   "cell_type": "markdown",
   "id": "d09aa6a4",
   "metadata": {},
   "source": [
    "WITH tab AS  \n",
    "    (SELECT  \n",
    "        id,  \n",
    "        views,  \n",
    "        CASE  \n",
    "            WHEN views >= 350 THEN 1  \n",
    "            WHEN views >= 100 AND views < 350 THEN 2  \n",
    "            WHEN views < 100 THEN 3  \n",
    "        END AS groop  \n",
    "    FROM stackoverflow.users  \n",
    "    WHERE (location LIKE '%United States%') AND views <> 0),  \n",
    "tab1 AS  \n",
    "    (SELECT  \n",
    "        groop,  \n",
    "        MAX(views) as v  \n",
    "    FROM tab  \n",
    "    GROUP BY groop)  \n",
    "SELECT   \n",
    "    id,  \n",
    "    tab.groop,  \n",
    "    views  \n",
    "FROM tab  \n",
    "JOIN tab1 ON tab.views=tab1.v  \n",
    "ORDER BY 2, 1"
   ]
  },
  {
   "cell_type": "markdown",
   "id": "506e6f09",
   "metadata": {},
   "source": [
    "### Посчитайте ежедневный прирост новых пользователей в ноябре 2008 года.\n",
    "Сформируйте таблицу с полями:  \n",
    "- номер дня;  \n",
    "- число пользователей, зарегистрированных в этот день;  \n",
    "- сумму пользователей с накоплением."
   ]
  },
  {
   "cell_type": "markdown",
   "id": "e901374c",
   "metadata": {},
   "source": [
    "SELECT  \n",
    "    EXTRACT(DAY FROM creation_date::date),  \n",
    "    COUNT(*),  \n",
    "    SUM(COUNT(*)) OVER(ORDER BY EXTRACT(DAY FROM creation_date::date))  \n",
    "FROM stackoverflow.users  \n",
    "WHERE creation_date::date BETWEEN '2008-11-01' AND '2008-11-30'  \n",
    "GROUP BY 1"
   ]
  },
  {
   "cell_type": "markdown",
   "id": "7661e846",
   "metadata": {},
   "source": [
    "### Для каждого пользователя, который написал хотя бы один пост, найдите интервал между регистрацией и временем создания первого поста. \n",
    "Отобразите:  \n",
    "- идентификатор пользователя;  \n",
    "- разницу во времени между регистрацией и первым постом."
   ]
  },
  {
   "cell_type": "markdown",
   "id": "1e2d7dce",
   "metadata": {},
   "source": [
    "WITH tab AS  \n",
    "    (SELECT  \n",
    "        DISTINCT  \n",
    "        p.user_id,  \n",
    "        FIRST_VALUE(p.creation_date) OVER(PARTITION BY p.user_id ORDER BY p.creation_date) AS first_post,  \n",
    "        u.creation_date  \n",
    "    FROM stackoverflow.posts p  \n",
    "    JOIN stackoverflow.users u ON p.user_id=u.id)  \n",
    "SELECT  \n",
    "    user_id,  \n",
    "    first_post - creation_date  \n",
    "FROM tab"
   ]
  },
  {
   "cell_type": "markdown",
   "id": "ab4102a7",
   "metadata": {},
   "source": [
    "## Вторая часть"
   ]
  },
  {
   "cell_type": "markdown",
   "id": "16967b61",
   "metadata": {},
   "source": [
    "### Выведите общую сумму просмотров постов за каждый месяц 2008 года. \n",
    "Если данных за какой-либо месяц в базе нет, такой месяц можно пропустить. Результат отсортируйте по убыванию общего количества просмотров."
   ]
  },
  {
   "cell_type": "markdown",
   "id": "f9eb812b",
   "metadata": {},
   "source": [
    "SELECT  \n",
    "    CAST(DATE_TRUNC('month', creation_date) AS date),  \n",
    "    SUM(views_count)  \n",
    "FROM stackoverflow.posts  \n",
    "GROUP BY CAST(DATE_TRUNC('month', creation_date) AS date)  \n",
    "ORDER BY 2 DESC"
   ]
  },
  {
   "cell_type": "markdown",
   "id": "90764cc2",
   "metadata": {},
   "source": [
    "### Выведите имена самых активных пользователей, которые в первый месяц после регистрации (включая день регистрации) дали больше 100 ответов. \n",
    "Вопросы, которые задавали пользователи, не учитывайте. Для каждого имени пользователя выведите количество уникальных значений user_id. Отсортируйте результат по полю с именами в лексикографическом порядке."
   ]
  },
  {
   "cell_type": "markdown",
   "id": "fa73edc1",
   "metadata": {},
   "source": [
    "SELECT  \n",
    "    u.display_name AS name,  \n",
    "    COUNT(DISTINCT user_id) AS cnt  \n",
    "FROM stackoverflow.users u  \n",
    "JOIN stackoverflow.posts p ON u.id=p.user_id  \n",
    "JOIN stackoverflow.post_types p_t ON p.post_type_id=p_t.id  \n",
    "WHERE p_t.type = 'Answer' AND p.creation_date::date <= (u.creation_date::date + INTERVAL '1 month')  \n",
    "GROUP BY u.display_name  \n",
    "HAVING COUNT(*) > 100  \n",
    "ORDER BY 1"
   ]
  },
  {
   "cell_type": "markdown",
   "id": "187699b4",
   "metadata": {},
   "source": [
    "### Выведите количество постов за 2008 год по месяцам. \n",
    "Отберите посты от пользователей, которые зарегистрировались в сентябре 2008 года и сделали хотя бы один пост в декабре того же года. Отсортируйте таблицу по значению месяца по убыванию."
   ]
  },
  {
   "cell_type": "markdown",
   "id": "e1eecba0",
   "metadata": {},
   "source": [
    "SELECT  \n",
    "    DISTINCT DATE_TRUNC('MONTH', creation_date)::date,  \n",
    "    COUNT(id) AS cnt  \n",
    "FROM stackoverflow.posts  \n",
    "WHERE user_id IN (  \n",
    "        SELECT DISTINCT u.id  \n",
    "        FROM stackoverflow.posts AS p  \n",
    "        JOIN stackoverflow.users AS u ON p.user_id = u.id  \n",
    "        WHERE DATE_TRUNC('MONTH', u.creation_date) = '2008-09-01'  \n",
    "              AND DATE_TRUNC('MONTH', p.creation_date) = '2008-12-01'  \n",
    "                 )  \n",
    "GROUP BY 1  \n",
    "ORDER BY 1 DESC"
   ]
  },
  {
   "cell_type": "markdown",
   "id": "911006bf",
   "metadata": {},
   "source": [
    "### Используя данные о постах, выведите несколько полей:  \n",
    "- идентификатор пользователя, который написал пост;  \n",
    "- дата создания поста;  \n",
    "- количество просмотров у текущего поста;  \n",
    "- сумму просмотров постов автора с накоплением. \n",
    "\n",
    "Данные в таблице должны быть отсортированы по возрастанию идентификаторов пользователей, а данные об одном и том же пользователе — по возрастанию даты создания поста."
   ]
  },
  {
   "cell_type": "markdown",
   "id": "2a3d941a",
   "metadata": {},
   "source": [
    "SELECT  \n",
    "    user_id,  \n",
    "    creation_date,  \n",
    "    views_count,  \n",
    "    SUM(views_count) OVER(PARTITION BY user_id ORDER BY creation_date)  \n",
    "FROM stackoverflow.posts  \n",
    "ORDER BY 1, 2"
   ]
  },
  {
   "cell_type": "markdown",
   "id": "27492e4e",
   "metadata": {},
   "source": [
    "### Сколько в среднем дней в период с 1 по 7 декабря 2008 года включительно пользователи взаимодействовали с платформой?\n",
    "Для каждого пользователя отберите дни, в которые он или она опубликовали хотя бы один пост. Нужно получить одно целое число — не забудьте округлить результат."
   ]
  },
  {
   "cell_type": "markdown",
   "id": "f2fc933c",
   "metadata": {},
   "source": [
    "WITH  \n",
    "tab AS  \n",
    "    (SELECT creation_date::date,  \n",
    "           user_id  \n",
    "    FROM stackoverflow.posts  \n",
    "    WHERE creation_date::date BETWEEN '2008-12-01' AND '2008-12-07'),  \n",
    "tab1 AS  \n",
    "    (SELECT   \n",
    "        COUNT(DISTINCT creation_date) as cnt,  \n",
    "        user_id  \n",
    "    FROM tab  \n",
    "    GROUP BY user_id)  \n",
    "SELECT ROUND(AVG(cnt))  \n",
    "FROM tab1"
   ]
  },
  {
   "cell_type": "markdown",
   "id": "3578984f",
   "metadata": {},
   "source": [
    "### На сколько процентов менялось количество постов ежемесячно с 1 сентября по 31 декабря 2008 года? \n",
    "Отобразите таблицу со следующими полями:  \n",
    "- номер месяца;  \n",
    "- количество постов за месяц;  \n",
    "- процент, который показывает, насколько изменилось количество постов в текущем месяце по сравнению с предыдущим.  \n",
    "\n",
    "Если постов стало меньше, значение процента должно быть отрицательным, если больше — положительным. Округлите значение процента до двух знаков после запятой.  \n",
    "Напомним, что при делении одного целого числа на другое в PostgreSQL в результате получится целое число, округлённое до ближайшего целого вниз. Чтобы этого избежать, переведите делимое в тип numeric."
   ]
  },
  {
   "cell_type": "markdown",
   "id": "4b174237",
   "metadata": {},
   "source": [
    "SELECT  \n",
    "    EXTRACT(MONTH FROM creation_date::date),  \n",
    "    COUNT(*) AS cnt,  \n",
    "    ROUND((100 * CAST(COUNT(*) AS numeric) / LAG(COUNT(*), 1) OVER (ORDER BY COUNT(*) DESC) - 100),2)  \n",
    "FROM stackoverflow.posts  \n",
    "WHERE creation_date::date BETWEEN '2008-09-01' AND '2008-12-31'  \n",
    "GROUP BY EXTRACT(MONTH FROM creation_date::date)"
   ]
  },
  {
   "cell_type": "markdown",
   "id": "91bc3650",
   "metadata": {},
   "source": [
    "### Выгрузите данные активности пользователя, который опубликовал больше всего постов за всё время. \n",
    "Выведите данные за октябрь 2008 года в таком виде:  \n",
    "- номер недели;  \n",
    "- дата и время последнего поста, опубликованного на этой неделе."
   ]
  },
  {
   "cell_type": "markdown",
   "id": "30dd066e",
   "metadata": {},
   "source": [
    "WITH  \n",
    "tab1 AS  \n",
    "    (SELECT  \n",
    "        user_id,  \n",
    "        COUNT(*)  \n",
    "    FROM stackoverflow.posts  \n",
    "    GROUP BY user_id  \n",
    "    ORDER BY 2 DESC  \n",
    "    LIMIT 1),  \n",
    "tab2 AS  \n",
    "    (SELECT  \n",
    "        EXTRACT(WEEK FROM creation_date::date),  \n",
    "        creation_date  \n",
    "    FROM stackoverflow.posts p  \n",
    "    JOIN tab1 ON p.user_id = tab1.user_id  \n",
    "    WHERE creation_date::date BETWEEN '2008-10-01' AND '2008-10-31'  \n",
    "    ORDER BY 2),  \n",
    "tab3 AS  \n",
    "    (SELECT  \n",
    "        LAST_VALUE(creation_date) OVER(PARTITION BY date_part)  \n",
    "    FROM tab2)  \n",
    "SELECT  \n",
    "    date_part,  \n",
    "    creation_date  \n",
    "FROM tab3  \n",
    "WHERE creation_date = last_value"
   ]
  },
  {
   "cell_type": "markdown",
   "id": "e0acddb9",
   "metadata": {},
   "source": [
    "## Третья часть"
   ]
  },
  {
   "cell_type": "code",
   "execution_count": 2,
   "id": "7ab9fd43",
   "metadata": {},
   "outputs": [
    {
     "name": "stdout",
     "output_type": "stream",
     "text": [
      "Requirement already satisfied: sqlalchemy in c:\\users\\arwin77\\anaconda3\\lib\\site-packages (1.4.32)\n",
      "Requirement already satisfied: greenlet!=0.4.17 in c:\\users\\arwin77\\anaconda3\\lib\\site-packages (from sqlalchemy) (1.1.1)\n"
     ]
    }
   ],
   "source": [
    "!pip install sqlalchemy"
   ]
  },
  {
   "cell_type": "code",
   "execution_count": 3,
   "id": "4fe3064d",
   "metadata": {},
   "outputs": [
    {
     "name": "stdout",
     "output_type": "stream",
     "text": [
      "Requirement already satisfied: psycopg2-binary in c:\\users\\arwin77\\anaconda3\\lib\\site-packages (2.9.5)\n"
     ]
    }
   ],
   "source": [
    "!pip install psycopg2-binary"
   ]
  },
  {
   "cell_type": "code",
   "execution_count": 4,
   "id": "510738ff",
   "metadata": {},
   "outputs": [],
   "source": [
    "import pandas as pd\n",
    "import matplotlib.pyplot as plt\n",
    "import seaborn as sns\n",
    "from sqlalchemy import create_engine"
   ]
  },
  {
   "cell_type": "code",
   "execution_count": 5,
   "id": "1df7bbd4",
   "metadata": {},
   "outputs": [],
   "source": [
    "db_config = {\n",
    "    'user': 'praktikum_student', # имя пользователя\n",
    "    'pwd': 'Sdf4$2;d-d30pp', # пароль\n",
    "    'host': 'rc1b-wcoijxj3yxfsf3fs.mdb.yandexcloud.net',\n",
    "    'port': 6432, # порт подключения\n",
    "    'db': 'data-analyst-advanced-sql' # название базы данных\n",
    "} "
   ]
  },
  {
   "cell_type": "code",
   "execution_count": 6,
   "id": "f1a246bb",
   "metadata": {},
   "outputs": [],
   "source": [
    "connection_string = 'postgresql://{}:{}@{}:{}/{}'.format(\n",
    "    db_config['user'],\n",
    "    db_config['pwd'],\n",
    "    db_config['host'],\n",
    "    db_config['port'],\n",
    "    db_config['db'],\n",
    ")"
   ]
  },
  {
   "cell_type": "code",
   "execution_count": 7,
   "id": "c03bd167",
   "metadata": {},
   "outputs": [],
   "source": [
    "engine = create_engine(connection_string)"
   ]
  },
  {
   "cell_type": "code",
   "execution_count": 8,
   "id": "d8e4a3da",
   "metadata": {},
   "outputs": [],
   "source": [
    "query = '''\n",
    "WITH profile AS\n",
    "  (SELECT user_id,\n",
    "          dt,\n",
    "          COUNT(*) OVER (PARTITION BY dt) AS cohort_users_cnt\n",
    "   FROM online_store.profiles\n",
    "   WHERE channel = 'Organic'),\n",
    "sessions AS \n",
    "(SELECT user_id,\n",
    "        session_start::date AS session_date\n",
    "FROM online_store.sessions\n",
    "GROUP BY 1,\n",
    "         2)\n",
    "SELECT p.dt AS cohort_dt,\n",
    "       session_date,\n",
    "       COUNT(p.user_id) AS users_cnt,\n",
    "       cohort_users_cnt,\n",
    "       ROUND(COUNT(p.user_id) * 100.0 / cohort_users_cnt, 2) AS retention_rate\n",
    "FROM profile p\n",
    "JOIN sessions s ON p.user_id = s.user_id\n",
    "GROUP BY 1,\n",
    "         2,\n",
    "         4\n",
    "'''"
   ]
  },
  {
   "cell_type": "code",
   "execution_count": 9,
   "id": "86a1d55a",
   "metadata": {},
   "outputs": [],
   "source": [
    "retention_rate_df = pd.read_sql_query(query, con = engine)"
   ]
  },
  {
   "cell_type": "code",
   "execution_count": 10,
   "id": "63ae4545",
   "metadata": {},
   "outputs": [
    {
     "data": {
      "text/html": [
       "<div>\n",
       "<style scoped>\n",
       "    .dataframe tbody tr th:only-of-type {\n",
       "        vertical-align: middle;\n",
       "    }\n",
       "\n",
       "    .dataframe tbody tr th {\n",
       "        vertical-align: top;\n",
       "    }\n",
       "\n",
       "    .dataframe thead th {\n",
       "        text-align: right;\n",
       "    }\n",
       "</style>\n",
       "<table border=\"1\" class=\"dataframe\">\n",
       "  <thead>\n",
       "    <tr style=\"text-align: right;\">\n",
       "      <th></th>\n",
       "      <th>cohort_dt</th>\n",
       "      <th>session_date</th>\n",
       "      <th>users_cnt</th>\n",
       "      <th>cohort_users_cnt</th>\n",
       "      <th>retention_rate</th>\n",
       "    </tr>\n",
       "  </thead>\n",
       "  <tbody>\n",
       "    <tr>\n",
       "      <th>0</th>\n",
       "      <td>2020-06-14</td>\n",
       "      <td>2020-06-14</td>\n",
       "      <td>5098</td>\n",
       "      <td>5098</td>\n",
       "      <td>100.00</td>\n",
       "    </tr>\n",
       "    <tr>\n",
       "      <th>1</th>\n",
       "      <td>2020-06-14</td>\n",
       "      <td>2020-06-15</td>\n",
       "      <td>2647</td>\n",
       "      <td>5098</td>\n",
       "      <td>51.92</td>\n",
       "    </tr>\n",
       "    <tr>\n",
       "      <th>2</th>\n",
       "      <td>2020-06-14</td>\n",
       "      <td>2020-06-16</td>\n",
       "      <td>1836</td>\n",
       "      <td>5098</td>\n",
       "      <td>36.01</td>\n",
       "    </tr>\n",
       "    <tr>\n",
       "      <th>3</th>\n",
       "      <td>2020-06-14</td>\n",
       "      <td>2020-06-17</td>\n",
       "      <td>1403</td>\n",
       "      <td>5098</td>\n",
       "      <td>27.52</td>\n",
       "    </tr>\n",
       "    <tr>\n",
       "      <th>4</th>\n",
       "      <td>2020-06-14</td>\n",
       "      <td>2020-06-18</td>\n",
       "      <td>1085</td>\n",
       "      <td>5098</td>\n",
       "      <td>21.28</td>\n",
       "    </tr>\n",
       "    <tr>\n",
       "      <th>...</th>\n",
       "      <td>...</td>\n",
       "      <td>...</td>\n",
       "      <td>...</td>\n",
       "      <td>...</td>\n",
       "      <td>...</td>\n",
       "    </tr>\n",
       "    <tr>\n",
       "      <th>100</th>\n",
       "      <td>2020-06-25</td>\n",
       "      <td>2020-06-26</td>\n",
       "      <td>2460</td>\n",
       "      <td>4777</td>\n",
       "      <td>51.50</td>\n",
       "    </tr>\n",
       "    <tr>\n",
       "      <th>101</th>\n",
       "      <td>2020-06-25</td>\n",
       "      <td>2020-06-27</td>\n",
       "      <td>1683</td>\n",
       "      <td>4777</td>\n",
       "      <td>35.23</td>\n",
       "    </tr>\n",
       "    <tr>\n",
       "      <th>102</th>\n",
       "      <td>2020-06-26</td>\n",
       "      <td>2020-06-26</td>\n",
       "      <td>5366</td>\n",
       "      <td>5366</td>\n",
       "      <td>100.00</td>\n",
       "    </tr>\n",
       "    <tr>\n",
       "      <th>103</th>\n",
       "      <td>2020-06-26</td>\n",
       "      <td>2020-06-27</td>\n",
       "      <td>2802</td>\n",
       "      <td>5366</td>\n",
       "      <td>52.22</td>\n",
       "    </tr>\n",
       "    <tr>\n",
       "      <th>104</th>\n",
       "      <td>2020-06-27</td>\n",
       "      <td>2020-06-27</td>\n",
       "      <td>4501</td>\n",
       "      <td>4501</td>\n",
       "      <td>100.00</td>\n",
       "    </tr>\n",
       "  </tbody>\n",
       "</table>\n",
       "<p>105 rows × 5 columns</p>\n",
       "</div>"
      ],
      "text/plain": [
       "      cohort_dt session_date  users_cnt  cohort_users_cnt  retention_rate\n",
       "0    2020-06-14   2020-06-14       5098              5098          100.00\n",
       "1    2020-06-14   2020-06-15       2647              5098           51.92\n",
       "2    2020-06-14   2020-06-16       1836              5098           36.01\n",
       "3    2020-06-14   2020-06-17       1403              5098           27.52\n",
       "4    2020-06-14   2020-06-18       1085              5098           21.28\n",
       "..          ...          ...        ...               ...             ...\n",
       "100  2020-06-25   2020-06-26       2460              4777           51.50\n",
       "101  2020-06-25   2020-06-27       1683              4777           35.23\n",
       "102  2020-06-26   2020-06-26       5366              5366          100.00\n",
       "103  2020-06-26   2020-06-27       2802              5366           52.22\n",
       "104  2020-06-27   2020-06-27       4501              4501          100.00\n",
       "\n",
       "[105 rows x 5 columns]"
      ]
     },
     "execution_count": 10,
     "metadata": {},
     "output_type": "execute_result"
    }
   ],
   "source": [
    "retention_rate_df"
   ]
  },
  {
   "cell_type": "code",
   "execution_count": 11,
   "id": "6232204f",
   "metadata": {},
   "outputs": [
    {
     "data": {
      "image/png": "[encoded data removed]",
      "text/plain": [
       "<Figure size 720x720 with 2 Axes>"
      ]
     },
     "metadata": {
      "needs_background": "light"
     },
     "output_type": "display_data"
    }
   ],
   "source": [
    "# создаём сводную таблицу с результатами\n",
    "retention = retention_rate_df.pivot('cohort_dt', 'session_date', 'retention_rate')\n",
    "retention.index = [str(x)[0:10] for x in retention.index]\n",
    "retention.columns = [str(x)[0:10] for x in retention.columns]\n",
    "\n",
    "# строим хитмэп\n",
    "plt.figure(figsize=(10, 10)) # задаём размер графика\n",
    "sns.heatmap(retention, # датафрейм с данными\n",
    "            annot=True, # добавляем подписи\n",
    "            fmt='') # задаём исходный формат\n",
    "plt.title('Тепловая карта') # название графика\n",
    "plt.show()"
   ]
  },
  {
   "cell_type": "code",
   "execution_count": null,
   "id": "0c7d07f6",
   "metadata": {},
   "outputs": [],
   "source": []
  },
  {
   "cell_type": "code",
   "execution_count": 12,
   "id": "b0d7daeb",
   "metadata": {},
   "outputs": [],
   "source": [
    "query = '''WITH profile AS\n",
    "  (SELECT u.user_id,\n",
    "          DATE_TRUNC('month', MIN(event_time))::date AS start_mn\n",
    "   FROM tools_shop.users u\n",
    "   JOIN tools_shop.orders o ON u.user_id = o.user_id\n",
    "   JOIN tools_shop.events e ON u.user_id = e.user_id\n",
    "   GROUP BY 1), \n",
    "sessions AS\n",
    "  (SELECT start_mn,\n",
    "          DATE_TRUNC('month', event_time)::date AS event_mn,\n",
    "          COUNT(DISTINCT p.user_id) AS users_cnt\n",
    "   FROM profile p\n",
    "   JOIN tools_shop.events e ON p.user_id = e.user_id\n",
    "   GROUP BY 1,\n",
    "            2)\n",
    "SELECT start_mn,\n",
    "       event_mn,\n",
    "       users_cnt,\n",
    "       LAG(users_cnt) OVER (PARTITION BY start_mn ORDER BY event_mn) AS previous_day_users_cnt,\n",
    "       ROUND((1 - (users_cnt::numeric / LAG(users_cnt) OVER (PARTITION BY start_mn ORDER BY event_mn))) * 100, 2) AS churn_rate\n",
    "FROM sessions\n",
    "WHERE start_mn BETWEEN '2018-01-01' AND '2018-06-01'\n",
    "  AND event_mn BETWEEN '2018-01-01' AND '2018-12-01';'''"
   ]
  },
  {
   "cell_type": "code",
   "execution_count": 13,
   "id": "45e3d2b3",
   "metadata": {},
   "outputs": [],
   "source": [
    "churn_rate_df = pd.read_sql_query(query, con = engine)"
   ]
  },
  {
   "cell_type": "code",
   "execution_count": 14,
   "id": "3fda86ea",
   "metadata": {
    "scrolled": true
   },
   "outputs": [
    {
     "data": {
      "text/html": [
       "<div>\n",
       "<style scoped>\n",
       "    .dataframe tbody tr th:only-of-type {\n",
       "        vertical-align: middle;\n",
       "    }\n",
       "\n",
       "    .dataframe tbody tr th {\n",
       "        vertical-align: top;\n",
       "    }\n",
       "\n",
       "    .dataframe thead th {\n",
       "        text-align: right;\n",
       "    }\n",
       "</style>\n",
       "<table border=\"1\" class=\"dataframe\">\n",
       "  <thead>\n",
       "    <tr style=\"text-align: right;\">\n",
       "      <th></th>\n",
       "      <th>start_mn</th>\n",
       "      <th>event_mn</th>\n",
       "      <th>users_cnt</th>\n",
       "      <th>previous_day_users_cnt</th>\n",
       "      <th>churn_rate</th>\n",
       "    </tr>\n",
       "  </thead>\n",
       "  <tbody>\n",
       "    <tr>\n",
       "      <th>0</th>\n",
       "      <td>2018-01-01</td>\n",
       "      <td>2018-01-01</td>\n",
       "      <td>257</td>\n",
       "      <td>NaN</td>\n",
       "      <td>NaN</td>\n",
       "    </tr>\n",
       "    <tr>\n",
       "      <th>1</th>\n",
       "      <td>2018-01-01</td>\n",
       "      <td>2018-02-01</td>\n",
       "      <td>67</td>\n",
       "      <td>257.0</td>\n",
       "      <td>73.93</td>\n",
       "    </tr>\n",
       "    <tr>\n",
       "      <th>2</th>\n",
       "      <td>2018-01-01</td>\n",
       "      <td>2018-03-01</td>\n",
       "      <td>41</td>\n",
       "      <td>67.0</td>\n",
       "      <td>38.81</td>\n",
       "    </tr>\n",
       "    <tr>\n",
       "      <th>3</th>\n",
       "      <td>2018-01-01</td>\n",
       "      <td>2018-04-01</td>\n",
       "      <td>44</td>\n",
       "      <td>41.0</td>\n",
       "      <td>-7.32</td>\n",
       "    </tr>\n",
       "    <tr>\n",
       "      <th>4</th>\n",
       "      <td>2018-01-01</td>\n",
       "      <td>2018-05-01</td>\n",
       "      <td>42</td>\n",
       "      <td>44.0</td>\n",
       "      <td>4.55</td>\n",
       "    </tr>\n",
       "    <tr>\n",
       "      <th>5</th>\n",
       "      <td>2018-01-01</td>\n",
       "      <td>2018-06-01</td>\n",
       "      <td>21</td>\n",
       "      <td>42.0</td>\n",
       "      <td>50.00</td>\n",
       "    </tr>\n",
       "    <tr>\n",
       "      <th>6</th>\n",
       "      <td>2018-01-01</td>\n",
       "      <td>2018-07-01</td>\n",
       "      <td>11</td>\n",
       "      <td>21.0</td>\n",
       "      <td>47.62</td>\n",
       "    </tr>\n",
       "    <tr>\n",
       "      <th>7</th>\n",
       "      <td>2018-01-01</td>\n",
       "      <td>2018-08-01</td>\n",
       "      <td>3</td>\n",
       "      <td>11.0</td>\n",
       "      <td>72.73</td>\n",
       "    </tr>\n",
       "    <tr>\n",
       "      <th>8</th>\n",
       "      <td>2018-02-01</td>\n",
       "      <td>2018-02-01</td>\n",
       "      <td>226</td>\n",
       "      <td>NaN</td>\n",
       "      <td>NaN</td>\n",
       "    </tr>\n",
       "    <tr>\n",
       "      <th>9</th>\n",
       "      <td>2018-02-01</td>\n",
       "      <td>2018-03-01</td>\n",
       "      <td>59</td>\n",
       "      <td>226.0</td>\n",
       "      <td>73.89</td>\n",
       "    </tr>\n",
       "    <tr>\n",
       "      <th>10</th>\n",
       "      <td>2018-02-01</td>\n",
       "      <td>2018-04-01</td>\n",
       "      <td>42</td>\n",
       "      <td>59.0</td>\n",
       "      <td>28.81</td>\n",
       "    </tr>\n",
       "    <tr>\n",
       "      <th>11</th>\n",
       "      <td>2018-02-01</td>\n",
       "      <td>2018-05-01</td>\n",
       "      <td>46</td>\n",
       "      <td>42.0</td>\n",
       "      <td>-9.52</td>\n",
       "    </tr>\n",
       "    <tr>\n",
       "      <th>12</th>\n",
       "      <td>2018-02-01</td>\n",
       "      <td>2018-06-01</td>\n",
       "      <td>20</td>\n",
       "      <td>46.0</td>\n",
       "      <td>56.52</td>\n",
       "    </tr>\n",
       "    <tr>\n",
       "      <th>13</th>\n",
       "      <td>2018-02-01</td>\n",
       "      <td>2018-07-01</td>\n",
       "      <td>13</td>\n",
       "      <td>20.0</td>\n",
       "      <td>35.00</td>\n",
       "    </tr>\n",
       "    <tr>\n",
       "      <th>14</th>\n",
       "      <td>2018-02-01</td>\n",
       "      <td>2018-08-01</td>\n",
       "      <td>8</td>\n",
       "      <td>13.0</td>\n",
       "      <td>38.46</td>\n",
       "    </tr>\n",
       "    <tr>\n",
       "      <th>15</th>\n",
       "      <td>2018-03-01</td>\n",
       "      <td>2018-03-01</td>\n",
       "      <td>260</td>\n",
       "      <td>NaN</td>\n",
       "      <td>NaN</td>\n",
       "    </tr>\n",
       "    <tr>\n",
       "      <th>16</th>\n",
       "      <td>2018-03-01</td>\n",
       "      <td>2018-04-01</td>\n",
       "      <td>62</td>\n",
       "      <td>260.0</td>\n",
       "      <td>76.15</td>\n",
       "    </tr>\n",
       "    <tr>\n",
       "      <th>17</th>\n",
       "      <td>2018-03-01</td>\n",
       "      <td>2018-05-01</td>\n",
       "      <td>37</td>\n",
       "      <td>62.0</td>\n",
       "      <td>40.32</td>\n",
       "    </tr>\n",
       "    <tr>\n",
       "      <th>18</th>\n",
       "      <td>2018-03-01</td>\n",
       "      <td>2018-06-01</td>\n",
       "      <td>42</td>\n",
       "      <td>37.0</td>\n",
       "      <td>-13.51</td>\n",
       "    </tr>\n",
       "    <tr>\n",
       "      <th>19</th>\n",
       "      <td>2018-03-01</td>\n",
       "      <td>2018-07-01</td>\n",
       "      <td>29</td>\n",
       "      <td>42.0</td>\n",
       "      <td>30.95</td>\n",
       "    </tr>\n",
       "    <tr>\n",
       "      <th>20</th>\n",
       "      <td>2018-03-01</td>\n",
       "      <td>2018-08-01</td>\n",
       "      <td>19</td>\n",
       "      <td>29.0</td>\n",
       "      <td>34.48</td>\n",
       "    </tr>\n",
       "    <tr>\n",
       "      <th>21</th>\n",
       "      <td>2018-03-01</td>\n",
       "      <td>2018-09-01</td>\n",
       "      <td>7</td>\n",
       "      <td>19.0</td>\n",
       "      <td>63.16</td>\n",
       "    </tr>\n",
       "    <tr>\n",
       "      <th>22</th>\n",
       "      <td>2018-03-01</td>\n",
       "      <td>2018-10-01</td>\n",
       "      <td>2</td>\n",
       "      <td>7.0</td>\n",
       "      <td>71.43</td>\n",
       "    </tr>\n",
       "    <tr>\n",
       "      <th>23</th>\n",
       "      <td>2018-03-01</td>\n",
       "      <td>2018-12-01</td>\n",
       "      <td>1</td>\n",
       "      <td>2.0</td>\n",
       "      <td>50.00</td>\n",
       "    </tr>\n",
       "    <tr>\n",
       "      <th>24</th>\n",
       "      <td>2018-04-01</td>\n",
       "      <td>2018-04-01</td>\n",
       "      <td>264</td>\n",
       "      <td>NaN</td>\n",
       "      <td>NaN</td>\n",
       "    </tr>\n",
       "    <tr>\n",
       "      <th>25</th>\n",
       "      <td>2018-04-01</td>\n",
       "      <td>2018-05-01</td>\n",
       "      <td>59</td>\n",
       "      <td>264.0</td>\n",
       "      <td>77.65</td>\n",
       "    </tr>\n",
       "    <tr>\n",
       "      <th>26</th>\n",
       "      <td>2018-04-01</td>\n",
       "      <td>2018-06-01</td>\n",
       "      <td>41</td>\n",
       "      <td>59.0</td>\n",
       "      <td>30.51</td>\n",
       "    </tr>\n",
       "    <tr>\n",
       "      <th>27</th>\n",
       "      <td>2018-04-01</td>\n",
       "      <td>2018-07-01</td>\n",
       "      <td>47</td>\n",
       "      <td>41.0</td>\n",
       "      <td>-14.63</td>\n",
       "    </tr>\n",
       "    <tr>\n",
       "      <th>28</th>\n",
       "      <td>2018-04-01</td>\n",
       "      <td>2018-08-01</td>\n",
       "      <td>26</td>\n",
       "      <td>47.0</td>\n",
       "      <td>44.68</td>\n",
       "    </tr>\n",
       "    <tr>\n",
       "      <th>29</th>\n",
       "      <td>2018-04-01</td>\n",
       "      <td>2018-09-01</td>\n",
       "      <td>20</td>\n",
       "      <td>26.0</td>\n",
       "      <td>23.08</td>\n",
       "    </tr>\n",
       "    <tr>\n",
       "      <th>30</th>\n",
       "      <td>2018-04-01</td>\n",
       "      <td>2018-10-01</td>\n",
       "      <td>13</td>\n",
       "      <td>20.0</td>\n",
       "      <td>35.00</td>\n",
       "    </tr>\n",
       "    <tr>\n",
       "      <th>31</th>\n",
       "      <td>2018-05-01</td>\n",
       "      <td>2018-05-01</td>\n",
       "      <td>280</td>\n",
       "      <td>NaN</td>\n",
       "      <td>NaN</td>\n",
       "    </tr>\n",
       "    <tr>\n",
       "      <th>32</th>\n",
       "      <td>2018-05-01</td>\n",
       "      <td>2018-06-01</td>\n",
       "      <td>52</td>\n",
       "      <td>280.0</td>\n",
       "      <td>81.43</td>\n",
       "    </tr>\n",
       "    <tr>\n",
       "      <th>33</th>\n",
       "      <td>2018-05-01</td>\n",
       "      <td>2018-07-01</td>\n",
       "      <td>53</td>\n",
       "      <td>52.0</td>\n",
       "      <td>-1.92</td>\n",
       "    </tr>\n",
       "    <tr>\n",
       "      <th>34</th>\n",
       "      <td>2018-05-01</td>\n",
       "      <td>2018-08-01</td>\n",
       "      <td>46</td>\n",
       "      <td>53.0</td>\n",
       "      <td>13.21</td>\n",
       "    </tr>\n",
       "    <tr>\n",
       "      <th>35</th>\n",
       "      <td>2018-05-01</td>\n",
       "      <td>2018-09-01</td>\n",
       "      <td>35</td>\n",
       "      <td>46.0</td>\n",
       "      <td>23.91</td>\n",
       "    </tr>\n",
       "    <tr>\n",
       "      <th>36</th>\n",
       "      <td>2018-05-01</td>\n",
       "      <td>2018-10-01</td>\n",
       "      <td>26</td>\n",
       "      <td>35.0</td>\n",
       "      <td>25.71</td>\n",
       "    </tr>\n",
       "    <tr>\n",
       "      <th>37</th>\n",
       "      <td>2018-05-01</td>\n",
       "      <td>2018-11-01</td>\n",
       "      <td>7</td>\n",
       "      <td>26.0</td>\n",
       "      <td>73.08</td>\n",
       "    </tr>\n",
       "    <tr>\n",
       "      <th>38</th>\n",
       "      <td>2018-06-01</td>\n",
       "      <td>2018-06-01</td>\n",
       "      <td>261</td>\n",
       "      <td>NaN</td>\n",
       "      <td>NaN</td>\n",
       "    </tr>\n",
       "    <tr>\n",
       "      <th>39</th>\n",
       "      <td>2018-06-01</td>\n",
       "      <td>2018-07-01</td>\n",
       "      <td>68</td>\n",
       "      <td>261.0</td>\n",
       "      <td>73.95</td>\n",
       "    </tr>\n",
       "    <tr>\n",
       "      <th>40</th>\n",
       "      <td>2018-06-01</td>\n",
       "      <td>2018-08-01</td>\n",
       "      <td>32</td>\n",
       "      <td>68.0</td>\n",
       "      <td>52.94</td>\n",
       "    </tr>\n",
       "    <tr>\n",
       "      <th>41</th>\n",
       "      <td>2018-06-01</td>\n",
       "      <td>2018-09-01</td>\n",
       "      <td>37</td>\n",
       "      <td>32.0</td>\n",
       "      <td>-15.63</td>\n",
       "    </tr>\n",
       "    <tr>\n",
       "      <th>42</th>\n",
       "      <td>2018-06-01</td>\n",
       "      <td>2018-10-01</td>\n",
       "      <td>28</td>\n",
       "      <td>37.0</td>\n",
       "      <td>24.32</td>\n",
       "    </tr>\n",
       "    <tr>\n",
       "      <th>43</th>\n",
       "      <td>2018-06-01</td>\n",
       "      <td>2018-11-01</td>\n",
       "      <td>22</td>\n",
       "      <td>28.0</td>\n",
       "      <td>21.43</td>\n",
       "    </tr>\n",
       "    <tr>\n",
       "      <th>44</th>\n",
       "      <td>2018-06-01</td>\n",
       "      <td>2018-12-01</td>\n",
       "      <td>10</td>\n",
       "      <td>22.0</td>\n",
       "      <td>54.55</td>\n",
       "    </tr>\n",
       "  </tbody>\n",
       "</table>\n",
       "</div>"
      ],
      "text/plain": [
       "      start_mn    event_mn  users_cnt  previous_day_users_cnt  churn_rate\n",
       "0   2018-01-01  2018-01-01        257                     NaN         NaN\n",
       "1   2018-01-01  2018-02-01         67                   257.0       73.93\n",
       "2   2018-01-01  2018-03-01         41                    67.0       38.81\n",
       "3   2018-01-01  2018-04-01         44                    41.0       -7.32\n",
       "4   2018-01-01  2018-05-01         42                    44.0        4.55\n",
       "5   2018-01-01  2018-06-01         21                    42.0       50.00\n",
       "6   2018-01-01  2018-07-01         11                    21.0       47.62\n",
       "7   2018-01-01  2018-08-01          3                    11.0       72.73\n",
       "8   2018-02-01  2018-02-01        226                     NaN         NaN\n",
       "9   2018-02-01  2018-03-01         59                   226.0       73.89\n",
       "10  2018-02-01  2018-04-01         42                    59.0       28.81\n",
       "11  2018-02-01  2018-05-01         46                    42.0       -9.52\n",
       "12  2018-02-01  2018-06-01         20                    46.0       56.52\n",
       "13  2018-02-01  2018-07-01         13                    20.0       35.00\n",
       "14  2018-02-01  2018-08-01          8                    13.0       38.46\n",
       "15  2018-03-01  2018-03-01        260                     NaN         NaN\n",
       "16  2018-03-01  2018-04-01         62                   260.0       76.15\n",
       "17  2018-03-01  2018-05-01         37                    62.0       40.32\n",
       "18  2018-03-01  2018-06-01         42                    37.0      -13.51\n",
       "19  2018-03-01  2018-07-01         29                    42.0       30.95\n",
       "20  2018-03-01  2018-08-01         19                    29.0       34.48\n",
       "21  2018-03-01  2018-09-01          7                    19.0       63.16\n",
       "22  2018-03-01  2018-10-01          2                     7.0       71.43\n",
       "23  2018-03-01  2018-12-01          1                     2.0       50.00\n",
       "24  2018-04-01  2018-04-01        264                     NaN         NaN\n",
       "25  2018-04-01  2018-05-01         59                   264.0       77.65\n",
       "26  2018-04-01  2018-06-01         41                    59.0       30.51\n",
       "27  2018-04-01  2018-07-01         47                    41.0      -14.63\n",
       "28  2018-04-01  2018-08-01         26                    47.0       44.68\n",
       "29  2018-04-01  2018-09-01         20                    26.0       23.08\n",
       "30  2018-04-01  2018-10-01         13                    20.0       35.00\n",
       "31  2018-05-01  2018-05-01        280                     NaN         NaN\n",
       "32  2018-05-01  2018-06-01         52                   280.0       81.43\n",
       "33  2018-05-01  2018-07-01         53                    52.0       -1.92\n",
       "34  2018-05-01  2018-08-01         46                    53.0       13.21\n",
       "35  2018-05-01  2018-09-01         35                    46.0       23.91\n",
       "36  2018-05-01  2018-10-01         26                    35.0       25.71\n",
       "37  2018-05-01  2018-11-01          7                    26.0       73.08\n",
       "38  2018-06-01  2018-06-01        261                     NaN         NaN\n",
       "39  2018-06-01  2018-07-01         68                   261.0       73.95\n",
       "40  2018-06-01  2018-08-01         32                    68.0       52.94\n",
       "41  2018-06-01  2018-09-01         37                    32.0      -15.63\n",
       "42  2018-06-01  2018-10-01         28                    37.0       24.32\n",
       "43  2018-06-01  2018-11-01         22                    28.0       21.43\n",
       "44  2018-06-01  2018-12-01         10                    22.0       54.55"
      ]
     },
     "execution_count": 14,
     "metadata": {},
     "output_type": "execute_result"
    }
   ],
   "source": [
    "churn_rate_df"
   ]
  },
  {
   "cell_type": "code",
   "execution_count": 21,
   "id": "e1a00782",
   "metadata": {},
   "outputs": [
    {
     "data": {
      "image/png": "[encoded data removed]",
      "text/plain": [
       "<Figure size 720x720 with 2 Axes>"
      ]
     },
     "metadata": {
      "needs_background": "light"
     },
     "output_type": "display_data"
    }
   ],
   "source": [
    "# создаём сводную таблицу с результатами\n",
    "churn = churn_rate_df.pivot('start_mn', 'event_mn', 'churn_rate')\n",
    "churn.index = [str(x)[0:10] for x in churn.index]\n",
    "churn.columns = [str(x)[0:10] for x in churn.columns]\n",
    "\n",
    "# строим хитмэп\n",
    "plt.figure(figsize=(10, 10)) # задаём размер графика\n",
    "sns.heatmap(churn, # датафрейм с данными\n",
    "            annot=True, # добавляем подписи\n",
    "            fmt='') # задаём исходный формат\n",
    "plt.title('Тепловая карта') # название графика\n",
    "plt.show()"
   ]
  },
  {
   "cell_type": "code",
   "execution_count": 16,
   "id": "3fecf4f9",
   "metadata": {},
   "outputs": [],
   "source": [
    "query = '''\n",
    "EXPLAIN ANALYZE\n",
    "SELECT order_id,\n",
    "       o.user_id,\n",
    "       user_orders_cnt\n",
    "FROM tools_shop.orders o JOIN\n",
    "  (SELECT user_id, \n",
    "          COUNT(*) AS user_orders_cnt\n",
    "   FROM tools_shop.orders\n",
    "   GROUP BY 1) uo ON uo.user_id = o.user_id;\n",
    "'''"
   ]
  },
  {
   "cell_type": "code",
   "execution_count": 17,
   "id": "2a14d189",
   "metadata": {},
   "outputs": [],
   "source": [
    "df = pd.read_sql_query(query, con = engine)"
   ]
  },
  {
   "cell_type": "code",
   "execution_count": 18,
   "id": "93a1db2c",
   "metadata": {},
   "outputs": [
    {
     "data": {
      "text/html": [
       "<div>\n",
       "<style scoped>\n",
       "    .dataframe tbody tr th:only-of-type {\n",
       "        vertical-align: middle;\n",
       "    }\n",
       "\n",
       "    .dataframe tbody tr th {\n",
       "        vertical-align: top;\n",
       "    }\n",
       "\n",
       "    .dataframe thead th {\n",
       "        text-align: right;\n",
       "    }\n",
       "</style>\n",
       "<table border=\"1\" class=\"dataframe\">\n",
       "  <thead>\n",
       "    <tr style=\"text-align: right;\">\n",
       "      <th></th>\n",
       "      <th>QUERY PLAN</th>\n",
       "    </tr>\n",
       "  </thead>\n",
       "  <tbody>\n",
       "    <tr>\n",
       "      <th>0</th>\n",
       "      <td>Hash Join  (cost=1011.11..1409.63 rows=18971 w...</td>\n",
       "    </tr>\n",
       "    <tr>\n",
       "      <th>1</th>\n",
       "      <td>Hash Cond: (o.user_id = uo.user_id)</td>\n",
       "    </tr>\n",
       "    <tr>\n",
       "      <th>2</th>\n",
       "      <td>-&gt;  Seq Scan on orders o  (cost=0.00..348.71...</td>\n",
       "    </tr>\n",
       "    <tr>\n",
       "      <th>3</th>\n",
       "      <td>-&gt;  Hash  (cost=792.83..792.83 rows=17463 wi...</td>\n",
       "    </tr>\n",
       "    <tr>\n",
       "      <th>4</th>\n",
       "      <td>Buckets: 32768  Batches: 1  Memory Usa...</td>\n",
       "    </tr>\n",
       "    <tr>\n",
       "      <th>5</th>\n",
       "      <td>-&gt;  Subquery Scan on uo  (cost=443.57....</td>\n",
       "    </tr>\n",
       "    <tr>\n",
       "      <th>6</th>\n",
       "      <td>-&gt;  HashAggregate  (cost=443.57....</td>\n",
       "    </tr>\n",
       "    <tr>\n",
       "      <th>7</th>\n",
       "      <td>Group Key: orders.user_id</td>\n",
       "    </tr>\n",
       "    <tr>\n",
       "      <th>8</th>\n",
       "      <td>-&gt;  Seq Scan on orders  (c...</td>\n",
       "    </tr>\n",
       "    <tr>\n",
       "      <th>9</th>\n",
       "      <td>Planning Time: 0.212 ms</td>\n",
       "    </tr>\n",
       "    <tr>\n",
       "      <th>10</th>\n",
       "      <td>Execution Time: 18.726 ms</td>\n",
       "    </tr>\n",
       "  </tbody>\n",
       "</table>\n",
       "</div>"
      ],
      "text/plain": [
       "                                           QUERY PLAN\n",
       "0   Hash Join  (cost=1011.11..1409.63 rows=18971 w...\n",
       "1                 Hash Cond: (o.user_id = uo.user_id)\n",
       "2     ->  Seq Scan on orders o  (cost=0.00..348.71...\n",
       "3     ->  Hash  (cost=792.83..792.83 rows=17463 wi...\n",
       "4           Buckets: 32768  Batches: 1  Memory Usa...\n",
       "5           ->  Subquery Scan on uo  (cost=443.57....\n",
       "6                 ->  HashAggregate  (cost=443.57....\n",
       "7                           Group Key: orders.user_id\n",
       "8                       ->  Seq Scan on orders  (c...\n",
       "9                             Planning Time: 0.212 ms\n",
       "10                          Execution Time: 18.726 ms"
      ]
     },
     "execution_count": 18,
     "metadata": {},
     "output_type": "execute_result"
    }
   ],
   "source": [
    "df"
   ]
  },
  {
   "cell_type": "code",
   "execution_count": 19,
   "id": "12bba2eb",
   "metadata": {},
   "outputs": [],
   "source": [
    "query = '''\n",
    "EXPLAIN ANALYZE\n",
    "SELECT order_id,\n",
    "       user_id,\n",
    "       COUNT(*) OVER (PARTITION BY user_id) AS user_orders_cnt\n",
    "FROM tools_shop.orders;\n",
    "'''"
   ]
  },
  {
   "cell_type": "code",
   "execution_count": 20,
   "id": "a3c78f3a",
   "metadata": {},
   "outputs": [
    {
     "data": {
      "text/html": [
       "<div>\n",
       "<style scoped>\n",
       "    .dataframe tbody tr th:only-of-type {\n",
       "        vertical-align: middle;\n",
       "    }\n",
       "\n",
       "    .dataframe tbody tr th {\n",
       "        vertical-align: top;\n",
       "    }\n",
       "\n",
       "    .dataframe thead th {\n",
       "        text-align: right;\n",
       "    }\n",
       "</style>\n",
       "<table border=\"1\" class=\"dataframe\">\n",
       "  <thead>\n",
       "    <tr style=\"text-align: right;\">\n",
       "      <th></th>\n",
       "      <th>QUERY PLAN</th>\n",
       "    </tr>\n",
       "  </thead>\n",
       "  <tbody>\n",
       "    <tr>\n",
       "      <th>0</th>\n",
       "      <td>WindowAgg  (cost=1696.74..2028.74 rows=18971 w...</td>\n",
       "    </tr>\n",
       "    <tr>\n",
       "      <th>1</th>\n",
       "      <td>-&gt;  Sort  (cost=1696.74..1744.17 rows=18971 ...</td>\n",
       "    </tr>\n",
       "    <tr>\n",
       "      <th>2</th>\n",
       "      <td>Sort Key: user_id</td>\n",
       "    </tr>\n",
       "    <tr>\n",
       "      <th>3</th>\n",
       "      <td>Sort Method: quicksort  Memory: 1658kB</td>\n",
       "    </tr>\n",
       "    <tr>\n",
       "      <th>4</th>\n",
       "      <td>-&gt;  Seq Scan on orders  (cost=0.00..34...</td>\n",
       "    </tr>\n",
       "    <tr>\n",
       "      <th>5</th>\n",
       "      <td>Planning Time: 0.043 ms</td>\n",
       "    </tr>\n",
       "    <tr>\n",
       "      <th>6</th>\n",
       "      <td>Execution Time: 16.467 ms</td>\n",
       "    </tr>\n",
       "  </tbody>\n",
       "</table>\n",
       "</div>"
      ],
      "text/plain": [
       "                                          QUERY PLAN\n",
       "0  WindowAgg  (cost=1696.74..2028.74 rows=18971 w...\n",
       "1    ->  Sort  (cost=1696.74..1744.17 rows=18971 ...\n",
       "2                                  Sort Key: user_id\n",
       "3             Sort Method: quicksort  Memory: 1658kB\n",
       "4          ->  Seq Scan on orders  (cost=0.00..34...\n",
       "5                            Planning Time: 0.043 ms\n",
       "6                          Execution Time: 16.467 ms"
      ]
     },
     "execution_count": 20,
     "metadata": {},
     "output_type": "execute_result"
    }
   ],
   "source": [
    "pd.read_sql_query(query, con = engine)"
   ]
  },
  {
   "cell_type": "code",
   "execution_count": null,
   "id": "0214e081",
   "metadata": {},
   "outputs": [],
   "source": []
  }
 ],
 "metadata": {
  "kernelspec": {
   "display_name": "Python 3 (ipykernel)",
   "language": "python",
   "name": "python3"
  },
  "language_info": {
   "codemirror_mode": {
    "name": "ipython",
    "version": 3
   },
   "file_extension": ".py",
   "mimetype": "text/x-python",
   "name": "python",
   "nbconvert_exporter": "python",
   "pygments_lexer": "ipython3",
   "version": "3.9.12"
  },
  "nbTranslate": {
   "displayLangs": [
    "*"
   ],
   "hotkey": "alt-t",
   "langInMainMenu": true,
   "sourceLang": "en",
   "targetLang": "fr",
   "useGoogleTranslate": true
  },
  "toc": {
   "base_numbering": 1,
   "nav_menu": {},
   "number_sections": true,
   "sideBar": true,
   "skip_h1_title": true,
   "title_cell": "Table of Contents",
   "title_sidebar": "Contents",
   "toc_cell": false,
   "toc_position": {},
   "toc_section_display": true,
   "toc_window_display": true
  },
  "varInspector": {
   "cols": {
    "lenName": 16,
    "lenType": 16,
    "lenVar": 40
   },
   "kernels_config": {
    "python": {
     "delete_cmd_postfix": "",
     "delete_cmd_prefix": "del ",
     "library": "var_list.py",
     "varRefreshCmd": "print(var_dic_list())"
    },
    "r": {
     "delete_cmd_postfix": ") ",
     "delete_cmd_prefix": "rm(",
     "library": "var_list.r",
     "varRefreshCmd": "cat(var_dic_list()) "
    }
   },
   "types_to_exclude": [
    "module",
    "function",
    "builtin_function_or_method",
    "instance",
    "_Feature"
   ],
   "window_display": false
  }
 },
 "nbformat": 4,
 "nbformat_minor": 5
}
