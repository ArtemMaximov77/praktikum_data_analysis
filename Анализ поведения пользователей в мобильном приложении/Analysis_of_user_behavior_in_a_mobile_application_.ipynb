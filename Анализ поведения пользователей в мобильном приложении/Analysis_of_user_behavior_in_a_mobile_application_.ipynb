{
 "cells": [
  {
   "cell_type": "markdown",
   "metadata": {},
   "source": [
    "# Анализ поведения пользователей в мобильном приложении"
   ]
  },
  {
   "cell_type": "markdown",
   "metadata": {},
   "source": [
    "# Описание проекта"
   ]
  },
  {
   "cell_type": "markdown",
   "metadata": {},
   "source": [
    "Вы работаете в стартапе, который продаёт продукты питания. Нужно разобраться, как ведут себя пользователи вашего мобильного приложения."
   ]
  },
  {
   "cell_type": "markdown",
   "metadata": {},
   "source": [
    "# Исходные данные"
   ]
  },
  {
   "cell_type": "markdown",
   "metadata": {},
   "source": [
    "Данные содержатся в файле logs_exp.csv.  \n",
    "Каждая запись в логе — это действие пользователя, или событие.  \n",
    "`EventName` — название события;  \n",
    "`DeviceIDHash` — уникальный идентификатор пользователя;  \n",
    "`EventTimestamp` — время события;  \n",
    "`ExpId` — номер эксперимента: 246 и 247 — контрольные группы, а 248 — экспериментальная."
   ]
  },
  {
   "cell_type": "code",
   "execution_count": null,
   "metadata": {},
   "outputs": [],
   "source": [
    "import pandas as pd\n",
    "import numpy as np\n",
    "import math as mth\n",
    "from datetime import datetime as dt\n",
    "import matplotlib.pyplot as plt\n",
    "import seaborn as sns\n",
    "import plotly.express as px\n",
    "from plotly import graph_objects as go\n",
    "from scipy import stats as st"
   ]
  },
  {
   "cell_type": "markdown",
   "metadata": {},
   "source": [
    "## Откройте файл с данными и изучите общую информацию"
   ]
  },
  {
   "cell_type": "code",
   "execution_count": 2,
   "metadata": {},
   "outputs": [],
   "source": [
    "try:\n",
    "    logs_exp = pd.read_csv('C:\\\\Users\\\\Arwin77\\\\Documents\\\\Python Scripts\\\\logs_exp.csv', sep='\\t')\n",
    "except FileNotFoundError:\n",
    "    logs_exp = pd.read_csv('/datasets/logs_exp.csv', sep='\\t')"
   ]
  },
  {
   "cell_type": "code",
   "execution_count": 3,
   "metadata": {},
   "outputs": [
    {
     "data": {
      "text/html": [
       "<div>\n",
       "<style scoped>\n",
       "    .dataframe tbody tr th:only-of-type {\n",
       "        vertical-align: middle;\n",
       "    }\n",
       "\n",
       "    .dataframe tbody tr th {\n",
       "        vertical-align: top;\n",
       "    }\n",
       "\n",
       "    .dataframe thead th {\n",
       "        text-align: right;\n",
       "    }\n",
       "</style>\n",
       "<table border=\"1\" class=\"dataframe\">\n",
       "  <thead>\n",
       "    <tr style=\"text-align: right;\">\n",
       "      <th></th>\n",
       "      <th>EventName</th>\n",
       "      <th>DeviceIDHash</th>\n",
       "      <th>EventTimestamp</th>\n",
       "      <th>ExpId</th>\n",
       "    </tr>\n",
       "  </thead>\n",
       "  <tbody>\n",
       "    <tr>\n",
       "      <th>0</th>\n",
       "      <td>MainScreenAppear</td>\n",
       "      <td>4575588528974610257</td>\n",
       "      <td>1564029816</td>\n",
       "      <td>246</td>\n",
       "    </tr>\n",
       "    <tr>\n",
       "      <th>1</th>\n",
       "      <td>MainScreenAppear</td>\n",
       "      <td>7416695313311560658</td>\n",
       "      <td>1564053102</td>\n",
       "      <td>246</td>\n",
       "    </tr>\n",
       "    <tr>\n",
       "      <th>2</th>\n",
       "      <td>PaymentScreenSuccessful</td>\n",
       "      <td>3518123091307005509</td>\n",
       "      <td>1564054127</td>\n",
       "      <td>248</td>\n",
       "    </tr>\n",
       "    <tr>\n",
       "      <th>3</th>\n",
       "      <td>CartScreenAppear</td>\n",
       "      <td>3518123091307005509</td>\n",
       "      <td>1564054127</td>\n",
       "      <td>248</td>\n",
       "    </tr>\n",
       "    <tr>\n",
       "      <th>4</th>\n",
       "      <td>PaymentScreenSuccessful</td>\n",
       "      <td>6217807653094995999</td>\n",
       "      <td>1564055322</td>\n",
       "      <td>248</td>\n",
       "    </tr>\n",
       "  </tbody>\n",
       "</table>\n",
       "</div>"
      ],
      "text/plain": [
       "                 EventName         DeviceIDHash  EventTimestamp  ExpId\n",
       "0         MainScreenAppear  4575588528974610257      1564029816    246\n",
       "1         MainScreenAppear  7416695313311560658      1564053102    246\n",
       "2  PaymentScreenSuccessful  3518123091307005509      1564054127    248\n",
       "3         CartScreenAppear  3518123091307005509      1564054127    248\n",
       "4  PaymentScreenSuccessful  6217807653094995999      1564055322    248"
      ]
     },
     "execution_count": 3,
     "metadata": {},
     "output_type": "execute_result"
    }
   ],
   "source": [
    "logs_exp.head()"
   ]
  },
  {
   "cell_type": "code",
   "execution_count": 4,
   "metadata": {},
   "outputs": [
    {
     "name": "stdout",
     "output_type": "stream",
     "text": [
      "<class 'pandas.core.frame.DataFrame'>\n",
      "RangeIndex: 244126 entries, 0 to 244125\n",
      "Data columns (total 4 columns):\n",
      " #   Column          Non-Null Count   Dtype \n",
      "---  ------          --------------   ----- \n",
      " 0   EventName       244126 non-null  object\n",
      " 1   DeviceIDHash    244126 non-null  int64 \n",
      " 2   EventTimestamp  244126 non-null  int64 \n",
      " 3   ExpId           244126 non-null  int64 \n",
      "dtypes: int64(3), object(1)\n",
      "memory usage: 7.5+ MB\n"
     ]
    }
   ],
   "source": [
    "logs_exp.info()"
   ]
  },
  {
   "cell_type": "markdown",
   "metadata": {},
   "source": [
    "**Вывод по разделу**  \n",
    "\n",
    "Представленные данные имеют 244126 строки, 4 колонки.  \n",
    "Пропущенные значения отсутствуют.\n",
    "Имеются полные дубликаты.\n",
    "Необходимо:  \n",
    "- перевести тип колонки `EventTimestamp` из `int64` в `datetime`.  \n",
    "- убрать `camel case`;  \n",
    "- убрать дубликаты."
   ]
  },
  {
   "cell_type": "markdown",
   "metadata": {},
   "source": [
    "## Подготовьте данные"
   ]
  },
  {
   "cell_type": "markdown",
   "metadata": {},
   "source": [
    "### Замените названия столбцов на удобные для вас"
   ]
  },
  {
   "cell_type": "code",
   "execution_count": 5,
   "metadata": {},
   "outputs": [],
   "source": [
    "logs_exp.columns = logs_exp.columns.str.replace(\" \", \"_\").str.lower()"
   ]
  },
  {
   "cell_type": "markdown",
   "metadata": {},
   "source": [
    "### Проверьте пропуски и типы данных. Откорректируйте, если нужно"
   ]
  },
  {
   "cell_type": "code",
   "execution_count": 6,
   "metadata": {},
   "outputs": [
    {
     "data": {
      "text/plain": [
       "413"
      ]
     },
     "execution_count": 6,
     "metadata": {},
     "output_type": "execute_result"
    }
   ],
   "source": [
    "logs_exp.duplicated().sum()"
   ]
  },
  {
   "cell_type": "code",
   "execution_count": 7,
   "metadata": {},
   "outputs": [
    {
     "data": {
      "text/html": [
       "<div>\n",
       "<style scoped>\n",
       "    .dataframe tbody tr th:only-of-type {\n",
       "        vertical-align: middle;\n",
       "    }\n",
       "\n",
       "    .dataframe tbody tr th {\n",
       "        vertical-align: top;\n",
       "    }\n",
       "\n",
       "    .dataframe thead th {\n",
       "        text-align: right;\n",
       "    }\n",
       "</style>\n",
       "<table border=\"1\" class=\"dataframe\">\n",
       "  <thead>\n",
       "    <tr style=\"text-align: right;\">\n",
       "      <th></th>\n",
       "      <th>eventname</th>\n",
       "      <th>deviceidhash</th>\n",
       "      <th>eventtimestamp</th>\n",
       "      <th>expid</th>\n",
       "    </tr>\n",
       "  </thead>\n",
       "  <tbody>\n",
       "    <tr>\n",
       "      <th>0</th>\n",
       "      <td>MainScreenAppear</td>\n",
       "      <td>4575588528974610257</td>\n",
       "      <td>1564029816</td>\n",
       "      <td>246</td>\n",
       "    </tr>\n",
       "    <tr>\n",
       "      <th>1</th>\n",
       "      <td>MainScreenAppear</td>\n",
       "      <td>7416695313311560658</td>\n",
       "      <td>1564053102</td>\n",
       "      <td>246</td>\n",
       "    </tr>\n",
       "    <tr>\n",
       "      <th>2</th>\n",
       "      <td>PaymentScreenSuccessful</td>\n",
       "      <td>3518123091307005509</td>\n",
       "      <td>1564054127</td>\n",
       "      <td>248</td>\n",
       "    </tr>\n",
       "    <tr>\n",
       "      <th>3</th>\n",
       "      <td>CartScreenAppear</td>\n",
       "      <td>3518123091307005509</td>\n",
       "      <td>1564054127</td>\n",
       "      <td>248</td>\n",
       "    </tr>\n",
       "    <tr>\n",
       "      <th>4</th>\n",
       "      <td>PaymentScreenSuccessful</td>\n",
       "      <td>6217807653094995999</td>\n",
       "      <td>1564055322</td>\n",
       "      <td>248</td>\n",
       "    </tr>\n",
       "  </tbody>\n",
       "</table>\n",
       "</div>"
      ],
      "text/plain": [
       "                 eventname         deviceidhash  eventtimestamp  expid\n",
       "0         MainScreenAppear  4575588528974610257      1564029816    246\n",
       "1         MainScreenAppear  7416695313311560658      1564053102    246\n",
       "2  PaymentScreenSuccessful  3518123091307005509      1564054127    248\n",
       "3         CartScreenAppear  3518123091307005509      1564054127    248\n",
       "4  PaymentScreenSuccessful  6217807653094995999      1564055322    248"
      ]
     },
     "execution_count": 7,
     "metadata": {},
     "output_type": "execute_result"
    }
   ],
   "source": [
    "logs_exp = logs_exp.drop_duplicates()\n",
    "logs_exp.head()"
   ]
  },
  {
   "cell_type": "markdown",
   "metadata": {},
   "source": [
    "### Добавьте столбец даты и времени, а также отдельный столбец дат"
   ]
  },
  {
   "cell_type": "code",
   "execution_count": 8,
   "metadata": {},
   "outputs": [
    {
     "data": {
      "text/html": [
       "<div>\n",
       "<style scoped>\n",
       "    .dataframe tbody tr th:only-of-type {\n",
       "        vertical-align: middle;\n",
       "    }\n",
       "\n",
       "    .dataframe tbody tr th {\n",
       "        vertical-align: top;\n",
       "    }\n",
       "\n",
       "    .dataframe thead th {\n",
       "        text-align: right;\n",
       "    }\n",
       "</style>\n",
       "<table border=\"1\" class=\"dataframe\">\n",
       "  <thead>\n",
       "    <tr style=\"text-align: right;\">\n",
       "      <th></th>\n",
       "      <th>eventname</th>\n",
       "      <th>deviceidhash</th>\n",
       "      <th>eventtimestamp</th>\n",
       "      <th>expid</th>\n",
       "      <th>datetime</th>\n",
       "      <th>date</th>\n",
       "    </tr>\n",
       "  </thead>\n",
       "  <tbody>\n",
       "    <tr>\n",
       "      <th>0</th>\n",
       "      <td>MainScreenAppear</td>\n",
       "      <td>4575588528974610257</td>\n",
       "      <td>1564029816</td>\n",
       "      <td>246</td>\n",
       "      <td>2019-07-25 04:43:36</td>\n",
       "      <td>2019-07-25</td>\n",
       "    </tr>\n",
       "    <tr>\n",
       "      <th>1</th>\n",
       "      <td>MainScreenAppear</td>\n",
       "      <td>7416695313311560658</td>\n",
       "      <td>1564053102</td>\n",
       "      <td>246</td>\n",
       "      <td>2019-07-25 11:11:42</td>\n",
       "      <td>2019-07-25</td>\n",
       "    </tr>\n",
       "    <tr>\n",
       "      <th>2</th>\n",
       "      <td>PaymentScreenSuccessful</td>\n",
       "      <td>3518123091307005509</td>\n",
       "      <td>1564054127</td>\n",
       "      <td>248</td>\n",
       "      <td>2019-07-25 11:28:47</td>\n",
       "      <td>2019-07-25</td>\n",
       "    </tr>\n",
       "    <tr>\n",
       "      <th>3</th>\n",
       "      <td>CartScreenAppear</td>\n",
       "      <td>3518123091307005509</td>\n",
       "      <td>1564054127</td>\n",
       "      <td>248</td>\n",
       "      <td>2019-07-25 11:28:47</td>\n",
       "      <td>2019-07-25</td>\n",
       "    </tr>\n",
       "    <tr>\n",
       "      <th>4</th>\n",
       "      <td>PaymentScreenSuccessful</td>\n",
       "      <td>6217807653094995999</td>\n",
       "      <td>1564055322</td>\n",
       "      <td>248</td>\n",
       "      <td>2019-07-25 11:48:42</td>\n",
       "      <td>2019-07-25</td>\n",
       "    </tr>\n",
       "  </tbody>\n",
       "</table>\n",
       "</div>"
      ],
      "text/plain": [
       "                 eventname         deviceidhash  eventtimestamp  expid  \\\n",
       "0         MainScreenAppear  4575588528974610257      1564029816    246   \n",
       "1         MainScreenAppear  7416695313311560658      1564053102    246   \n",
       "2  PaymentScreenSuccessful  3518123091307005509      1564054127    248   \n",
       "3         CartScreenAppear  3518123091307005509      1564054127    248   \n",
       "4  PaymentScreenSuccessful  6217807653094995999      1564055322    248   \n",
       "\n",
       "             datetime        date  \n",
       "0 2019-07-25 04:43:36  2019-07-25  \n",
       "1 2019-07-25 11:11:42  2019-07-25  \n",
       "2 2019-07-25 11:28:47  2019-07-25  \n",
       "3 2019-07-25 11:28:47  2019-07-25  \n",
       "4 2019-07-25 11:48:42  2019-07-25  "
      ]
     },
     "execution_count": 8,
     "metadata": {},
     "output_type": "execute_result"
    }
   ],
   "source": [
    "logs_exp['datetime'] = pd.to_datetime(logs_exp['eventtimestamp'], unit='s')\n",
    "logs_exp['date'] = logs_exp['datetime'].dt.strftime('%Y-%m-%d')#.astype('datetime64')\n",
    "logs_exp.head()"
   ]
  },
  {
   "cell_type": "code",
   "execution_count": 9,
   "metadata": {},
   "outputs": [
    {
     "name": "stdout",
     "output_type": "stream",
     "text": [
      "<class 'pandas.core.frame.DataFrame'>\n",
      "Int64Index: 243713 entries, 0 to 244125\n",
      "Data columns (total 6 columns):\n",
      " #   Column          Non-Null Count   Dtype         \n",
      "---  ------          --------------   -----         \n",
      " 0   eventname       243713 non-null  object        \n",
      " 1   deviceidhash    243713 non-null  int64         \n",
      " 2   eventtimestamp  243713 non-null  int64         \n",
      " 3   expid           243713 non-null  int64         \n",
      " 4   datetime        243713 non-null  datetime64[ns]\n",
      " 5   date            243713 non-null  object        \n",
      "dtypes: datetime64[ns](1), int64(3), object(2)\n",
      "memory usage: 13.0+ MB\n"
     ]
    }
   ],
   "source": [
    "logs_exp.info()"
   ]
  },
  {
   "cell_type": "code",
   "execution_count": 10,
   "metadata": {},
   "outputs": [
    {
     "data": {
      "text/html": [
       "<div>\n",
       "<style scoped>\n",
       "    .dataframe tbody tr th:only-of-type {\n",
       "        vertical-align: middle;\n",
       "    }\n",
       "\n",
       "    .dataframe tbody tr th {\n",
       "        vertical-align: top;\n",
       "    }\n",
       "\n",
       "    .dataframe thead th {\n",
       "        text-align: right;\n",
       "    }\n",
       "</style>\n",
       "<table border=\"1\" class=\"dataframe\">\n",
       "  <thead>\n",
       "    <tr style=\"text-align: right;\">\n",
       "      <th>expid</th>\n",
       "      <th>246</th>\n",
       "      <th>247</th>\n",
       "      <th>248</th>\n",
       "    </tr>\n",
       "    <tr>\n",
       "      <th>deviceidhash</th>\n",
       "      <th></th>\n",
       "      <th></th>\n",
       "      <th></th>\n",
       "    </tr>\n",
       "  </thead>\n",
       "  <tbody>\n",
       "    <tr>\n",
       "      <th>197027893265565660</th>\n",
       "      <td>1998</td>\n",
       "      <td>0</td>\n",
       "      <td>0</td>\n",
       "    </tr>\n",
       "    <tr>\n",
       "      <th>3337471580007169353</th>\n",
       "      <td>1186</td>\n",
       "      <td>0</td>\n",
       "      <td>0</td>\n",
       "    </tr>\n",
       "    <tr>\n",
       "      <th>7738058666231999878</th>\n",
       "      <td>888</td>\n",
       "      <td>0</td>\n",
       "      <td>0</td>\n",
       "    </tr>\n",
       "    <tr>\n",
       "      <th>1055544042902443290</th>\n",
       "      <td>854</td>\n",
       "      <td>0</td>\n",
       "      <td>0</td>\n",
       "    </tr>\n",
       "    <tr>\n",
       "      <th>8118046800480174342</th>\n",
       "      <td>755</td>\n",
       "      <td>0</td>\n",
       "      <td>0</td>\n",
       "    </tr>\n",
       "  </tbody>\n",
       "</table>\n",
       "</div>"
      ],
      "text/plain": [
       "expid                 246  247  248\n",
       "deviceidhash                       \n",
       "197027893265565660   1998    0    0\n",
       "3337471580007169353  1186    0    0\n",
       "7738058666231999878   888    0    0\n",
       "1055544042902443290   854    0    0\n",
       "8118046800480174342   755    0    0"
      ]
     },
     "execution_count": 10,
     "metadata": {},
     "output_type": "execute_result"
    }
   ],
   "source": [
    "# проверим отсутствие пересечения пользователей в группах\n",
    "pd.crosstab(logs_exp['deviceidhash'], logs_exp['expid']).sort_values(by=[246, 247,248], ascending=False).head()"
   ]
  },
  {
   "cell_type": "code",
   "execution_count": 12,
   "metadata": {},
   "outputs": [
    {
     "data": {
      "text/html": [
       "<div>\n",
       "<style scoped>\n",
       "    .dataframe tbody tr th:only-of-type {\n",
       "        vertical-align: middle;\n",
       "    }\n",
       "\n",
       "    .dataframe tbody tr th {\n",
       "        vertical-align: top;\n",
       "    }\n",
       "\n",
       "    .dataframe thead th {\n",
       "        text-align: right;\n",
       "    }\n",
       "</style>\n",
       "<table border=\"1\" class=\"dataframe\">\n",
       "  <thead>\n",
       "    <tr style=\"text-align: right;\">\n",
       "      <th></th>\n",
       "      <th>expid</th>\n",
       "    </tr>\n",
       "    <tr>\n",
       "      <th>deviceidhash</th>\n",
       "      <th></th>\n",
       "    </tr>\n",
       "  </thead>\n",
       "  <tbody>\n",
       "    <tr>\n",
       "      <th>6888746892508752</th>\n",
       "      <td>1</td>\n",
       "    </tr>\n",
       "    <tr>\n",
       "      <th>6207768971558512760</th>\n",
       "      <td>1</td>\n",
       "    </tr>\n",
       "    <tr>\n",
       "      <th>6217807653094995999</th>\n",
       "      <td>1</td>\n",
       "    </tr>\n",
       "    <tr>\n",
       "      <th>6217295124800833842</th>\n",
       "      <td>1</td>\n",
       "    </tr>\n",
       "    <tr>\n",
       "      <th>6216080220799726690</th>\n",
       "      <td>1</td>\n",
       "    </tr>\n",
       "  </tbody>\n",
       "</table>\n",
       "</div>"
      ],
      "text/plain": [
       "                     expid\n",
       "deviceidhash              \n",
       "6888746892508752         1\n",
       "6207768971558512760      1\n",
       "6217807653094995999      1\n",
       "6217295124800833842      1\n",
       "6216080220799726690      1"
      ]
     },
     "execution_count": 12,
     "metadata": {},
     "output_type": "execute_result"
    }
   ],
   "source": [
    "logs_exp.groupby(['deviceidhash']).agg({'expid': 'nunique'}).sort_values(by='expid', ascending=False).head()"
   ]
  },
  {
   "cell_type": "markdown",
   "metadata": {},
   "source": [
    "**Вывод по разделу**  \n",
    "\n",
    "Данные к анализу подготовленны:  \n",
    "- типы данных корректны;  \n",
    "- текстовые данные приведены к единому регистру;\n",
    "- пропусков не обаружено;\n",
    "- удалены явные дубликаты;\n",
    "- добавлены столбцы `datetime`, `date`;\n",
    "- пересечения пользователей в группах отсутствует."
   ]
  },
  {
   "cell_type": "markdown",
   "metadata": {},
   "source": [
    "## Изучите и проверьте данные"
   ]
  },
  {
   "cell_type": "markdown",
   "metadata": {},
   "source": [
    "### Сколько всего событий в логе?"
   ]
  },
  {
   "cell_type": "code",
   "execution_count": 13,
   "metadata": {},
   "outputs": [
    {
     "data": {
      "text/plain": [
       "243713"
      ]
     },
     "execution_count": 13,
     "metadata": {},
     "output_type": "execute_result"
    }
   ],
   "source": [
    "logs_exp['eventname'].count()"
   ]
  },
  {
   "cell_type": "code",
   "execution_count": 14,
   "metadata": {},
   "outputs": [
    {
     "data": {
      "text/html": [
       "<div>\n",
       "<style scoped>\n",
       "    .dataframe tbody tr th:only-of-type {\n",
       "        vertical-align: middle;\n",
       "    }\n",
       "\n",
       "    .dataframe tbody tr th {\n",
       "        vertical-align: top;\n",
       "    }\n",
       "\n",
       "    .dataframe thead th {\n",
       "        text-align: right;\n",
       "    }\n",
       "</style>\n",
       "<table border=\"1\" class=\"dataframe\">\n",
       "  <thead>\n",
       "    <tr style=\"text-align: right;\">\n",
       "      <th></th>\n",
       "      <th>eventname</th>\n",
       "      <th>countevent</th>\n",
       "      <th>fraction</th>\n",
       "    </tr>\n",
       "  </thead>\n",
       "  <tbody>\n",
       "    <tr>\n",
       "      <th>1</th>\n",
       "      <td>MainScreenAppear</td>\n",
       "      <td>119101</td>\n",
       "      <td>0.49</td>\n",
       "    </tr>\n",
       "    <tr>\n",
       "      <th>2</th>\n",
       "      <td>OffersScreenAppear</td>\n",
       "      <td>46808</td>\n",
       "      <td>0.19</td>\n",
       "    </tr>\n",
       "    <tr>\n",
       "      <th>0</th>\n",
       "      <td>CartScreenAppear</td>\n",
       "      <td>42668</td>\n",
       "      <td>0.18</td>\n",
       "    </tr>\n",
       "    <tr>\n",
       "      <th>3</th>\n",
       "      <td>PaymentScreenSuccessful</td>\n",
       "      <td>34118</td>\n",
       "      <td>0.14</td>\n",
       "    </tr>\n",
       "    <tr>\n",
       "      <th>4</th>\n",
       "      <td>Tutorial</td>\n",
       "      <td>1018</td>\n",
       "      <td>0.00</td>\n",
       "    </tr>\n",
       "  </tbody>\n",
       "</table>\n",
       "</div>"
      ],
      "text/plain": [
       "                 eventname  countevent  fraction\n",
       "1         MainScreenAppear      119101      0.49\n",
       "2       OffersScreenAppear       46808      0.19\n",
       "0         CartScreenAppear       42668      0.18\n",
       "3  PaymentScreenSuccessful       34118      0.14\n",
       "4                 Tutorial        1018      0.00"
      ]
     },
     "execution_count": 14,
     "metadata": {},
     "output_type": "execute_result"
    }
   ],
   "source": [
    "df = logs_exp.groupby('eventname').agg({'deviceidhash': 'count'})\\\n",
    "        .reset_index()\\\n",
    "        .rename(columns={'deviceidhash': 'countevent'})\\\n",
    "        .sort_values(by='countevent', ascending=False)\n",
    "df['fraction'] = round(df['countevent'] / logs_exp['eventname'].count(), 2)\n",
    "df"
   ]
  },
  {
   "cell_type": "markdown",
   "metadata": {},
   "source": [
    "Всего событий в логе 243713.  \n",
    "Событие `MainScreenAppear` имеет наибольшую долю от всех событий (49%), событие `Tutorial` имеет наименьшую долю (менее 1%)."
   ]
  },
  {
   "cell_type": "markdown",
   "metadata": {},
   "source": [
    "### Сколько всего пользователей в логе?"
   ]
  },
  {
   "cell_type": "code",
   "execution_count": 15,
   "metadata": {},
   "outputs": [
    {
     "data": {
      "text/plain": [
       "7551"
      ]
     },
     "execution_count": 15,
     "metadata": {},
     "output_type": "execute_result"
    }
   ],
   "source": [
    "users_total = logs_exp['deviceidhash'].nunique()\n",
    "users_total"
   ]
  },
  {
   "cell_type": "markdown",
   "metadata": {},
   "source": [
    "Всего уникальных пользователей в логе 7551."
   ]
  },
  {
   "cell_type": "markdown",
   "metadata": {},
   "source": [
    "### Сколько в среднем событий приходится на пользователя?"
   ]
  },
  {
   "cell_type": "code",
   "execution_count": 16,
   "metadata": {},
   "outputs": [
    {
     "data": {
      "text/plain": [
       "32"
      ]
     },
     "execution_count": 16,
     "metadata": {},
     "output_type": "execute_result"
    }
   ],
   "source": [
    "round(logs_exp['eventname'].count() / logs_exp['deviceidhash'].nunique())"
   ]
  },
  {
   "cell_type": "markdown",
   "metadata": {},
   "source": [
    "В среднем на каждого пользователя приходится 32 события. Но надо посмотреть выбросы."
   ]
  },
  {
   "cell_type": "code",
   "execution_count": 17,
   "metadata": {},
   "outputs": [],
   "source": [
    "df = logs_exp.groupby('deviceidhash').agg({'eventname': 'count'})\n",
    "#df"
   ]
  },
  {
   "cell_type": "code",
   "execution_count": null,
   "metadata": {
    "scrolled": false
   },
   "outputs": [],
   "source": [
    "fig = px.box(df, y=\"eventname\")\n",
    "fig.update_layout(\n",
    "    title=\"Boxplot числа событий на одного пользователя\",\n",
    "    yaxis_title=\"Количество событий, шт\",\n",
    "    font=dict(family=\"Times New Roman, monospace\",\n",
    "                size=18,\n",
    "                color=\"RebeccaPurple\")\n",
    ")\n",
    "\n",
    "fig.show()"
   ]
  },
  {
   "attachments": {
    "image.png": {
     "image/png": "[encoded data removed]"
    }
   },
   "cell_type": "markdown",
   "metadata": {},
   "source": [
    "![image.png](attachment:image.png)"
   ]
  },
  {
   "cell_type": "markdown",
   "metadata": {},
   "source": [
    "Видим выбросы, более 2000. Соответственно в данном случае лучше использовать медиану."
   ]
  },
  {
   "cell_type": "code",
   "execution_count": 19,
   "metadata": {},
   "outputs": [
    {
     "data": {
      "text/plain": [
       "eventname    20.0\n",
       "dtype: float64"
      ]
     },
     "execution_count": 19,
     "metadata": {},
     "output_type": "execute_result"
    }
   ],
   "source": [
    "df.median()"
   ]
  },
  {
   "cell_type": "markdown",
   "metadata": {},
   "source": [
    "В среднем на каждого пользователя приходится 20 событий."
   ]
  },
  {
   "cell_type": "markdown",
   "metadata": {},
   "source": [
    "### Данными за какой период вы располагаете? \n",
    "Найдите максимальную и минимальную дату.  \n",
    "Постройте гистограмму по дате и времени. Можно ли быть уверенным, что у вас одинаково полные данные за весь период?  \n",
    "Технически в логи новых дней по некоторым пользователям могут «доезжать» события из прошлого — это может «перекашивать данные». Определите, с какого момента данные полные и отбросьте более старые.  \n",
    "Данными за какой период времени вы располагаете на самом деле?"
   ]
  },
  {
   "cell_type": "code",
   "execution_count": 20,
   "metadata": {},
   "outputs": [
    {
     "data": {
      "text/plain": [
       "'2019-08-07'"
      ]
     },
     "execution_count": 20,
     "metadata": {},
     "output_type": "execute_result"
    }
   ],
   "source": [
    "logs_exp['date'].max()"
   ]
  },
  {
   "cell_type": "code",
   "execution_count": 21,
   "metadata": {},
   "outputs": [
    {
     "data": {
      "text/plain": [
       "'2019-07-25'"
      ]
     },
     "execution_count": 21,
     "metadata": {},
     "output_type": "execute_result"
    }
   ],
   "source": [
    "logs_exp['date'].min()"
   ]
  },
  {
   "cell_type": "code",
   "execution_count": null,
   "metadata": {
    "scrolled": true
   },
   "outputs": [],
   "source": [
    "fig = px.histogram(logs_exp['datetime'], marginal=\"box\")\n",
    "fig.update_layout(\n",
    "    title=\"Распределение событий по времени\",\n",
    "    xaxis_title=\"Время события\",\n",
    "    yaxis_title=\"Количество событий\",\n",
    "    legend_title=\"Легенда\",\n",
    "    font=dict(family=\"Times New Roman, monospace\",\n",
    "                size=18,\n",
    "                color=\"RebeccaPurple\")\n",
    ")\n",
    "fig.show()"
   ]
  },
  {
   "attachments": {
    "image.png": {
     "image/png": "[encoded data removed]"
    }
   },
   "cell_type": "markdown",
   "metadata": {},
   "source": [
    "![image.png](attachment:image.png)"
   ]
  },
  {
   "cell_type": "markdown",
   "metadata": {},
   "source": [
    "Данные имеют период с 2019-07-25 по 2019-08-07. По гистограмме событий видно, что до 1 августа количество событий минимально. Таким образом релевантные данные имеются в период с 2019-08-01 по 2019-08-07. Для дальнейшего анализа отбросим данные старше 2019-08-01."
   ]
  },
  {
   "cell_type": "code",
   "execution_count": 23,
   "metadata": {},
   "outputs": [
    {
     "data": {
      "text/html": [
       "<div>\n",
       "<style scoped>\n",
       "    .dataframe tbody tr th:only-of-type {\n",
       "        vertical-align: middle;\n",
       "    }\n",
       "\n",
       "    .dataframe tbody tr th {\n",
       "        vertical-align: top;\n",
       "    }\n",
       "\n",
       "    .dataframe thead th {\n",
       "        text-align: right;\n",
       "    }\n",
       "</style>\n",
       "<table border=\"1\" class=\"dataframe\">\n",
       "  <thead>\n",
       "    <tr style=\"text-align: right;\">\n",
       "      <th></th>\n",
       "      <th>eventname</th>\n",
       "      <th>deviceidhash</th>\n",
       "      <th>eventtimestamp</th>\n",
       "      <th>expid</th>\n",
       "      <th>datetime</th>\n",
       "      <th>date</th>\n",
       "    </tr>\n",
       "  </thead>\n",
       "  <tbody>\n",
       "    <tr>\n",
       "      <th>2828</th>\n",
       "      <td>Tutorial</td>\n",
       "      <td>3737462046622621720</td>\n",
       "      <td>1564618048</td>\n",
       "      <td>246</td>\n",
       "      <td>2019-08-01 00:07:28</td>\n",
       "      <td>2019-08-01</td>\n",
       "    </tr>\n",
       "    <tr>\n",
       "      <th>2829</th>\n",
       "      <td>MainScreenAppear</td>\n",
       "      <td>3737462046622621720</td>\n",
       "      <td>1564618080</td>\n",
       "      <td>246</td>\n",
       "      <td>2019-08-01 00:08:00</td>\n",
       "      <td>2019-08-01</td>\n",
       "    </tr>\n",
       "    <tr>\n",
       "      <th>2830</th>\n",
       "      <td>MainScreenAppear</td>\n",
       "      <td>3737462046622621720</td>\n",
       "      <td>1564618135</td>\n",
       "      <td>246</td>\n",
       "      <td>2019-08-01 00:08:55</td>\n",
       "      <td>2019-08-01</td>\n",
       "    </tr>\n",
       "    <tr>\n",
       "      <th>2831</th>\n",
       "      <td>OffersScreenAppear</td>\n",
       "      <td>3737462046622621720</td>\n",
       "      <td>1564618138</td>\n",
       "      <td>246</td>\n",
       "      <td>2019-08-01 00:08:58</td>\n",
       "      <td>2019-08-01</td>\n",
       "    </tr>\n",
       "    <tr>\n",
       "      <th>2832</th>\n",
       "      <td>MainScreenAppear</td>\n",
       "      <td>1433840883824088890</td>\n",
       "      <td>1564618139</td>\n",
       "      <td>247</td>\n",
       "      <td>2019-08-01 00:08:59</td>\n",
       "      <td>2019-08-01</td>\n",
       "    </tr>\n",
       "  </tbody>\n",
       "</table>\n",
       "</div>"
      ],
      "text/plain": [
       "               eventname         deviceidhash  eventtimestamp  expid  \\\n",
       "2828            Tutorial  3737462046622621720      1564618048    246   \n",
       "2829    MainScreenAppear  3737462046622621720      1564618080    246   \n",
       "2830    MainScreenAppear  3737462046622621720      1564618135    246   \n",
       "2831  OffersScreenAppear  3737462046622621720      1564618138    246   \n",
       "2832    MainScreenAppear  1433840883824088890      1564618139    247   \n",
       "\n",
       "                datetime        date  \n",
       "2828 2019-08-01 00:07:28  2019-08-01  \n",
       "2829 2019-08-01 00:08:00  2019-08-01  \n",
       "2830 2019-08-01 00:08:55  2019-08-01  \n",
       "2831 2019-08-01 00:08:58  2019-08-01  \n",
       "2832 2019-08-01 00:08:59  2019-08-01  "
      ]
     },
     "execution_count": 23,
     "metadata": {},
     "output_type": "execute_result"
    }
   ],
   "source": [
    "logs_exp_new = logs_exp[logs_exp['date'] >= '2019-08-01']\n",
    "logs_exp_new.head()"
   ]
  },
  {
   "cell_type": "markdown",
   "metadata": {},
   "source": [
    "### Много ли событий и пользователей вы потеряли, отбросив старые данные?"
   ]
  },
  {
   "cell_type": "code",
   "execution_count": 24,
   "metadata": {},
   "outputs": [
    {
     "data": {
      "text/plain": [
       "1.16"
      ]
     },
     "execution_count": 24,
     "metadata": {},
     "output_type": "execute_result"
    }
   ],
   "source": [
    "round(100 * (logs_exp.shape[0] - logs_exp_new.shape[0]) / logs_exp.shape[0], 2)"
   ]
  },
  {
   "cell_type": "code",
   "execution_count": 26,
   "metadata": {},
   "outputs": [
    {
     "data": {
      "text/plain": [
       "0.23"
      ]
     },
     "execution_count": 26,
     "metadata": {},
     "output_type": "execute_result"
    }
   ],
   "source": [
    "round(100 * (logs_exp['deviceidhash'].nunique() - logs_exp_new['deviceidhash'].nunique()) / logs_exp['deviceidhash']\\\n",
    "          .nunique(), 2)"
   ]
  },
  {
   "cell_type": "markdown",
   "metadata": {},
   "source": [
    "Отбросив старые данные мы потеряли незначительное количество событий (1.16%) и пользователей (0.23%)."
   ]
  },
  {
   "cell_type": "markdown",
   "metadata": {},
   "source": [
    "### Проверьте, что у вас есть пользователи из всех трёх экспериментальных групп."
   ]
  },
  {
   "cell_type": "code",
   "execution_count": 29,
   "metadata": {},
   "outputs": [
    {
     "data": {
      "text/html": [
       "<div>\n",
       "<style scoped>\n",
       "    .dataframe tbody tr th:only-of-type {\n",
       "        vertical-align: middle;\n",
       "    }\n",
       "\n",
       "    .dataframe tbody tr th {\n",
       "        vertical-align: top;\n",
       "    }\n",
       "\n",
       "    .dataframe thead th {\n",
       "        text-align: right;\n",
       "    }\n",
       "</style>\n",
       "<table border=\"1\" class=\"dataframe\">\n",
       "  <thead>\n",
       "    <tr style=\"text-align: right;\">\n",
       "      <th></th>\n",
       "      <th>deviceidhash</th>\n",
       "      <th>expid</th>\n",
       "    </tr>\n",
       "    <tr>\n",
       "      <th>expid</th>\n",
       "      <th></th>\n",
       "      <th></th>\n",
       "    </tr>\n",
       "  </thead>\n",
       "  <tbody>\n",
       "    <tr>\n",
       "      <th>246</th>\n",
       "      <td>2484</td>\n",
       "      <td>79302</td>\n",
       "    </tr>\n",
       "    <tr>\n",
       "      <th>247</th>\n",
       "      <td>2513</td>\n",
       "      <td>77022</td>\n",
       "    </tr>\n",
       "    <tr>\n",
       "      <th>248</th>\n",
       "      <td>2537</td>\n",
       "      <td>84563</td>\n",
       "    </tr>\n",
       "  </tbody>\n",
       "</table>\n",
       "</div>"
      ],
      "text/plain": [
       "       deviceidhash  expid\n",
       "expid                     \n",
       "246            2484  79302\n",
       "247            2513  77022\n",
       "248            2537  84563"
      ]
     },
     "execution_count": 29,
     "metadata": {},
     "output_type": "execute_result"
    }
   ],
   "source": [
    "logs_exp_new.groupby('expid').agg({'deviceidhash': 'nunique', 'expid': 'count'})"
   ]
  },
  {
   "cell_type": "markdown",
   "metadata": {},
   "source": [
    "**Вывод по разделу**  \n",
    "- Всего событий в логе 243713.  \n",
    "- Событие `MainScreenAppear` имеет наибольшую долю от всех событий (49%), событие `Tutorial` имеет наименьшую долю (менее 1%).  \n",
    "- Всего уникальных пользователей в логе 7551.  \n",
    "- В среднем на каждого пользователя приходится 20 событий.\n",
    "- В процессе предобработки данных были исключены для дальнейшего анализа данные старше 2019-08-01. Отбросив старые данные мы потеряли незначительное количество событий (1.16%) и пользователей (0.23%).  \n",
    "- Пользователи распределены равномерно по всем группам."
   ]
  },
  {
   "cell_type": "markdown",
   "metadata": {},
   "source": [
    "## Изучите воронку событий"
   ]
  },
  {
   "cell_type": "markdown",
   "metadata": {},
   "source": [
    "### Посмотрите, какие события есть в логах, как часто они встречаются. Отсортируйте события по частоте."
   ]
  },
  {
   "cell_type": "code",
   "execution_count": 30,
   "metadata": {},
   "outputs": [
    {
     "data": {
      "text/html": [
       "<div>\n",
       "<style scoped>\n",
       "    .dataframe tbody tr th:only-of-type {\n",
       "        vertical-align: middle;\n",
       "    }\n",
       "\n",
       "    .dataframe tbody tr th {\n",
       "        vertical-align: top;\n",
       "    }\n",
       "\n",
       "    .dataframe thead th {\n",
       "        text-align: right;\n",
       "    }\n",
       "</style>\n",
       "<table border=\"1\" class=\"dataframe\">\n",
       "  <thead>\n",
       "    <tr style=\"text-align: right;\">\n",
       "      <th></th>\n",
       "      <th>eventname</th>\n",
       "      <th>total</th>\n",
       "    </tr>\n",
       "  </thead>\n",
       "  <tbody>\n",
       "    <tr>\n",
       "      <th>1</th>\n",
       "      <td>MainScreenAppear</td>\n",
       "      <td>117328</td>\n",
       "    </tr>\n",
       "    <tr>\n",
       "      <th>2</th>\n",
       "      <td>OffersScreenAppear</td>\n",
       "      <td>46333</td>\n",
       "    </tr>\n",
       "    <tr>\n",
       "      <th>0</th>\n",
       "      <td>CartScreenAppear</td>\n",
       "      <td>42303</td>\n",
       "    </tr>\n",
       "    <tr>\n",
       "      <th>3</th>\n",
       "      <td>PaymentScreenSuccessful</td>\n",
       "      <td>33918</td>\n",
       "    </tr>\n",
       "    <tr>\n",
       "      <th>4</th>\n",
       "      <td>Tutorial</td>\n",
       "      <td>1005</td>\n",
       "    </tr>\n",
       "  </tbody>\n",
       "</table>\n",
       "</div>"
      ],
      "text/plain": [
       "                 eventname   total\n",
       "1         MainScreenAppear  117328\n",
       "2       OffersScreenAppear   46333\n",
       "0         CartScreenAppear   42303\n",
       "3  PaymentScreenSuccessful   33918\n",
       "4                 Tutorial    1005"
      ]
     },
     "execution_count": 30,
     "metadata": {},
     "output_type": "execute_result"
    }
   ],
   "source": [
    "logs_exp_new.groupby('eventname', as_index=False).agg({'deviceidhash': 'count'})\\\n",
    "        .rename(columns={'deviceidhash': 'total'})\\\n",
    "        .sort_values(by='total', ascending=False)"
   ]
  },
  {
   "cell_type": "markdown",
   "metadata": {},
   "source": [
    "### Посчитайте, сколько пользователей совершали каждое из этих событий. Отсортируйте события по числу пользователей. Посчитайте долю пользователей, которые хоть раз совершали событие."
   ]
  },
  {
   "cell_type": "code",
   "execution_count": 31,
   "metadata": {},
   "outputs": [
    {
     "data": {
      "text/html": [
       "<div>\n",
       "<style scoped>\n",
       "    .dataframe tbody tr th:only-of-type {\n",
       "        vertical-align: middle;\n",
       "    }\n",
       "\n",
       "    .dataframe tbody tr th {\n",
       "        vertical-align: top;\n",
       "    }\n",
       "\n",
       "    .dataframe thead th {\n",
       "        text-align: right;\n",
       "    }\n",
       "</style>\n",
       "<table border=\"1\" class=\"dataframe\">\n",
       "  <thead>\n",
       "    <tr style=\"text-align: right;\">\n",
       "      <th></th>\n",
       "      <th>eventname</th>\n",
       "      <th>users</th>\n",
       "      <th>event_total</th>\n",
       "      <th>fraction</th>\n",
       "    </tr>\n",
       "  </thead>\n",
       "  <tbody>\n",
       "    <tr>\n",
       "      <th>0</th>\n",
       "      <td>MainScreenAppear</td>\n",
       "      <td>7419</td>\n",
       "      <td>117328</td>\n",
       "      <td>98.25</td>\n",
       "    </tr>\n",
       "    <tr>\n",
       "      <th>1</th>\n",
       "      <td>OffersScreenAppear</td>\n",
       "      <td>4593</td>\n",
       "      <td>46333</td>\n",
       "      <td>60.83</td>\n",
       "    </tr>\n",
       "    <tr>\n",
       "      <th>2</th>\n",
       "      <td>CartScreenAppear</td>\n",
       "      <td>3734</td>\n",
       "      <td>42303</td>\n",
       "      <td>49.45</td>\n",
       "    </tr>\n",
       "    <tr>\n",
       "      <th>3</th>\n",
       "      <td>PaymentScreenSuccessful</td>\n",
       "      <td>3539</td>\n",
       "      <td>33918</td>\n",
       "      <td>46.87</td>\n",
       "    </tr>\n",
       "    <tr>\n",
       "      <th>4</th>\n",
       "      <td>Tutorial</td>\n",
       "      <td>840</td>\n",
       "      <td>1005</td>\n",
       "      <td>11.12</td>\n",
       "    </tr>\n",
       "  </tbody>\n",
       "</table>\n",
       "</div>"
      ],
      "text/plain": [
       "                 eventname  users  event_total  fraction\n",
       "0         MainScreenAppear   7419       117328     98.25\n",
       "1       OffersScreenAppear   4593        46333     60.83\n",
       "2         CartScreenAppear   3734        42303     49.45\n",
       "3  PaymentScreenSuccessful   3539        33918     46.87\n",
       "4                 Tutorial    840         1005     11.12"
      ]
     },
     "execution_count": 31,
     "metadata": {},
     "output_type": "execute_result"
    }
   ],
   "source": [
    "users = logs_exp_new.groupby('eventname').agg({'deviceidhash': 'nunique', 'eventname': 'count'})\\\n",
    "        .rename(columns={'deviceidhash': 'users', 'eventname': 'event_total'})\\\n",
    "        .sort_values(by='users', ascending=False)\\\n",
    "        .reset_index()\n",
    "users['fraction'] = round(100 * users['users'] / users_total, 2)\n",
    "users"
   ]
  },
  {
   "cell_type": "markdown",
   "metadata": {},
   "source": [
    "### Предположите, в каком порядке происходят события. Все ли они выстраиваются в последовательную цепочку? Их не нужно учитывать при расчёте воронки."
   ]
  },
  {
   "cell_type": "code",
   "execution_count": null,
   "metadata": {
    "scrolled": true
   },
   "outputs": [],
   "source": [
    "fig = px.histogram(users, x=\"eventname\", y=\"fraction\") #, text_auto=True)\n",
    "fig.update_layout(\n",
    "    title=\"Столбчатая диаграмма событий\",\n",
    "    xaxis_title=\"Событие\",\n",
    "    yaxis_title=\"Доля пользователей, %\",\n",
    "    font=dict(family=\"Times New Roman, monospace\",\n",
    "                size=18,\n",
    "                color=\"RebeccaPurple\")\n",
    ")\n",
    "fig.show()"
   ]
  },
  {
   "attachments": {
    "image.png": {
     "image/png": "[encoded data removed]"
    }
   },
   "cell_type": "markdown",
   "metadata": {},
   "source": [
    "![image.png](attachment:image.png)"
   ]
  },
  {
   "cell_type": "markdown",
   "metadata": {},
   "source": [
    "События происходят в следующем порядке:  \n",
    "- Открытие главного окна  \n",
    "- Открытие окна предложения\n",
    "- Открытие окна корзины  \n",
    "- Открытие окна оплаты  \n",
    "- Открытие окна руководства  \n",
    "Событие `Tutorial` особой пользы не имеет."
   ]
  },
  {
   "cell_type": "markdown",
   "metadata": {},
   "source": [
    "### По воронке событий посчитайте, какая доля пользователей проходит на следующий шаг воронки (от числа пользователей на предыдущем). \n",
    "То есть для последовательности событий A → B → C посчитайте отношение числа пользователей с событием B к количеству пользователей с событием A, а также отношение числа пользователей с событием C к количеству пользователей с событием B."
   ]
  },
  {
   "cell_type": "code",
   "execution_count": null,
   "metadata": {
    "scrolled": true
   },
   "outputs": [],
   "source": [
    "fig = go.Figure(go.Funnel(x=users['users'], y=users['eventname'], textinfo = \"value+percent initial+percent previous\"))\n",
    "fig.update_layout(\n",
    "    title=\"Воронка событий\",\n",
    "    font=dict(family=\"Times New Roman, monospace\",\n",
    "                size=18,\n",
    "                color=\"RebeccaPurple\")\n",
    ")\n",
    "fig.show();"
   ]
  },
  {
   "attachments": {
    "image.png": {
     "image/png": "[encoded data removed]"
    }
   },
   "cell_type": "markdown",
   "metadata": {},
   "source": [
    "![image.png](attachment:image.png)"
   ]
  },
  {
   "cell_type": "markdown",
   "metadata": {},
   "source": [
    "- 7419 пользователя открывали главную страницу приложения(MainScreenAppear). Надо заметить, что уникальных пользователей у нас 7551, соответственно не все пользователи начинали с главной страницы.   \n",
    "- 4593 пользователя открывали страницу с каталогом товаров(OffersScreenAppear) это 62% от пользователей перешедших с предыдушего шага. 38% пользователей не перешли на следующий шаг. Необходимо выяснить причину, возможно приложение не на всех устройствах работает корректно.  \n",
    "- 3734 пользователя открывали корзину(CartScreenAppear) это 50% пользователей от первого шага и 81% пользователей от предыдушего шага.  \n",
    "- 3539 пользователей открыли страницу с успешной оплатой(PaymentScreenSuccessful) это 48% пользователей от первого шага и 95% от предыдущего шага.  \n",
    "- 840 пользователей открывали руководство пользователя(Tutorial) это 11% пользователей от первого шага и 24% пользователей от предыдущего шага.\n"
   ]
  },
  {
   "cell_type": "markdown",
   "metadata": {},
   "source": [
    "### На каком шаге теряете больше всего пользователей?"
   ]
  },
  {
   "cell_type": "code",
   "execution_count": 34,
   "metadata": {},
   "outputs": [],
   "source": [
    "users['diff'] = users['users'].shift(1) - users['users']"
   ]
  },
  {
   "cell_type": "code",
   "execution_count": 35,
   "metadata": {},
   "outputs": [
    {
     "data": {
      "text/html": [
       "<div>\n",
       "<style scoped>\n",
       "    .dataframe tbody tr th:only-of-type {\n",
       "        vertical-align: middle;\n",
       "    }\n",
       "\n",
       "    .dataframe tbody tr th {\n",
       "        vertical-align: top;\n",
       "    }\n",
       "\n",
       "    .dataframe thead th {\n",
       "        text-align: right;\n",
       "    }\n",
       "</style>\n",
       "<table border=\"1\" class=\"dataframe\">\n",
       "  <thead>\n",
       "    <tr style=\"text-align: right;\">\n",
       "      <th></th>\n",
       "      <th>eventname</th>\n",
       "      <th>users</th>\n",
       "      <th>diff</th>\n",
       "    </tr>\n",
       "  </thead>\n",
       "  <tbody>\n",
       "    <tr>\n",
       "      <th>0</th>\n",
       "      <td>MainScreenAppear</td>\n",
       "      <td>7419</td>\n",
       "      <td>NaN</td>\n",
       "    </tr>\n",
       "    <tr>\n",
       "      <th>1</th>\n",
       "      <td>OffersScreenAppear</td>\n",
       "      <td>4593</td>\n",
       "      <td>2826.0</td>\n",
       "    </tr>\n",
       "    <tr>\n",
       "      <th>2</th>\n",
       "      <td>CartScreenAppear</td>\n",
       "      <td>3734</td>\n",
       "      <td>859.0</td>\n",
       "    </tr>\n",
       "    <tr>\n",
       "      <th>3</th>\n",
       "      <td>PaymentScreenSuccessful</td>\n",
       "      <td>3539</td>\n",
       "      <td>195.0</td>\n",
       "    </tr>\n",
       "    <tr>\n",
       "      <th>4</th>\n",
       "      <td>Tutorial</td>\n",
       "      <td>840</td>\n",
       "      <td>2699.0</td>\n",
       "    </tr>\n",
       "  </tbody>\n",
       "</table>\n",
       "</div>"
      ],
      "text/plain": [
       "                 eventname  users    diff\n",
       "0         MainScreenAppear   7419     NaN\n",
       "1       OffersScreenAppear   4593  2826.0\n",
       "2         CartScreenAppear   3734   859.0\n",
       "3  PaymentScreenSuccessful   3539   195.0\n",
       "4                 Tutorial    840  2699.0"
      ]
     },
     "execution_count": 35,
     "metadata": {},
     "output_type": "execute_result"
    }
   ],
   "source": [
    "users[['eventname', 'users', 'diff']]"
   ]
  },
  {
   "cell_type": "markdown",
   "metadata": {},
   "source": [
    "Больше всего пользователей (2826) теряется после первого шага, открытия главного окна (38%)."
   ]
  },
  {
   "cell_type": "markdown",
   "metadata": {},
   "source": [
    "### Какая доля пользователей доходит от первого события до оплаты?"
   ]
  },
  {
   "cell_type": "code",
   "execution_count": 36,
   "metadata": {},
   "outputs": [
    {
     "data": {
      "text/html": [
       "<div>\n",
       "<style scoped>\n",
       "    .dataframe tbody tr th:only-of-type {\n",
       "        vertical-align: middle;\n",
       "    }\n",
       "\n",
       "    .dataframe tbody tr th {\n",
       "        vertical-align: top;\n",
       "    }\n",
       "\n",
       "    .dataframe thead th {\n",
       "        text-align: right;\n",
       "    }\n",
       "</style>\n",
       "<table border=\"1\" class=\"dataframe\">\n",
       "  <thead>\n",
       "    <tr style=\"text-align: right;\">\n",
       "      <th></th>\n",
       "      <th>eventname</th>\n",
       "      <th>users</th>\n",
       "      <th>event_total</th>\n",
       "      <th>fraction</th>\n",
       "      <th>diff</th>\n",
       "      <th>fraction_step</th>\n",
       "    </tr>\n",
       "  </thead>\n",
       "  <tbody>\n",
       "    <tr>\n",
       "      <th>0</th>\n",
       "      <td>MainScreenAppear</td>\n",
       "      <td>7419</td>\n",
       "      <td>117328</td>\n",
       "      <td>98.25</td>\n",
       "      <td>NaN</td>\n",
       "      <td>100.0</td>\n",
       "    </tr>\n",
       "    <tr>\n",
       "      <th>1</th>\n",
       "      <td>OffersScreenAppear</td>\n",
       "      <td>4593</td>\n",
       "      <td>46333</td>\n",
       "      <td>60.83</td>\n",
       "      <td>2826.0</td>\n",
       "      <td>62.0</td>\n",
       "    </tr>\n",
       "    <tr>\n",
       "      <th>2</th>\n",
       "      <td>CartScreenAppear</td>\n",
       "      <td>3734</td>\n",
       "      <td>42303</td>\n",
       "      <td>49.45</td>\n",
       "      <td>859.0</td>\n",
       "      <td>50.0</td>\n",
       "    </tr>\n",
       "    <tr>\n",
       "      <th>3</th>\n",
       "      <td>PaymentScreenSuccessful</td>\n",
       "      <td>3539</td>\n",
       "      <td>33918</td>\n",
       "      <td>46.87</td>\n",
       "      <td>195.0</td>\n",
       "      <td>48.0</td>\n",
       "    </tr>\n",
       "    <tr>\n",
       "      <th>4</th>\n",
       "      <td>Tutorial</td>\n",
       "      <td>840</td>\n",
       "      <td>1005</td>\n",
       "      <td>11.12</td>\n",
       "      <td>2699.0</td>\n",
       "      <td>11.0</td>\n",
       "    </tr>\n",
       "  </tbody>\n",
       "</table>\n",
       "</div>"
      ],
      "text/plain": [
       "                 eventname  users  event_total  fraction    diff  \\\n",
       "0         MainScreenAppear   7419       117328     98.25     NaN   \n",
       "1       OffersScreenAppear   4593        46333     60.83  2826.0   \n",
       "2         CartScreenAppear   3734        42303     49.45   859.0   \n",
       "3  PaymentScreenSuccessful   3539        33918     46.87   195.0   \n",
       "4                 Tutorial    840         1005     11.12  2699.0   \n",
       "\n",
       "   fraction_step  \n",
       "0          100.0  \n",
       "1           62.0  \n",
       "2           50.0  \n",
       "3           48.0  \n",
       "4           11.0  "
      ]
     },
     "execution_count": 36,
     "metadata": {},
     "output_type": "execute_result"
    }
   ],
   "source": [
    "users['fraction_step'] = round(100 * users['users'] / users.loc[0, 'users'])\n",
    "users"
   ]
  },
  {
   "cell_type": "markdown",
   "metadata": {},
   "source": [
    "От открытия главного окна до окна оплаты доходит 48% пользователей"
   ]
  },
  {
   "cell_type": "markdown",
   "metadata": {},
   "source": [
    "**Вывод по разделу**  \n",
    "\n",
    "Воронка продаж имеет следующий вид:\n",
    "\n",
    "- `MainScreenAppear` - Открытие главного окна - Вход на сайт  \n",
    "- `OffersScreenAppear` - Открытие окна предложений - Поиск товара по каталогу  \n",
    "- `CartScreenAppear` - Открытие окна корзины - Добавление товара в корзину  \n",
    "- `PaymentScreenSuccessful` - Открытие окна оплаты - Оплата  \n",
    "- `Tutorial` - Открытие окна руководства - Изучение инструкции  \n",
    "\n",
    "На второй этап воронки переходит 62% пользователей, а 38% теряются. Здесь необходим дополнительный анализ почему так;\n",
    "\n",
    "Событие `Tutorial` не несет полезной нагрузки, поэтому его можно не принимать во внимание;\n",
    "\n",
    "От открытия главного окна до окна оплаты доходит 48% пользователей."
   ]
  },
  {
   "cell_type": "markdown",
   "metadata": {},
   "source": [
    "## Изучите результаты эксперимента"
   ]
  },
  {
   "cell_type": "markdown",
   "metadata": {},
   "source": [
    "### Сколько пользователей в каждой экспериментальной группе?"
   ]
  },
  {
   "cell_type": "code",
   "execution_count": 37,
   "metadata": {},
   "outputs": [
    {
     "data": {
      "text/html": [
       "<div>\n",
       "<style scoped>\n",
       "    .dataframe tbody tr th:only-of-type {\n",
       "        vertical-align: middle;\n",
       "    }\n",
       "\n",
       "    .dataframe tbody tr th {\n",
       "        vertical-align: top;\n",
       "    }\n",
       "\n",
       "    .dataframe thead th {\n",
       "        text-align: right;\n",
       "    }\n",
       "</style>\n",
       "<table border=\"1\" class=\"dataframe\">\n",
       "  <thead>\n",
       "    <tr style=\"text-align: right;\">\n",
       "      <th>expid</th>\n",
       "      <th>246</th>\n",
       "      <th>247</th>\n",
       "      <th>248</th>\n",
       "      <th>246+247</th>\n",
       "    </tr>\n",
       "  </thead>\n",
       "  <tbody>\n",
       "    <tr>\n",
       "      <th>deviceidhash</th>\n",
       "      <td>2484</td>\n",
       "      <td>2513</td>\n",
       "      <td>2537</td>\n",
       "      <td>4997</td>\n",
       "    </tr>\n",
       "  </tbody>\n",
       "</table>\n",
       "</div>"
      ],
      "text/plain": [
       "expid          246   247   248  246+247\n",
       "deviceidhash  2484  2513  2537     4997"
      ]
     },
     "execution_count": 37,
     "metadata": {},
     "output_type": "execute_result"
    }
   ],
   "source": [
    "users_in_group = logs_exp_new.groupby('expid').agg({'deviceidhash': 'nunique'}).T#.reset_index()\n",
    "users_in_group['246+247'] = users_in_group[246] + users_in_group[247]\n",
    "users_in_group"
   ]
  },
  {
   "cell_type": "markdown",
   "metadata": {},
   "source": [
    "### Есть 2 контрольные группы для А/А-эксперимента, чтобы проверить корректность всех механизмов и расчётов. Проверьте, находят ли статистические критерии разницу между выборками 246 и 247."
   ]
  },
  {
   "cell_type": "markdown",
   "metadata": {},
   "source": [
    "Подготовим данные для дальнейших статистических проверок."
   ]
  },
  {
   "cell_type": "code",
   "execution_count": 38,
   "metadata": {},
   "outputs": [],
   "source": [
    "event_group_test = logs_exp_new[logs_exp_new['eventname']!='Tutorial'].pivot_table(\n",
    "    index='eventname', \n",
    "    columns='expid', \n",
    "    values='deviceidhash',\n",
    "    aggfunc='nunique').sort_values(by=246, ascending=False)"
   ]
  },
  {
   "cell_type": "code",
   "execution_count": 39,
   "metadata": {},
   "outputs": [
    {
     "data": {
      "text/html": [
       "<div>\n",
       "<style scoped>\n",
       "    .dataframe tbody tr th:only-of-type {\n",
       "        vertical-align: middle;\n",
       "    }\n",
       "\n",
       "    .dataframe tbody tr th {\n",
       "        vertical-align: top;\n",
       "    }\n",
       "\n",
       "    .dataframe thead th {\n",
       "        text-align: right;\n",
       "    }\n",
       "</style>\n",
       "<table border=\"1\" class=\"dataframe\">\n",
       "  <thead>\n",
       "    <tr style=\"text-align: right;\">\n",
       "      <th>expid</th>\n",
       "      <th>eventname</th>\n",
       "      <th>246</th>\n",
       "      <th>247</th>\n",
       "      <th>248</th>\n",
       "    </tr>\n",
       "  </thead>\n",
       "  <tbody>\n",
       "    <tr>\n",
       "      <th>0</th>\n",
       "      <td>MainScreenAppear</td>\n",
       "      <td>2450</td>\n",
       "      <td>2476</td>\n",
       "      <td>2493</td>\n",
       "    </tr>\n",
       "    <tr>\n",
       "      <th>1</th>\n",
       "      <td>OffersScreenAppear</td>\n",
       "      <td>1542</td>\n",
       "      <td>1520</td>\n",
       "      <td>1531</td>\n",
       "    </tr>\n",
       "    <tr>\n",
       "      <th>2</th>\n",
       "      <td>CartScreenAppear</td>\n",
       "      <td>1266</td>\n",
       "      <td>1238</td>\n",
       "      <td>1230</td>\n",
       "    </tr>\n",
       "    <tr>\n",
       "      <th>3</th>\n",
       "      <td>PaymentScreenSuccessful</td>\n",
       "      <td>1200</td>\n",
       "      <td>1158</td>\n",
       "      <td>1181</td>\n",
       "    </tr>\n",
       "  </tbody>\n",
       "</table>\n",
       "</div>"
      ],
      "text/plain": [
       "expid                eventname   246   247   248\n",
       "0             MainScreenAppear  2450  2476  2493\n",
       "1           OffersScreenAppear  1542  1520  1531\n",
       "2             CartScreenAppear  1266  1238  1230\n",
       "3      PaymentScreenSuccessful  1200  1158  1181"
      ]
     },
     "execution_count": 39,
     "metadata": {},
     "output_type": "execute_result"
    }
   ],
   "source": [
    "event_group_test = event_group_test.reset_index()\n",
    "event_group_test"
   ]
  },
  {
   "cell_type": "code",
   "execution_count": 40,
   "metadata": {},
   "outputs": [],
   "source": [
    "event_group_test['246+247'] = event_group_test[246] + event_group_test[247]\n",
    "event_group_test['all'] = event_group_test['246+247'] + event_group_test[248]\n",
    "\n",
    "event_group_test['frac_246'] = round(100 * event_group_test[246] / users_in_group[246][0], 1)\n",
    "event_group_test['frac_247'] = round(100 * event_group_test[247] / users_in_group[247][0], 1)\n",
    "event_group_test['frac_248'] = round(100 * event_group_test[248] / users_in_group[248][0], 1)\n",
    "event_group_test['frac_246+247'] = round(100 * (event_group_test[246] + event_group_test[247]) /\\\n",
    "                                    (users_in_group[246][0] + users_in_group[246][0]), 1)"
   ]
  },
  {
   "cell_type": "code",
   "execution_count": 41,
   "metadata": {},
   "outputs": [
    {
     "data": {
      "text/html": [
       "<div>\n",
       "<style scoped>\n",
       "    .dataframe tbody tr th:only-of-type {\n",
       "        vertical-align: middle;\n",
       "    }\n",
       "\n",
       "    .dataframe tbody tr th {\n",
       "        vertical-align: top;\n",
       "    }\n",
       "\n",
       "    .dataframe thead th {\n",
       "        text-align: right;\n",
       "    }\n",
       "</style>\n",
       "<table border=\"1\" class=\"dataframe\">\n",
       "  <thead>\n",
       "    <tr style=\"text-align: right;\">\n",
       "      <th>expid</th>\n",
       "      <th>eventname</th>\n",
       "      <th>246</th>\n",
       "      <th>247</th>\n",
       "      <th>248</th>\n",
       "      <th>246+247</th>\n",
       "      <th>all</th>\n",
       "      <th>frac_246</th>\n",
       "      <th>frac_247</th>\n",
       "      <th>frac_248</th>\n",
       "      <th>frac_246+247</th>\n",
       "    </tr>\n",
       "  </thead>\n",
       "  <tbody>\n",
       "    <tr>\n",
       "      <th>0</th>\n",
       "      <td>MainScreenAppear</td>\n",
       "      <td>2450</td>\n",
       "      <td>2476</td>\n",
       "      <td>2493</td>\n",
       "      <td>4926</td>\n",
       "      <td>7419</td>\n",
       "      <td>98.6</td>\n",
       "      <td>98.5</td>\n",
       "      <td>98.3</td>\n",
       "      <td>99.2</td>\n",
       "    </tr>\n",
       "    <tr>\n",
       "      <th>1</th>\n",
       "      <td>OffersScreenAppear</td>\n",
       "      <td>1542</td>\n",
       "      <td>1520</td>\n",
       "      <td>1531</td>\n",
       "      <td>3062</td>\n",
       "      <td>4593</td>\n",
       "      <td>62.1</td>\n",
       "      <td>60.5</td>\n",
       "      <td>60.3</td>\n",
       "      <td>61.6</td>\n",
       "    </tr>\n",
       "    <tr>\n",
       "      <th>2</th>\n",
       "      <td>CartScreenAppear</td>\n",
       "      <td>1266</td>\n",
       "      <td>1238</td>\n",
       "      <td>1230</td>\n",
       "      <td>2504</td>\n",
       "      <td>3734</td>\n",
       "      <td>51.0</td>\n",
       "      <td>49.3</td>\n",
       "      <td>48.5</td>\n",
       "      <td>50.4</td>\n",
       "    </tr>\n",
       "    <tr>\n",
       "      <th>3</th>\n",
       "      <td>PaymentScreenSuccessful</td>\n",
       "      <td>1200</td>\n",
       "      <td>1158</td>\n",
       "      <td>1181</td>\n",
       "      <td>2358</td>\n",
       "      <td>3539</td>\n",
       "      <td>48.3</td>\n",
       "      <td>46.1</td>\n",
       "      <td>46.6</td>\n",
       "      <td>47.5</td>\n",
       "    </tr>\n",
       "  </tbody>\n",
       "</table>\n",
       "</div>"
      ],
      "text/plain": [
       "expid                eventname   246   247   248  246+247   all  frac_246  \\\n",
       "0             MainScreenAppear  2450  2476  2493     4926  7419      98.6   \n",
       "1           OffersScreenAppear  1542  1520  1531     3062  4593      62.1   \n",
       "2             CartScreenAppear  1266  1238  1230     2504  3734      51.0   \n",
       "3      PaymentScreenSuccessful  1200  1158  1181     2358  3539      48.3   \n",
       "\n",
       "expid  frac_247  frac_248  frac_246+247  \n",
       "0          98.5      98.3          99.2  \n",
       "1          60.5      60.3          61.6  \n",
       "2          49.3      48.5          50.4  \n",
       "3          46.1      46.6          47.5  "
      ]
     },
     "execution_count": 41,
     "metadata": {},
     "output_type": "execute_result"
    }
   ],
   "source": [
    "event_group_test"
   ]
  },
  {
   "cell_type": "markdown",
   "metadata": {},
   "source": [
    "Определим функцию `z_test` в которую будем передавать сравниваемые группы и уровень статистической значимости.  \n",
    "На выходе функции получаем р-значение и результат гипотезы по всем событиям.  \n",
    "\n",
    "Н_0: Доли в группах одинаковые.  \n",
    "Н_1: Доли в группах разные."
   ]
  },
  {
   "cell_type": "code",
   "execution_count": 42,
   "metadata": {},
   "outputs": [],
   "source": [
    "def z_test(group_1, group_2, alpha):\n",
    "    for i in event_group_test.index:\n",
    "        # пропорция успехов в первой группе:\n",
    "        p1 = event_group_test[group_1][i] / users_in_group[group_1][0]\n",
    "        # пропорция успехов во второй группе:\n",
    "        p2 = event_group_test[group_2][i] / users_in_group[group_2][0]\n",
    "        # пропорция успехов в комбинированном датасете:\n",
    "        p_combined = ((event_group_test[group_1][i] + event_group_test[group_2][i]) / \n",
    "                      (users_in_group[group_1][0] + users_in_group[group_2][0]))\n",
    "        # разница пропорций в датасетах\n",
    "        difference = p1 - p2\n",
    "        # считаем статистику в ст.отклонениях стандартного нормального распределения\n",
    "        z_value = difference / mth.sqrt(p_combined * (1 - p_combined) * \n",
    "                                        (1/users_in_group[group_1][0] + 1/users_in_group[group_2][0]))\n",
    "        # задаем стандартное нормальное распределение (среднее 0, ст.отклонение 1)\n",
    "        distr = st.norm(0, 1) \n",
    "        p_value = (1 - distr.cdf(abs(z_value))) * 2\n",
    "        print('{} p-значение: {}'.format(event_group_test['eventname'][i], p_value))\n",
    "        if (p_value < alpha):\n",
    "            print(\"Отвергаем нулевую гипотезу: между долями есть значимая разница\")\n",
    "        else:\n",
    "            print(\"Не получилось отвергнуть нулевую гипотезу, нет оснований считать доли разными\")\n",
    "        print('')"
   ]
  },
  {
   "cell_type": "code",
   "execution_count": 43,
   "metadata": {},
   "outputs": [
    {
     "name": "stdout",
     "output_type": "stream",
     "text": [
      "MainScreenAppear p-значение: 0.7570597232046099\n",
      "Не получилось отвергнуть нулевую гипотезу, нет оснований считать доли разными\n",
      "\n",
      "OffersScreenAppear p-значение: 0.2480954578522181\n",
      "Не получилось отвергнуть нулевую гипотезу, нет оснований считать доли разными\n",
      "\n",
      "CartScreenAppear p-значение: 0.22883372237997213\n",
      "Не получилось отвергнуть нулевую гипотезу, нет оснований считать доли разными\n",
      "\n",
      "PaymentScreenSuccessful p-значение: 0.11456679313141849\n",
      "Не получилось отвергнуть нулевую гипотезу, нет оснований считать доли разными\n",
      "\n"
     ]
    }
   ],
   "source": [
    "z_test(246, 247, 0.05)"
   ]
  },
  {
   "cell_type": "markdown",
   "metadata": {},
   "source": [
    "### Выберите самое популярное событие. "
   ]
  },
  {
   "cell_type": "code",
   "execution_count": 44,
   "metadata": {},
   "outputs": [
    {
     "data": {
      "text/plain": [
       "MainScreenAppear           117328\n",
       "OffersScreenAppear          46333\n",
       "CartScreenAppear            42303\n",
       "PaymentScreenSuccessful     33918\n",
       "Tutorial                     1005\n",
       "Name: eventname, dtype: int64"
      ]
     },
     "execution_count": 44,
     "metadata": {},
     "output_type": "execute_result"
    }
   ],
   "source": [
    "logs_exp_new['eventname'].value_counts()"
   ]
  },
  {
   "cell_type": "markdown",
   "metadata": {},
   "source": [
    "Самое популярное событие - `MainScreenAppear`."
   ]
  },
  {
   "cell_type": "markdown",
   "metadata": {},
   "source": [
    "- Посчитайте число пользователей, совершивших это событие в каждой из контрольных групп. "
   ]
  },
  {
   "cell_type": "code",
   "execution_count": 45,
   "metadata": {},
   "outputs": [
    {
     "data": {
      "text/html": [
       "<div>\n",
       "<style scoped>\n",
       "    .dataframe tbody tr th:only-of-type {\n",
       "        vertical-align: middle;\n",
       "    }\n",
       "\n",
       "    .dataframe tbody tr th {\n",
       "        vertical-align: top;\n",
       "    }\n",
       "\n",
       "    .dataframe thead th {\n",
       "        text-align: right;\n",
       "    }\n",
       "</style>\n",
       "<table border=\"1\" class=\"dataframe\">\n",
       "  <thead>\n",
       "    <tr style=\"text-align: right;\">\n",
       "      <th>expid</th>\n",
       "      <th>eventname</th>\n",
       "      <th>246</th>\n",
       "      <th>247</th>\n",
       "      <th>248</th>\n",
       "    </tr>\n",
       "  </thead>\n",
       "  <tbody>\n",
       "    <tr>\n",
       "      <th>0</th>\n",
       "      <td>MainScreenAppear</td>\n",
       "      <td>2450</td>\n",
       "      <td>2476</td>\n",
       "      <td>2493</td>\n",
       "    </tr>\n",
       "    <tr>\n",
       "      <th>1</th>\n",
       "      <td>OffersScreenAppear</td>\n",
       "      <td>1542</td>\n",
       "      <td>1520</td>\n",
       "      <td>1531</td>\n",
       "    </tr>\n",
       "    <tr>\n",
       "      <th>2</th>\n",
       "      <td>CartScreenAppear</td>\n",
       "      <td>1266</td>\n",
       "      <td>1238</td>\n",
       "      <td>1230</td>\n",
       "    </tr>\n",
       "    <tr>\n",
       "      <th>3</th>\n",
       "      <td>PaymentScreenSuccessful</td>\n",
       "      <td>1200</td>\n",
       "      <td>1158</td>\n",
       "      <td>1181</td>\n",
       "    </tr>\n",
       "  </tbody>\n",
       "</table>\n",
       "</div>"
      ],
      "text/plain": [
       "expid                eventname   246   247   248\n",
       "0             MainScreenAppear  2450  2476  2493\n",
       "1           OffersScreenAppear  1542  1520  1531\n",
       "2             CartScreenAppear  1266  1238  1230\n",
       "3      PaymentScreenSuccessful  1200  1158  1181"
      ]
     },
     "execution_count": 45,
     "metadata": {},
     "output_type": "execute_result"
    }
   ],
   "source": [
    "event_group_test[['eventname', 246, 247, 248]]"
   ]
  },
  {
   "cell_type": "markdown",
   "metadata": {},
   "source": [
    "- Посчитайте долю пользователей, совершивших это событие. "
   ]
  },
  {
   "cell_type": "code",
   "execution_count": 46,
   "metadata": {},
   "outputs": [
    {
     "data": {
      "text/html": [
       "<div>\n",
       "<style scoped>\n",
       "    .dataframe tbody tr th:only-of-type {\n",
       "        vertical-align: middle;\n",
       "    }\n",
       "\n",
       "    .dataframe tbody tr th {\n",
       "        vertical-align: top;\n",
       "    }\n",
       "\n",
       "    .dataframe thead th {\n",
       "        text-align: right;\n",
       "    }\n",
       "</style>\n",
       "<table border=\"1\" class=\"dataframe\">\n",
       "  <thead>\n",
       "    <tr style=\"text-align: right;\">\n",
       "      <th>expid</th>\n",
       "      <th>eventname</th>\n",
       "      <th>frac_246</th>\n",
       "      <th>frac_247</th>\n",
       "      <th>frac_248</th>\n",
       "    </tr>\n",
       "  </thead>\n",
       "  <tbody>\n",
       "    <tr>\n",
       "      <th>0</th>\n",
       "      <td>MainScreenAppear</td>\n",
       "      <td>98.6</td>\n",
       "      <td>98.5</td>\n",
       "      <td>98.3</td>\n",
       "    </tr>\n",
       "    <tr>\n",
       "      <th>1</th>\n",
       "      <td>OffersScreenAppear</td>\n",
       "      <td>62.1</td>\n",
       "      <td>60.5</td>\n",
       "      <td>60.3</td>\n",
       "    </tr>\n",
       "    <tr>\n",
       "      <th>2</th>\n",
       "      <td>CartScreenAppear</td>\n",
       "      <td>51.0</td>\n",
       "      <td>49.3</td>\n",
       "      <td>48.5</td>\n",
       "    </tr>\n",
       "    <tr>\n",
       "      <th>3</th>\n",
       "      <td>PaymentScreenSuccessful</td>\n",
       "      <td>48.3</td>\n",
       "      <td>46.1</td>\n",
       "      <td>46.6</td>\n",
       "    </tr>\n",
       "  </tbody>\n",
       "</table>\n",
       "</div>"
      ],
      "text/plain": [
       "expid                eventname  frac_246  frac_247  frac_248\n",
       "0             MainScreenAppear      98.6      98.5      98.3\n",
       "1           OffersScreenAppear      62.1      60.5      60.3\n",
       "2             CartScreenAppear      51.0      49.3      48.5\n",
       "3      PaymentScreenSuccessful      48.3      46.1      46.6"
      ]
     },
     "execution_count": 46,
     "metadata": {},
     "output_type": "execute_result"
    }
   ],
   "source": [
    "event_group_test[['eventname', 'frac_246', 'frac_247', 'frac_248']]"
   ]
  },
  {
   "cell_type": "markdown",
   "metadata": {},
   "source": [
    "Проверьте, будет ли отличие между группами статистически достоверным. Проделайте то же самое для всех других событий (удобно обернуть проверку в отдельную функцию). Можно ли сказать, что разбиение на группы работает корректно?"
   ]
  },
  {
   "cell_type": "code",
   "execution_count": 47,
   "metadata": {},
   "outputs": [
    {
     "name": "stdout",
     "output_type": "stream",
     "text": [
      "MainScreenAppear p-значение: 0.7570597232046099\n",
      "Не получилось отвергнуть нулевую гипотезу, нет оснований считать доли разными\n",
      "\n",
      "OffersScreenAppear p-значение: 0.2480954578522181\n",
      "Не получилось отвергнуть нулевую гипотезу, нет оснований считать доли разными\n",
      "\n",
      "CartScreenAppear p-значение: 0.22883372237997213\n",
      "Не получилось отвергнуть нулевую гипотезу, нет оснований считать доли разными\n",
      "\n",
      "PaymentScreenSuccessful p-значение: 0.11456679313141849\n",
      "Не получилось отвергнуть нулевую гипотезу, нет оснований считать доли разными\n",
      "\n"
     ]
    }
   ],
   "source": [
    "z_test(246, 247, 0.05)"
   ]
  },
  {
   "cell_type": "markdown",
   "metadata": {},
   "source": [
    "**Вывод**  \n",
    "По всем событиям разница не оказалось значимой обе группы можно считать контрольными."
   ]
  },
  {
   "cell_type": "markdown",
   "metadata": {},
   "source": [
    "### Аналогично поступите с группой с изменённым шрифтом.\n",
    "Сравните результаты с каждой из контрольных групп в отдельности по каждому событию. Сравните результаты с объединённой контрольной группой. Какие выводы из эксперимента можно сделать?"
   ]
  },
  {
   "cell_type": "code",
   "execution_count": 48,
   "metadata": {},
   "outputs": [
    {
     "name": "stdout",
     "output_type": "stream",
     "text": [
      "MainScreenAppear p-значение: 0.2949721933554552\n",
      "Не получилось отвергнуть нулевую гипотезу, нет оснований считать доли разными\n",
      "\n",
      "OffersScreenAppear p-значение: 0.20836205402738917\n",
      "Не получилось отвергнуть нулевую гипотезу, нет оснований считать доли разными\n",
      "\n",
      "CartScreenAppear p-значение: 0.07842923237520116\n",
      "Не получилось отвергнуть нулевую гипотезу, нет оснований считать доли разными\n",
      "\n",
      "PaymentScreenSuccessful p-значение: 0.2122553275697796\n",
      "Не получилось отвергнуть нулевую гипотезу, нет оснований считать доли разными\n",
      "\n"
     ]
    }
   ],
   "source": [
    "z_test(246, 248, 0.05)"
   ]
  },
  {
   "cell_type": "code",
   "execution_count": 49,
   "metadata": {},
   "outputs": [
    {
     "name": "stdout",
     "output_type": "stream",
     "text": [
      "MainScreenAppear p-значение: 0.4587053616621515\n",
      "Не получилось отвергнуть нулевую гипотезу, нет оснований считать доли разными\n",
      "\n",
      "OffersScreenAppear p-значение: 0.9197817830592261\n",
      "Не получилось отвергнуть нулевую гипотезу, нет оснований считать доли разными\n",
      "\n",
      "CartScreenAppear p-значение: 0.5786197879539783\n",
      "Не получилось отвергнуть нулевую гипотезу, нет оснований считать доли разными\n",
      "\n",
      "PaymentScreenSuccessful p-значение: 0.7373415053803964\n",
      "Не получилось отвергнуть нулевую гипотезу, нет оснований считать доли разными\n",
      "\n"
     ]
    }
   ],
   "source": [
    "z_test(247, 248, 0.05)"
   ]
  },
  {
   "cell_type": "code",
   "execution_count": 50,
   "metadata": {},
   "outputs": [
    {
     "name": "stdout",
     "output_type": "stream",
     "text": [
      "MainScreenAppear p-значение: 0.29424526837179577\n",
      "Не получилось отвергнуть нулевую гипотезу, нет оснований считать доли разными\n",
      "\n",
      "OffersScreenAppear p-значение: 0.43425549655188256\n",
      "Не получилось отвергнуть нулевую гипотезу, нет оснований считать доли разными\n",
      "\n",
      "CartScreenAppear p-значение: 0.18175875284404386\n",
      "Не получилось отвергнуть нулевую гипотезу, нет оснований считать доли разными\n",
      "\n",
      "PaymentScreenSuccessful p-значение: 0.6004294282308704\n",
      "Не получилось отвергнуть нулевую гипотезу, нет оснований считать доли разными\n",
      "\n"
     ]
    }
   ],
   "source": [
    "z_test('246+247', 248, 0.05)"
   ]
  },
  {
   "cell_type": "markdown",
   "metadata": {},
   "source": [
    "**Вывод**  \n",
    "Сравнение результатов с каждой из контрольных групп и с объединенной контрольной группой не показало значимой разницы."
   ]
  },
  {
   "cell_type": "markdown",
   "metadata": {},
   "source": [
    "### Какой уровень значимости вы выбрали при проверке статистических гипотез выше? \n",
    "Посчитайте, сколько проверок статистических гипотез вы сделали. При уровне значимости 0.1 каждый десятый раз можно получать ложный результат. Какой уровень значимости стоит применить? Если вы хотите изменить его, проделайте предыдущие пункты и проверьте свои выводы."
   ]
  },
  {
   "cell_type": "markdown",
   "metadata": {},
   "source": [
    "Всего было сделано 16 проверок: 246/247, 246/248, 247/248, 246+247/248.  \n",
    "Применял уровень значимости 0.05. Попробовал 0.01 - выводы не поменялись."
   ]
  },
  {
   "cell_type": "code",
   "execution_count": 51,
   "metadata": {},
   "outputs": [
    {
     "name": "stdout",
     "output_type": "stream",
     "text": [
      "MainScreenAppear p-значение: 0.7570597232046099\n",
      "Не получилось отвергнуть нулевую гипотезу, нет оснований считать доли разными\n",
      "\n",
      "OffersScreenAppear p-значение: 0.2480954578522181\n",
      "Не получилось отвергнуть нулевую гипотезу, нет оснований считать доли разными\n",
      "\n",
      "CartScreenAppear p-значение: 0.22883372237997213\n",
      "Не получилось отвергнуть нулевую гипотезу, нет оснований считать доли разными\n",
      "\n",
      "PaymentScreenSuccessful p-значение: 0.11456679313141849\n",
      "Не получилось отвергнуть нулевую гипотезу, нет оснований считать доли разными\n",
      "\n"
     ]
    }
   ],
   "source": [
    "z_test(246, 247, 0.01)"
   ]
  },
  {
   "cell_type": "code",
   "execution_count": 52,
   "metadata": {},
   "outputs": [
    {
     "name": "stdout",
     "output_type": "stream",
     "text": [
      "MainScreenAppear p-значение: 0.2949721933554552\n",
      "Не получилось отвергнуть нулевую гипотезу, нет оснований считать доли разными\n",
      "\n",
      "OffersScreenAppear p-значение: 0.20836205402738917\n",
      "Не получилось отвергнуть нулевую гипотезу, нет оснований считать доли разными\n",
      "\n",
      "CartScreenAppear p-значение: 0.07842923237520116\n",
      "Не получилось отвергнуть нулевую гипотезу, нет оснований считать доли разными\n",
      "\n",
      "PaymentScreenSuccessful p-значение: 0.2122553275697796\n",
      "Не получилось отвергнуть нулевую гипотезу, нет оснований считать доли разными\n",
      "\n"
     ]
    }
   ],
   "source": [
    "z_test(246, 248, 0.01)"
   ]
  },
  {
   "cell_type": "code",
   "execution_count": 53,
   "metadata": {},
   "outputs": [
    {
     "name": "stdout",
     "output_type": "stream",
     "text": [
      "MainScreenAppear p-значение: 0.4587053616621515\n",
      "Не получилось отвергнуть нулевую гипотезу, нет оснований считать доли разными\n",
      "\n",
      "OffersScreenAppear p-значение: 0.9197817830592261\n",
      "Не получилось отвергнуть нулевую гипотезу, нет оснований считать доли разными\n",
      "\n",
      "CartScreenAppear p-значение: 0.5786197879539783\n",
      "Не получилось отвергнуть нулевую гипотезу, нет оснований считать доли разными\n",
      "\n",
      "PaymentScreenSuccessful p-значение: 0.7373415053803964\n",
      "Не получилось отвергнуть нулевую гипотезу, нет оснований считать доли разными\n",
      "\n"
     ]
    }
   ],
   "source": [
    "z_test(247, 248, 0.01)"
   ]
  },
  {
   "cell_type": "code",
   "execution_count": 54,
   "metadata": {
    "scrolled": true
   },
   "outputs": [
    {
     "name": "stdout",
     "output_type": "stream",
     "text": [
      "MainScreenAppear p-значение: 0.29424526837179577\n",
      "Не получилось отвергнуть нулевую гипотезу, нет оснований считать доли разными\n",
      "\n",
      "OffersScreenAppear p-значение: 0.43425549655188256\n",
      "Не получилось отвергнуть нулевую гипотезу, нет оснований считать доли разными\n",
      "\n",
      "CartScreenAppear p-значение: 0.18175875284404386\n",
      "Не получилось отвергнуть нулевую гипотезу, нет оснований считать доли разными\n",
      "\n",
      "PaymentScreenSuccessful p-значение: 0.6004294282308704\n",
      "Не получилось отвергнуть нулевую гипотезу, нет оснований считать доли разными\n",
      "\n"
     ]
    }
   ],
   "source": [
    "z_test('246+247', 248, 0.01)"
   ]
  },
  {
   "cell_type": "markdown",
   "metadata": {},
   "source": [
    "## Общий вывод"
   ]
  },
  {
   "cell_type": "markdown",
   "metadata": {},
   "source": [
    "Данные имеют период с 2019-07-25 по 2019-08-07. По гистограмме событий видно, что до 1 августа количество событий минимально. Таким образом релевантные данные имеются в период с 2019-08-01 по 2019-08-07. Для дальнейшего анализа отбросил данные старше 2019-08-01."
   ]
  },
  {
   "cell_type": "markdown",
   "metadata": {},
   "source": [
    "Воронка продаж имеет следующий вид:\n",
    "\n",
    "- `MainScreenAppear` - Открытие главного окна - Вход на сайт  \n",
    "- `OffersScreenAppear` - Открытие окна предложений - Поиск товара по каталогу  \n",
    "- `CartScreenAppear` - Открытие окна корзины - Добавление товара в корзину  \n",
    "- `PaymentScreenSuccessful` - Открытие окна оплаты - Оплата  \n",
    "- `Tutorial` - Открытие окна руководства - Изучение инструкции  \n",
    "\n",
    "На второй этап воронки переходит 62% пользователей, а 38% теряются. Здесь необходим дополнительный анализ почему так;\n",
    "\n",
    "Событие `Tutorial` не несет полезной нагрузки, поэтому его можно не принимать во внимание;\n",
    "\n",
    "От открытия главного окна до окна оплаты доходит 48% пользователей."
   ]
  },
  {
   "cell_type": "markdown",
   "metadata": {},
   "source": [
    "Всего было сделано 16 проверок: 246/247, 246/248, 247/248, 246+247/248.\n",
    "В результате всех A/A/B эксперементов значимой разницы между группами не выявлено. Поэтому можно утверждать, что менеджерам пугаться нечего, на поведение пользователей изменение шрифта значимого эффекта не оказало, дизайнеры все сделали хорошо. "
   ]
  }
 ],
 "metadata": {
  "ExecuteTimeLog": [
   {
    "duration": 1400,
    "start_time": "2022-12-03T14:55:08.347Z"
   },
   {
    "duration": 307,
    "start_time": "2022-12-03T14:55:09.749Z"
   },
   {
    "duration": 12,
    "start_time": "2022-12-03T14:55:10.058Z"
   },
   {
    "duration": 20,
    "start_time": "2022-12-03T14:55:10.072Z"
   },
   {
    "duration": 4,
    "start_time": "2022-12-03T14:55:10.094Z"
   },
   {
    "duration": 66,
    "start_time": "2022-12-03T14:55:10.099Z"
   },
   {
    "duration": 81,
    "start_time": "2022-12-03T14:55:10.166Z"
   },
   {
    "duration": 928,
    "start_time": "2022-12-03T14:55:10.249Z"
   },
   {
    "duration": 34,
    "start_time": "2022-12-03T14:55:11.179Z"
   },
   {
    "duration": 12,
    "start_time": "2022-12-03T14:55:11.216Z"
   },
   {
    "duration": 47,
    "start_time": "2022-12-03T14:55:11.230Z"
   },
   {
    "duration": 25,
    "start_time": "2022-12-03T14:55:11.278Z"
   },
   {
    "duration": 20,
    "start_time": "2022-12-03T14:55:11.305Z"
   },
   {
    "duration": 21,
    "start_time": "2022-12-03T14:55:11.326Z"
   },
   {
    "duration": 34,
    "start_time": "2022-12-03T14:55:11.349Z"
   },
   {
    "duration": 12359,
    "start_time": "2022-12-03T14:55:11.384Z"
   },
   {
    "duration": 116,
    "start_time": "2022-12-03T14:55:23.797Z"
   },
   {
    "duration": 4,
    "start_time": "2022-12-03T14:55:23.915Z"
   },
   {
    "duration": 81,
    "start_time": "2022-12-03T14:55:23.921Z"
   },
   {
    "duration": 15,
    "start_time": "2022-12-03T14:55:24.004Z"
   },
   {
    "duration": 84,
    "start_time": "2022-12-03T14:55:24.020Z"
   },
   {
    "duration": 134,
    "start_time": "2022-12-03T14:55:24.106Z"
   },
   {
    "duration": 318,
    "start_time": "2022-12-03T14:55:24.295Z"
   },
   {
    "duration": 0,
    "start_time": "2022-12-03T14:55:24.615Z"
   },
   {
    "duration": 0,
    "start_time": "2022-12-03T14:55:24.617Z"
   },
   {
    "duration": 0,
    "start_time": "2022-12-03T14:55:24.618Z"
   },
   {
    "duration": 0,
    "start_time": "2022-12-03T14:55:24.620Z"
   },
   {
    "duration": 0,
    "start_time": "2022-12-03T14:55:24.621Z"
   },
   {
    "duration": 0,
    "start_time": "2022-12-03T14:55:24.622Z"
   },
   {
    "duration": 0,
    "start_time": "2022-12-03T14:55:24.624Z"
   },
   {
    "duration": 0,
    "start_time": "2022-12-03T14:55:24.625Z"
   },
   {
    "duration": 0,
    "start_time": "2022-12-03T14:55:24.626Z"
   },
   {
    "duration": 0,
    "start_time": "2022-12-03T14:55:24.627Z"
   },
   {
    "duration": 0,
    "start_time": "2022-12-03T14:55:24.629Z"
   },
   {
    "duration": 0,
    "start_time": "2022-12-03T14:55:24.630Z"
   },
   {
    "duration": 1,
    "start_time": "2022-12-03T14:55:24.631Z"
   },
   {
    "duration": 0,
    "start_time": "2022-12-03T14:55:24.633Z"
   },
   {
    "duration": 0,
    "start_time": "2022-12-03T14:55:24.634Z"
   },
   {
    "duration": 0,
    "start_time": "2022-12-03T14:55:24.636Z"
   },
   {
    "duration": 0,
    "start_time": "2022-12-03T14:55:24.697Z"
   },
   {
    "duration": 0,
    "start_time": "2022-12-03T14:55:24.698Z"
   },
   {
    "duration": 0,
    "start_time": "2022-12-03T14:55:24.703Z"
   },
   {
    "duration": 0,
    "start_time": "2022-12-03T14:55:24.704Z"
   },
   {
    "duration": 0,
    "start_time": "2022-12-03T14:55:24.705Z"
   },
   {
    "duration": 0,
    "start_time": "2022-12-03T14:55:24.707Z"
   },
   {
    "duration": 0,
    "start_time": "2022-12-03T14:55:24.708Z"
   },
   {
    "duration": 52,
    "start_time": "2022-12-03T14:57:00.747Z"
   },
   {
    "duration": 1155,
    "start_time": "2022-12-04T10:49:49.475Z"
   },
   {
    "duration": 827,
    "start_time": "2022-12-04T10:49:50.632Z"
   },
   {
    "duration": 12,
    "start_time": "2022-12-04T10:49:51.460Z"
   },
   {
    "duration": 24,
    "start_time": "2022-12-04T10:49:51.474Z"
   },
   {
    "duration": 3,
    "start_time": "2022-12-04T10:49:51.500Z"
   },
   {
    "duration": 82,
    "start_time": "2022-12-04T10:49:51.504Z"
   },
   {
    "duration": 88,
    "start_time": "2022-12-04T10:49:51.588Z"
   },
   {
    "duration": 908,
    "start_time": "2022-12-04T10:49:51.677Z"
   },
   {
    "duration": 39,
    "start_time": "2022-12-04T10:49:52.587Z"
   },
   {
    "duration": 12,
    "start_time": "2022-12-04T10:49:52.630Z"
   },
   {
    "duration": 44,
    "start_time": "2022-12-04T10:49:52.644Z"
   },
   {
    "duration": 8,
    "start_time": "2022-12-04T10:49:52.690Z"
   },
   {
    "duration": 15,
    "start_time": "2022-12-04T10:49:52.723Z"
   },
   {
    "duration": 27,
    "start_time": "2022-12-04T10:49:52.740Z"
   },
   {
    "duration": 33,
    "start_time": "2022-12-04T10:49:52.769Z"
   },
   {
    "duration": 11332,
    "start_time": "2022-12-04T10:49:52.804Z"
   },
   {
    "duration": 96,
    "start_time": "2022-12-04T10:50:04.137Z"
   },
   {
    "duration": 4,
    "start_time": "2022-12-04T10:50:04.235Z"
   },
   {
    "duration": 28,
    "start_time": "2022-12-04T10:50:04.241Z"
   },
   {
    "duration": 61,
    "start_time": "2022-12-04T10:50:04.271Z"
   },
   {
    "duration": 26,
    "start_time": "2022-12-04T10:50:04.333Z"
   },
   {
    "duration": 165,
    "start_time": "2022-12-04T10:50:04.361Z"
   },
   {
    "duration": 105,
    "start_time": "2022-12-04T10:50:04.528Z"
   },
   {
    "duration": 12,
    "start_time": "2022-12-04T10:50:04.634Z"
   },
   {
    "duration": 4,
    "start_time": "2022-12-04T10:50:04.648Z"
   },
   {
    "duration": 14,
    "start_time": "2022-12-04T10:50:04.653Z"
   },
   {
    "duration": 54,
    "start_time": "2022-12-04T10:50:04.668Z"
   },
   {
    "duration": 18,
    "start_time": "2022-12-04T10:50:04.726Z"
   },
   {
    "duration": 93,
    "start_time": "2022-12-04T10:50:04.745Z"
   },
   {
    "duration": 199,
    "start_time": "2022-12-04T10:50:04.839Z"
   },
   {
    "duration": 8,
    "start_time": "2022-12-04T10:50:05.040Z"
   },
   {
    "duration": 29,
    "start_time": "2022-12-04T10:50:05.049Z"
   },
   {
    "duration": 11,
    "start_time": "2022-12-04T10:50:05.123Z"
   },
   {
    "duration": 17,
    "start_time": "2022-12-04T10:50:05.136Z"
   },
   {
    "duration": 19,
    "start_time": "2022-12-04T10:50:05.154Z"
   },
   {
    "duration": 62,
    "start_time": "2022-12-04T10:50:05.175Z"
   },
   {
    "duration": 27,
    "start_time": "2022-12-04T10:50:05.239Z"
   },
   {
    "duration": 61,
    "start_time": "2022-12-04T10:50:05.267Z"
   },
   {
    "duration": 15,
    "start_time": "2022-12-04T10:50:05.329Z"
   },
   {
    "duration": 15,
    "start_time": "2022-12-04T10:50:05.346Z"
   },
   {
    "duration": 64,
    "start_time": "2022-12-04T10:50:05.362Z"
   },
   {
    "duration": 10,
    "start_time": "2022-12-04T10:50:05.428Z"
   },
   {
    "duration": 31,
    "start_time": "2022-12-04T10:50:05.440Z"
   },
   {
    "duration": 50,
    "start_time": "2022-12-04T10:50:05.472Z"
   },
   {
    "duration": 8,
    "start_time": "2022-12-04T10:50:05.524Z"
   },
   {
    "duration": 17,
    "start_time": "2022-12-04T10:50:05.533Z"
   },
   {
    "duration": 83,
    "start_time": "2022-12-05T06:24:23.753Z"
   },
   {
    "duration": 66,
    "start_time": "2022-12-05T06:24:40.131Z"
   },
   {
    "duration": 74,
    "start_time": "2022-12-05T06:29:57.642Z"
   },
   {
    "duration": 42,
    "start_time": "2022-12-05T06:30:03.212Z"
   },
   {
    "duration": 7,
    "start_time": "2022-12-05T06:30:20.539Z"
   },
   {
    "duration": 6,
    "start_time": "2022-12-05T06:30:56.491Z"
   },
   {
    "duration": 1351,
    "start_time": "2022-12-05T06:31:06.366Z"
   },
   {
    "duration": 877,
    "start_time": "2022-12-05T06:31:07.719Z"
   },
   {
    "duration": 10,
    "start_time": "2022-12-05T06:31:08.597Z"
   },
   {
    "duration": 23,
    "start_time": "2022-12-05T06:31:08.608Z"
   },
   {
    "duration": 3,
    "start_time": "2022-12-05T06:31:08.632Z"
   },
   {
    "duration": 59,
    "start_time": "2022-12-05T06:31:08.636Z"
   },
   {
    "duration": 74,
    "start_time": "2022-12-05T06:31:08.705Z"
   },
   {
    "duration": 816,
    "start_time": "2022-12-05T06:31:08.780Z"
   },
   {
    "duration": 32,
    "start_time": "2022-12-05T06:31:09.597Z"
   },
   {
    "duration": 102,
    "start_time": "2022-12-05T06:31:09.631Z"
   },
   {
    "duration": 11,
    "start_time": "2022-12-05T06:31:09.735Z"
   },
   {
    "duration": 14,
    "start_time": "2022-12-05T06:31:09.748Z"
   },
   {
    "duration": 53,
    "start_time": "2022-12-05T06:31:09.763Z"
   },
   {
    "duration": 6,
    "start_time": "2022-12-05T06:31:09.818Z"
   },
   {
    "duration": 19,
    "start_time": "2022-12-05T06:31:09.826Z"
   },
   {
    "duration": 23,
    "start_time": "2022-12-05T06:31:09.846Z"
   },
   {
    "duration": 24,
    "start_time": "2022-12-05T06:31:09.871Z"
   },
   {
    "duration": 11664,
    "start_time": "2022-12-05T06:31:09.905Z"
   },
   {
    "duration": 62,
    "start_time": "2022-12-05T06:31:21.572Z"
   },
   {
    "duration": 3,
    "start_time": "2022-12-05T06:31:21.636Z"
   },
   {
    "duration": 70,
    "start_time": "2022-12-05T06:31:21.640Z"
   },
   {
    "duration": 9,
    "start_time": "2022-12-05T06:31:21.712Z"
   },
   {
    "duration": 23,
    "start_time": "2022-12-05T06:31:21.722Z"
   },
   {
    "duration": 167,
    "start_time": "2022-12-05T06:31:21.746Z"
   },
   {
    "duration": 97,
    "start_time": "2022-12-05T06:31:21.915Z"
   },
   {
    "duration": 12,
    "start_time": "2022-12-05T06:31:22.013Z"
   },
   {
    "duration": 4,
    "start_time": "2022-12-05T06:31:22.027Z"
   },
   {
    "duration": 15,
    "start_time": "2022-12-05T06:31:22.034Z"
   },
   {
    "duration": 55,
    "start_time": "2022-12-05T06:31:22.050Z"
   },
   {
    "duration": 11,
    "start_time": "2022-12-05T06:31:22.107Z"
   },
   {
    "duration": 91,
    "start_time": "2022-12-05T06:31:22.119Z"
   },
   {
    "duration": 139,
    "start_time": "2022-12-05T06:31:22.211Z"
   },
   {
    "duration": 61,
    "start_time": "2022-12-05T06:31:22.351Z"
   },
   {
    "duration": 9,
    "start_time": "2022-12-05T06:31:22.414Z"
   },
   {
    "duration": 18,
    "start_time": "2022-12-05T06:31:22.424Z"
   },
   {
    "duration": 7,
    "start_time": "2022-12-05T06:31:22.445Z"
   },
   {
    "duration": 59,
    "start_time": "2022-12-05T06:31:22.453Z"
   },
   {
    "duration": 22,
    "start_time": "2022-12-05T06:31:22.514Z"
   },
   {
    "duration": 9,
    "start_time": "2022-12-05T06:31:22.538Z"
   },
   {
    "duration": 59,
    "start_time": "2022-12-05T06:31:22.549Z"
   },
   {
    "duration": 10,
    "start_time": "2022-12-05T06:31:22.610Z"
   },
   {
    "duration": 9,
    "start_time": "2022-12-05T06:31:22.622Z"
   },
   {
    "duration": 9,
    "start_time": "2022-12-05T06:31:22.633Z"
   },
   {
    "duration": 66,
    "start_time": "2022-12-05T06:31:22.644Z"
   },
   {
    "duration": 8,
    "start_time": "2022-12-05T06:31:22.711Z"
   },
   {
    "duration": 12,
    "start_time": "2022-12-05T06:31:22.720Z"
   },
   {
    "duration": 8,
    "start_time": "2022-12-05T06:31:22.734Z"
   },
   {
    "duration": 64,
    "start_time": "2022-12-05T06:31:22.744Z"
   },
   {
    "duration": 124,
    "start_time": "2022-12-05T06:42:08.070Z"
   },
   {
    "duration": 24,
    "start_time": "2022-12-05T06:42:31.613Z"
   },
   {
    "duration": 24,
    "start_time": "2022-12-05T06:43:25.641Z"
   },
   {
    "duration": 22,
    "start_time": "2022-12-05T06:43:41.674Z"
   },
   {
    "duration": 81,
    "start_time": "2022-12-05T06:44:50.489Z"
   },
   {
    "duration": 22,
    "start_time": "2022-12-05T06:59:12.869Z"
   },
   {
    "duration": 13,
    "start_time": "2022-12-05T07:00:16.929Z"
   },
   {
    "duration": 41,
    "start_time": "2022-12-05T07:06:05.073Z"
   },
   {
    "duration": 37,
    "start_time": "2022-12-05T07:06:50.943Z"
   },
   {
    "duration": 11,
    "start_time": "2022-12-05T07:12:41.843Z"
   },
   {
    "duration": 9,
    "start_time": "2022-12-05T07:13:04.286Z"
   },
   {
    "duration": 32,
    "start_time": "2022-12-05T07:25:52.009Z"
   },
   {
    "duration": 1338,
    "start_time": "2022-12-05T07:26:14.293Z"
   },
   {
    "duration": 16,
    "start_time": "2022-12-05T07:34:25.379Z"
   },
   {
    "duration": 19,
    "start_time": "2022-12-05T07:34:47.758Z"
   },
   {
    "duration": 125,
    "start_time": "2022-12-05T07:35:51.052Z"
   },
   {
    "duration": 87,
    "start_time": "2022-12-05T07:36:08.730Z"
   },
   {
    "duration": 18,
    "start_time": "2022-12-05T07:37:05.478Z"
   },
   {
    "duration": 1398,
    "start_time": "2022-12-05T07:43:19.750Z"
   },
   {
    "duration": 18,
    "start_time": "2022-12-05T07:44:21.444Z"
   },
   {
    "duration": 62,
    "start_time": "2022-12-05T07:44:22.415Z"
   },
   {
    "duration": 24,
    "start_time": "2022-12-05T07:45:33.860Z"
   },
   {
    "duration": 57,
    "start_time": "2022-12-05T07:45:38.322Z"
   },
   {
    "duration": 59,
    "start_time": "2022-12-05T07:48:08.996Z"
   },
   {
    "duration": 59,
    "start_time": "2022-12-05T07:48:33.819Z"
   },
   {
    "duration": 67,
    "start_time": "2022-12-05T07:51:01.085Z"
   },
   {
    "duration": 7,
    "start_time": "2022-12-05T07:56:38.798Z"
   },
   {
    "duration": 32,
    "start_time": "2022-12-05T08:04:38.953Z"
   },
   {
    "duration": 1182,
    "start_time": "2022-12-05T08:38:44.901Z"
   },
   {
    "duration": 197,
    "start_time": "2022-12-05T08:38:46.085Z"
   },
   {
    "duration": 10,
    "start_time": "2022-12-05T08:38:46.284Z"
   },
   {
    "duration": 20,
    "start_time": "2022-12-05T08:38:46.305Z"
   },
   {
    "duration": 3,
    "start_time": "2022-12-05T08:38:46.327Z"
   },
   {
    "duration": 73,
    "start_time": "2022-12-05T08:38:46.332Z"
   },
   {
    "duration": 73,
    "start_time": "2022-12-05T08:38:46.407Z"
   },
   {
    "duration": 926,
    "start_time": "2022-12-05T08:38:46.482Z"
   },
   {
    "duration": 35,
    "start_time": "2022-12-05T08:38:47.410Z"
   },
   {
    "duration": 141,
    "start_time": "2022-12-05T08:38:47.448Z"
   },
   {
    "duration": 52,
    "start_time": "2022-12-05T08:38:47.591Z"
   },
   {
    "duration": 18,
    "start_time": "2022-12-05T08:38:47.645Z"
   },
   {
    "duration": 58,
    "start_time": "2022-12-05T08:38:47.664Z"
   },
   {
    "duration": 8,
    "start_time": "2022-12-05T08:38:47.723Z"
   },
   {
    "duration": 47,
    "start_time": "2022-12-05T08:38:47.732Z"
   },
   {
    "duration": 32,
    "start_time": "2022-12-05T08:38:47.781Z"
   },
   {
    "duration": 374,
    "start_time": "2022-12-05T08:38:47.815Z"
   },
   {
    "duration": 7,
    "start_time": "2022-12-05T08:38:48.192Z"
   },
   {
    "duration": 51,
    "start_time": "2022-12-05T08:38:48.200Z"
   },
   {
    "duration": 62,
    "start_time": "2022-12-05T08:38:48.253Z"
   },
   {
    "duration": 10561,
    "start_time": "2022-12-05T08:38:48.316Z"
   },
   {
    "duration": 53,
    "start_time": "2022-12-05T08:38:58.878Z"
   },
   {
    "duration": 75,
    "start_time": "2022-12-05T08:38:58.932Z"
   },
   {
    "duration": 31,
    "start_time": "2022-12-05T08:38:59.009Z"
   },
   {
    "duration": 9,
    "start_time": "2022-12-05T08:38:59.042Z"
   },
   {
    "duration": 75,
    "start_time": "2022-12-05T08:38:59.053Z"
   },
   {
    "duration": 77,
    "start_time": "2022-12-05T08:38:59.129Z"
   },
   {
    "duration": 115,
    "start_time": "2022-12-05T08:38:59.210Z"
   },
   {
    "duration": 92,
    "start_time": "2022-12-05T08:38:59.327Z"
   },
   {
    "duration": 11,
    "start_time": "2022-12-05T08:38:59.420Z"
   },
   {
    "duration": 4,
    "start_time": "2022-12-05T08:38:59.433Z"
   },
   {
    "duration": 11,
    "start_time": "2022-12-05T08:38:59.438Z"
   },
   {
    "duration": 4,
    "start_time": "2022-12-05T08:38:59.505Z"
   },
   {
    "duration": 14,
    "start_time": "2022-12-05T08:38:59.511Z"
   },
   {
    "duration": 86,
    "start_time": "2022-12-05T08:38:59.526Z"
   },
   {
    "duration": 191,
    "start_time": "2022-12-05T08:38:59.614Z"
   },
   {
    "duration": 7,
    "start_time": "2022-12-05T08:38:59.807Z"
   },
   {
    "duration": 10,
    "start_time": "2022-12-05T08:38:59.815Z"
   },
   {
    "duration": 13,
    "start_time": "2022-12-05T08:38:59.826Z"
   },
   {
    "duration": 6,
    "start_time": "2022-12-05T08:38:59.841Z"
   },
   {
    "duration": 63,
    "start_time": "2022-12-05T08:38:59.848Z"
   },
   {
    "duration": 23,
    "start_time": "2022-12-05T08:38:59.912Z"
   },
   {
    "duration": 68,
    "start_time": "2022-12-05T08:38:59.937Z"
   },
   {
    "duration": 14,
    "start_time": "2022-12-05T08:39:00.007Z"
   },
   {
    "duration": 14,
    "start_time": "2022-12-05T08:39:00.023Z"
   },
   {
    "duration": 12,
    "start_time": "2022-12-05T08:39:00.038Z"
   },
   {
    "duration": 60,
    "start_time": "2022-12-05T08:39:00.052Z"
   },
   {
    "duration": 16,
    "start_time": "2022-12-05T08:39:00.114Z"
   },
   {
    "duration": 74,
    "start_time": "2022-12-05T08:39:00.132Z"
   },
   {
    "duration": 29,
    "start_time": "2022-12-05T08:39:00.208Z"
   },
   {
    "duration": 22,
    "start_time": "2022-12-05T08:39:00.238Z"
   },
   {
    "duration": 49,
    "start_time": "2022-12-05T08:39:00.262Z"
   },
   {
    "duration": 1183,
    "start_time": "2022-12-05T21:05:01.116Z"
   },
   {
    "duration": 184,
    "start_time": "2022-12-05T21:05:02.301Z"
   },
   {
    "duration": 11,
    "start_time": "2022-12-05T21:05:02.486Z"
   },
   {
    "duration": 23,
    "start_time": "2022-12-05T21:05:02.499Z"
   },
   {
    "duration": 3,
    "start_time": "2022-12-05T21:05:02.524Z"
   },
   {
    "duration": 66,
    "start_time": "2022-12-05T21:05:02.529Z"
   },
   {
    "duration": 91,
    "start_time": "2022-12-05T21:05:02.597Z"
   },
   {
    "duration": 856,
    "start_time": "2022-12-05T21:05:02.690Z"
   },
   {
    "duration": 26,
    "start_time": "2022-12-05T21:05:03.547Z"
   },
   {
    "duration": 115,
    "start_time": "2022-12-05T21:05:03.574Z"
   },
   {
    "duration": 46,
    "start_time": "2022-12-05T21:05:03.690Z"
   },
   {
    "duration": 10,
    "start_time": "2022-12-05T21:05:03.738Z"
   },
   {
    "duration": 37,
    "start_time": "2022-12-05T21:05:03.749Z"
   },
   {
    "duration": 28,
    "start_time": "2022-12-05T21:05:03.789Z"
   },
   {
    "duration": 15,
    "start_time": "2022-12-05T21:05:03.818Z"
   },
   {
    "duration": 20,
    "start_time": "2022-12-05T21:05:03.835Z"
   },
   {
    "duration": 410,
    "start_time": "2022-12-05T21:05:03.857Z"
   },
   {
    "duration": 6,
    "start_time": "2022-12-05T21:05:04.269Z"
   },
   {
    "duration": 42,
    "start_time": "2022-12-05T21:05:04.277Z"
   },
   {
    "duration": 19,
    "start_time": "2022-12-05T21:05:04.320Z"
   },
   {
    "duration": 10444,
    "start_time": "2022-12-05T21:05:04.340Z"
   },
   {
    "duration": 53,
    "start_time": "2022-12-05T21:05:14.786Z"
   },
   {
    "duration": 4,
    "start_time": "2022-12-05T21:05:14.841Z"
   },
   {
    "duration": 75,
    "start_time": "2022-12-05T21:05:14.846Z"
   },
   {
    "duration": 13,
    "start_time": "2022-12-05T21:05:14.923Z"
   },
   {
    "duration": 85,
    "start_time": "2022-12-05T21:05:14.937Z"
   },
   {
    "duration": 26,
    "start_time": "2022-12-05T21:05:15.023Z"
   },
   {
    "duration": 165,
    "start_time": "2022-12-05T21:05:15.051Z"
   },
   {
    "duration": 104,
    "start_time": "2022-12-05T21:05:15.218Z"
   },
   {
    "duration": 11,
    "start_time": "2022-12-05T21:05:15.324Z"
   },
   {
    "duration": 5,
    "start_time": "2022-12-05T21:05:15.337Z"
   },
   {
    "duration": 70,
    "start_time": "2022-12-05T21:05:15.343Z"
   },
   {
    "duration": 5,
    "start_time": "2022-12-05T21:05:15.415Z"
   },
   {
    "duration": 15,
    "start_time": "2022-12-05T21:05:15.422Z"
   },
   {
    "duration": 83,
    "start_time": "2022-12-05T21:05:15.438Z"
   },
   {
    "duration": 136,
    "start_time": "2022-12-05T21:05:15.522Z"
   },
   {
    "duration": 59,
    "start_time": "2022-12-05T21:05:15.660Z"
   },
   {
    "duration": 10,
    "start_time": "2022-12-05T21:05:15.721Z"
   },
   {
    "duration": 15,
    "start_time": "2022-12-05T21:05:15.733Z"
   },
   {
    "duration": 7,
    "start_time": "2022-12-05T21:05:15.749Z"
   },
   {
    "duration": 9,
    "start_time": "2022-12-05T21:05:15.813Z"
   },
   {
    "duration": 23,
    "start_time": "2022-12-05T21:05:15.824Z"
   },
   {
    "duration": 10,
    "start_time": "2022-12-05T21:05:15.849Z"
   },
   {
    "duration": 17,
    "start_time": "2022-12-05T21:05:15.913Z"
   },
   {
    "duration": 12,
    "start_time": "2022-12-05T21:05:15.932Z"
   },
   {
    "duration": 13,
    "start_time": "2022-12-05T21:05:15.945Z"
   },
   {
    "duration": 57,
    "start_time": "2022-12-05T21:05:15.959Z"
   },
   {
    "duration": 8,
    "start_time": "2022-12-05T21:05:16.018Z"
   },
   {
    "duration": 10,
    "start_time": "2022-12-05T21:05:16.028Z"
   },
   {
    "duration": 12,
    "start_time": "2022-12-05T21:05:16.039Z"
   },
   {
    "duration": 66,
    "start_time": "2022-12-05T21:05:16.052Z"
   },
   {
    "duration": 14,
    "start_time": "2022-12-05T21:05:16.119Z"
   }
  ],
  "kernelspec": {
   "display_name": "Python 3 (ipykernel)",
   "language": "python",
   "name": "python3"
  },
  "language_info": {
   "codemirror_mode": {
    "name": "ipython",
    "version": 3
   },
   "file_extension": ".py",
   "mimetype": "text/x-python",
   "name": "python",
   "nbconvert_exporter": "python",
   "pygments_lexer": "ipython3",
   "version": "3.9.12"
  },
  "nbTranslate": {
   "displayLangs": [
    "*"
   ],
   "hotkey": "alt-t",
   "langInMainMenu": true,
   "sourceLang": "en",
   "targetLang": "fr",
   "useGoogleTranslate": true
  },
  "toc": {
   "base_numbering": 1,
   "nav_menu": {},
   "number_sections": true,
   "sideBar": true,
   "skip_h1_title": true,
   "title_cell": "Table of Contents",
   "title_sidebar": "Contents",
   "toc_cell": false,
   "toc_position": {
    "height": "calc(100% - 180px)",
    "left": "10px",
    "top": "150px",
    "width": "165px"
   },
   "toc_section_display": true,
   "toc_window_display": false
  },
  "varInspector": {
   "cols": {
    "lenName": 16,
    "lenType": 16,
    "lenVar": 40
   },
   "kernels_config": {
    "python": {
     "delete_cmd_postfix": "",
     "delete_cmd_prefix": "del ",
     "library": "var_list.py",
     "varRefreshCmd": "print(var_dic_list())"
    },
    "r": {
     "delete_cmd_postfix": ") ",
     "delete_cmd_prefix": "rm(",
     "library": "var_list.r",
     "varRefreshCmd": "cat(var_dic_list()) "
    }
   },
   "types_to_exclude": [
    "module",
    "function",
    "builtin_function_or_method",
    "instance",
    "_Feature"
   ],
   "window_display": false
  }
 },
 "nbformat": 4,
 "nbformat_minor": 2
}
