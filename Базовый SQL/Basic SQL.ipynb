{
 "cells": [
  {
   "cell_type": "markdown",
   "id": "026d6d34",
   "metadata": {},
   "source": [
    "# Описание проекта"
   ]
  },
  {
   "cell_type": "markdown",
   "id": "5e1f3e94",
   "metadata": {},
   "source": [
    "Работа с базой данных, которая хранит информацию о венчурных фондах и инвестициях в компании-стартапы. Эта база данных основана на датасете Startup Investments, опубликованном на популярной платформе для соревнований по исследованию данных Kaggle."
   ]
  },
  {
   "cell_type": "markdown",
   "id": "670801a3",
   "metadata": {},
   "source": [
    "ER-диаграмма\n",
    "![ER-диаграмма](https://pictures.s3.yandex.net/resources/13_border2880_1628164784.png)"
   ]
  },
  {
   "cell_type": "markdown",
   "id": "a94df53a",
   "metadata": {},
   "source": [
    "В проекте вам нужно проанализировать данные о фондах и инвестициях и написать запросы к базе."
   ]
  },
  {
   "cell_type": "markdown",
   "id": "6ea29b27",
   "metadata": {},
   "source": [
    "### Посчитайте, сколько компаний закрылось."
   ]
  },
  {
   "cell_type": "markdown",
   "id": "85b3405f",
   "metadata": {},
   "source": [
    "SELECT COUNT(status)  \n",
    "FROM company  \n",
    "WHERE status = 'closed'"
   ]
  },
  {
   "cell_type": "markdown",
   "id": "6bd873bd",
   "metadata": {},
   "source": [
    "### Отобразите количество привлечённых средств для новостных компаний США. \n",
    "Используйте данные из таблицы `company`. Отсортируйте таблицу по убыванию значений в поле `funding_total` ."
   ]
  },
  {
   "cell_type": "markdown",
   "id": "0747afd3",
   "metadata": {},
   "source": [
    "SELECT funding_total  \n",
    "FROM company  \n",
    "WHERE category_code = 'news' AND country_code = 'USA'  \n",
    "ORDER BY funding_total DESC"
   ]
  },
  {
   "cell_type": "markdown",
   "id": "4e3ff94f",
   "metadata": {},
   "source": [
    "### Найдите общую сумму сделок по покупке одних компаний другими в долларах. \n",
    "Отберите сделки, которые осуществлялись только за наличные с 2011 по 2013 год включительно."
   ]
  },
  {
   "cell_type": "markdown",
   "id": "38969317",
   "metadata": {},
   "source": [
    "SELECT SUM(price_amount)  \n",
    "FROM acquisition  \n",
    "WHERE EXTRACT(year FROM acquired_at) BETWEEN 2011 AND 2013 AND term_code = 'cash'"
   ]
  },
  {
   "cell_type": "markdown",
   "id": "544971af",
   "metadata": {},
   "source": [
    "### Отобразите имя, фамилию и названия аккаунтов людей в твиттере, у которых названия аккаунтов начинаются на 'Silver'."
   ]
  },
  {
   "cell_type": "markdown",
   "id": "fc82d7cd",
   "metadata": {},
   "source": [
    "SELECT first_name, last_name, twitter_username  \n",
    "FROM people  \n",
    "WHERE twitter_username LIKE 'Silver%'"
   ]
  },
  {
   "cell_type": "markdown",
   "id": "fcf111f4",
   "metadata": {},
   "source": [
    "### Выведите на экран всю информацию о людях, у которых названия аккаунтов в твиттере содержат подстроку 'money', а фамилия начинается на 'K'."
   ]
  },
  {
   "cell_type": "markdown",
   "id": "7b579ec2",
   "metadata": {},
   "source": [
    "SELECT *  \n",
    "FROM people  \n",
    "WHERE twitter_username LIKE '%money%' AND last_name LIKE 'K%'"
   ]
  },
  {
   "cell_type": "markdown",
   "id": "ff371f7b",
   "metadata": {},
   "source": [
    "### Для каждой страны отобразите общую сумму привлечённых инвестиций, которые получили компании, зарегистрированные в этой стране. \n",
    "Страну, в которой зарегистрирована компания, можно определить по коду страны. Отсортируйте данные по убыванию суммы."
   ]
  },
  {
   "cell_type": "markdown",
   "id": "0abb66f0",
   "metadata": {},
   "source": [
    "SELECT country_code, SUM(funding_total)  \n",
    "FROM company  \n",
    "GROUP BY country_code  \n",
    "ORDER BY SUM(funding_total) DESC"
   ]
  },
  {
   "cell_type": "markdown",
   "id": "bf86b287",
   "metadata": {},
   "source": [
    "### Составьте таблицу, в которую войдёт дата проведения раунда, а также минимальное и максимальное значения суммы инвестиций, привлечённых в эту дату.  \n",
    "Оставьте в итоговой таблице только те записи, в которых минимальное значение суммы инвестиций не равно нулю и не равно максимальному значению."
   ]
  },
  {
   "cell_type": "markdown",
   "id": "a674a4c7",
   "metadata": {},
   "source": [
    "SELECT funded_at,  \n",
    "       MIN(raised_amount),  \n",
    "       MAX(raised_amount)  \n",
    "FROM funding_round  \n",
    "GROUP BY funded_at  \n",
    "HAVING MIN(raised_amount) <> 0 AND MIN(raised_amount) <> MAX(raised_amount)"
   ]
  },
  {
   "cell_type": "markdown",
   "id": "efda4aa4",
   "metadata": {},
   "source": [
    "### Создайте поле с категориями:  \n",
    "- Для фондов, которые инвестируют в 100 и более компаний, назначьте категорию high_activity.  \n",
    "- Для фондов, которые инвестируют в 20 и более компаний до 100, назначьте категорию middle_activity.  \n",
    "Если количество инвестируемых компаний фонда не достигает 20, назначьте категорию low_activity.  \n",
    "Отобразите все поля таблицы fund и новое поле с категориями."
   ]
  },
  {
   "cell_type": "markdown",
   "id": "38abbb72",
   "metadata": {},
   "source": [
    "SELECT *,  \n",
    "        CASE  \n",
    "            WHEN invested_companies >= 100 THEN 'high_activity'  \n",
    "            WHEN invested_companies >= 20 AND invested_companies < 100 THEN 'middle_activity'  \n",
    "            ELSE 'low_activity'  \n",
    "        END  \n",
    "FROM fund"
   ]
  },
  {
   "cell_type": "markdown",
   "id": "654477e1",
   "metadata": {},
   "source": [
    "### Для каждой из категорий, назначенных в предыдущем задании, \n",
    "посчитайте округлённое до ближайшего целого числа среднее количество инвестиционных раундов, в которых фонд принимал участие. Выведите на экран категории и среднее число инвестиционных раундов. Отсортируйте таблицу по возрастанию среднего."
   ]
  },
  {
   "cell_type": "markdown",
   "id": "f6899e4a",
   "metadata": {},
   "source": [
    "SELECT ROUND(AVG(investment_rounds)) AS avg_,  \n",
    "       CASE  \n",
    "           WHEN invested_companies>=100 THEN 'high_activity'  \n",
    "           WHEN invested_companies>=20 THEN 'middle_activity'  \n",
    "           ELSE 'low_activity'  \n",
    "       END AS activity  \n",
    "FROM fund  \n",
    "GROUP BY activity  \n",
    "ORDER BY avg_"
   ]
  },
  {
   "cell_type": "markdown",
   "id": "daa5775e",
   "metadata": {},
   "source": [
    "### Проанализируйте, в каких странах находятся фонды, которые чаще всего инвестируют в стартапы.  \n",
    "Для каждой страны посчитайте минимальное, максимальное и среднее число компаний, в которые инвестировали фонды этой страны, основанные с 2010 по 2012 год включительно. Исключите страны с фондами, у которых минимальное число компаний, получивших инвестиции, равно нулю. Выгрузите десять самых активных стран-инвесторов.  \n",
    "Отсортируйте таблицу по среднему количеству компаний от большего к меньшему, а затем по коду страны в лексикографическом порядке."
   ]
  },
  {
   "cell_type": "markdown",
   "id": "192d8bd3",
   "metadata": {},
   "source": [
    "SELECT country_code,  \n",
    "        MIN(invested_companies) AS min_,  \n",
    "        MAX(invested_companies) AS max_,  \n",
    "        AVG(invested_companies) AS avg_  \n",
    "FROM fund  \n",
    "WHERE EXTRACT(year FROM founded_at) BETWEEN 2010 AND 2012  \n",
    "GROUP BY country_code  \n",
    "HAVING MIN(invested_companies) <> 0  \n",
    "ORDER BY avg_ DESC, country_code  \n",
    "LIMIT 10"
   ]
  },
  {
   "cell_type": "markdown",
   "id": "5f1fcda5",
   "metadata": {},
   "source": [
    "### Отобразите имя и фамилию всех сотрудников стартапов. \n",
    "Добавьте поле с названием учебного заведения, которое окончил сотрудник, если эта информация известна."
   ]
  },
  {
   "cell_type": "markdown",
   "id": "c7fe77ac",
   "metadata": {},
   "source": [
    "SELECT p.first_name,  \n",
    "        p.last_name,  \n",
    "        e.instituition  \n",
    "FROM people AS p  \n",
    "LEFT JOIN education AS e ON p.id = e.person_id"
   ]
  },
  {
   "cell_type": "markdown",
   "id": "e171b9d1",
   "metadata": {},
   "source": [
    "### Для каждой компании найдите количество учебных заведений, которые окончили её сотрудники.\n",
    "Выведите название компании и число уникальных названий учебных заведений. Составьте топ-5 компаний по количеству университетов."
   ]
  },
  {
   "cell_type": "markdown",
   "id": "4f525cc4",
   "metadata": {},
   "source": [
    "SELECT c.name,  \n",
    "        COUNT(DISTINCT e.instituition) AS count_  \n",
    "FROM company AS c  \n",
    "JOIN people AS p ON c.id = p.company_id  \n",
    "JOIN education AS e ON p.id = e.person_id  \n",
    "GROUP BY c.name  \n",
    "ORDER BY count_ DESC  \n",
    "LIMIT 5"
   ]
  },
  {
   "cell_type": "markdown",
   "id": "a5356dd7",
   "metadata": {},
   "source": [
    "### Составьте список с уникальными названиями закрытых компаний, для которых первый раунд финансирования оказался последним."
   ]
  },
  {
   "cell_type": "markdown",
   "id": "27100d05",
   "metadata": {},
   "source": [
    "WITH  \n",
    "f AS (SELECT company_id  \n",
    "    FROM funding_round  \n",
    "    WHERE is_first_round + is_last_round = 2),  \n",
    "c AS (SELECT name, id  \n",
    "      FROM company AS c  \n",
    "      WHERE status = 'closed')  \n",
    "SELECT DISTINCT c.name  \n",
    "FROM c  \n",
    "INNER JOIN f ON c.id = f.company_id"
   ]
  },
  {
   "cell_type": "markdown",
   "id": "7202fb34",
   "metadata": {},
   "source": [
    "### Составьте список уникальных номеров сотрудников, которые работают в компаниях, отобранных в предыдущем задании."
   ]
  },
  {
   "cell_type": "markdown",
   "id": "b0ef1496",
   "metadata": {},
   "source": [
    "SELECT id  \n",
    "FROM people  \n",
    "WHERE company_id IN  \n",
    "            (SELECT id  \n",
    "            FROM company  \n",
    "            WHERE status = 'closed' AND id IN (SELECT company_id  \n",
    "                                              FROM funding_round  \n",
    "                                              WHERE is_first_round+is_last_round = 2))"
   ]
  },
  {
   "cell_type": "markdown",
   "id": "4e1df935",
   "metadata": {},
   "source": [
    "### Составьте таблицу, куда войдут уникальные пары с номерами сотрудников из предыдущей задачи и учебным заведением, которое окончил сотрудник."
   ]
  },
  {
   "cell_type": "markdown",
   "id": "8f65c28d",
   "metadata": {},
   "source": [
    "SELECT DISTINCT e.person_id, e.instituition  \n",
    "          FROM education AS e  \n",
    "          WHERE e.person_id IN (  \n",
    "                        SELECT DISTINCT p.id  \n",
    "                        FROM people AS p  \n",
    "                        WHERE company_id IN (  \n",
    "                                SELECT DISTINCT id  \n",
    "                                FROM company  \n",
    "                                WHERE id IN (  \n",
    "                                             SELECT company_id  \n",
    "                                             FROM funding_round  \n",
    "                                             WHERE is_first_round = 1 AND is_last_round = 1)  \n",
    "                                             AND status = 'closed'))"
   ]
  },
  {
   "cell_type": "markdown",
   "id": "89435714",
   "metadata": {},
   "source": [
    "### Посчитайте количество учебных заведений для каждого сотрудника из предыдущего задания. \n",
    "При подсчёте учитывайте, что некоторые сотрудники могли окончить одно и то же заведение дважды."
   ]
  },
  {
   "cell_type": "markdown",
   "id": "a2221300",
   "metadata": {},
   "source": [
    "SELECT DISTINCT e.person_id, COUNT(e.instituition)  \n",
    "          FROM education AS e  \n",
    "          WHERE e.person_id IN (  \n",
    "                        SELECT DISTINCT p.id  \n",
    "                        FROM people AS p  \n",
    "                        WHERE company_id IN (  \n",
    "                                SELECT DISTINCT id  \n",
    "                                FROM company  \n",
    "                                WHERE id IN (  \n",
    "                                             SELECT company_id  \n",
    "                                             FROM funding_round  \n",
    "                                             WHERE is_first_round = 1 AND is_last_round = 1)  \n",
    "                                             AND status = 'closed'))  \n",
    "GROUP BY e.person_id"
   ]
  },
  {
   "cell_type": "markdown",
   "id": "08777c70",
   "metadata": {},
   "source": [
    "### Дополните предыдущий запрос и выведите среднее число учебных заведений (всех, не только уникальных), которые окончили сотрудники разных компаний. \n",
    "Нужно вывести только одну запись, группировка здесь не понадобится."
   ]
  },
  {
   "cell_type": "markdown",
   "id": "8f8b0dce",
   "metadata": {},
   "source": [
    "SELECT AVG(tab.count)  \n",
    "FROM  \n",
    "(SELECT DISTINCT e.person_id, COUNT(e.instituition)  \n",
    "          FROM education AS e  \n",
    "          WHERE e.person_id IN (  \n",
    "                        SELECT DISTINCT p.id  \n",
    "                        FROM people AS p  \n",
    "                        WHERE company_id IN (  \n",
    "                                SELECT DISTINCT id  \n",
    "                                FROM company  \n",
    "                                WHERE id IN (  \n",
    "                                             SELECT company_id  \n",
    "                                             FROM funding_round  \n",
    "                                             WHERE is_first_round = 1 AND is_last_round = 1)  \n",
    "                                             AND status = 'closed'))  \n",
    "GROUP BY e.person_id) AS tab"
   ]
  },
  {
   "cell_type": "markdown",
   "id": "22c014ee",
   "metadata": {},
   "source": [
    "### Напишите похожий запрос: выведите среднее число учебных заведений (всех, не только уникальных), которые окончили сотрудники Facebook."
   ]
  },
  {
   "cell_type": "markdown",
   "id": "946beb10",
   "metadata": {},
   "source": [
    "SELECT AVG(count)  \n",
    "FROM  \n",
    "    (SELECT person_id, COUNT(instituition)  \n",
    "    FROM education  \n",
    "    WHERE person_id IN  \n",
    "        (SELECT id  \n",
    "        FROM people  \n",
    "        WHERE company_id IN  \n",
    "            (SELECT id  \n",
    "            FROM company  \n",
    "            WHERE name = 'Facebook'))  \n",
    "    GROUP BY person_id) AS tab"
   ]
  },
  {
   "cell_type": "markdown",
   "id": "b8466560",
   "metadata": {},
   "source": [
    "### Составьте таблицу из полей:  \n",
    "- name_of_fund — название фонда;  \n",
    "- name_of_company — название компании;  \n",
    "- amount — сумма инвестиций, которую привлекла компания в раунде.  \n",
    "В таблицу войдут данные о компаниях, в истории которых было больше шести важных этапов, а раунды финансирования проходили с 2012 по 2013 год включительно."
   ]
  },
  {
   "cell_type": "markdown",
   "id": "dd599f54",
   "metadata": {},
   "source": [
    "SELECT f.name AS name_of_fund,  \n",
    "       c.name AS name_of_company,  \n",
    "       f_r.raised_amount AS amount  \n",
    "FROM investment AS i  \n",
    "LEFT JOIN company AS c ON c.id = i.company_id  \n",
    "LEFT JOIN fund AS f ON i.fund_id = f.id  \n",
    "INNER JOIN   \n",
    "            (SELECT*  \n",
    "            FROM funding_round  \n",
    "            WHERE funded_at BETWEEN '2012-01-01' AND '2013-12-31') AS f_r   \n",
    "    ON f_r.id = i.funding_round_id  \n",
    "WHERE c.milestones > 6"
   ]
  },
  {
   "cell_type": "markdown",
   "id": "b9050106",
   "metadata": {},
   "source": [
    "### Выгрузите таблицу, в которой будут такие поля:  \n",
    "- название компании-покупателя;  \n",
    "- сумма сделки;  \n",
    "- название компании, которую купили;  \n",
    "- сумма инвестиций, вложенных в купленную компанию;  \n",
    "- доля, которая отображает, во сколько раз сумма покупки превысила сумму вложенных в компанию инвестиций, округлённая до ближайшего целого числа.  \n",
    "Не учитывайте те сделки, в которых сумма покупки равна нулю. Если сумма инвестиций в компанию равна нулю, исключите такую компанию из таблицы.  \n",
    "Отсортируйте таблицу по сумме сделки от большей к меньшей, а затем по названию купленной компании в лексикографическом порядке. Ограничьте таблицу первыми десятью записями."
   ]
  },
  {
   "cell_type": "markdown",
   "id": "3ca14a2b",
   "metadata": {},
   "source": [
    "WITH   \n",
    "an AS (SELECT c.name AS name_of_baer,  \n",
    "                     a.price_amount AS transaction_amount,  \n",
    "                     a.id AS id  \n",
    "              FROM acquisition AS a  \n",
    "              LEFT JOIN company AS c ON a.acquiring_company_id = c.id  \n",
    "              WHERE a.price_amount > 0),  \n",
    "ad AS (SELECT c.name AS business,  \n",
    "                    c.funding_total AS investment,  \n",
    "                    a.id AS id  \n",
    "             FROM acquisition AS a  \n",
    "             LEFT JOIN company AS c ON a.acquired_company_id = c.id  \n",
    "             WHERE c.funding_total > 0)  \n",
    "SELECT a_n.name_of_baer,  \n",
    "       a_n.transaction_amount,  \n",
    "       a_d.business,  \n",
    "       a_d.investment,  \n",
    "       ROUND(a_n.transaction_amount / a_d.investment) AS fraction  \n",
    "FROM an AS a_n  \n",
    "JOIN ad AS a_d ON a_n.id = a_d.id  \n",
    "ORDER BY transaction_amount DESC, business  \n",
    "LIMIT 10"
   ]
  },
  {
   "cell_type": "markdown",
   "id": "1fb7661e",
   "metadata": {},
   "source": [
    "### Выгрузите таблицу, в которую войдут названия компаний из категории social, получившие финансирование с 2010 по 2013 год включительно. \n",
    "Проверьте, что сумма инвестиций не равна нулю. Выведите также номер месяца, в котором проходил раунд финансирования."
   ]
  },
  {
   "cell_type": "markdown",
   "id": "4e7d4235",
   "metadata": {},
   "source": [
    "SELECT c.name,  \n",
    "        EXTRACT(month FROM f_r.funded_at)  \n",
    "FROM company AS c  \n",
    "LEFT JOIN funding_round AS f_r ON c.id = f_r.company_id  \n",
    "WHERE c.category_code = 'social'  \n",
    "        AND EXTRACT(year FROM funded_at) BETWEEN 2010 AND 2013 AND raised_amount <> 0"
   ]
  },
  {
   "cell_type": "markdown",
   "id": "58f85005",
   "metadata": {},
   "source": [
    "### Отберите данные по месяцам с 2010 по 2013 год, когда проходили инвестиционные раунды. Сгруппируйте данные по номеру месяца и получите таблицу, в которой будут поля:\n",
    "- номер месяца, в котором проходили раунды;  \n",
    "- количество уникальных названий фондов из США, которые инвестировали в этом месяце;  \n",
    "- количество компаний, купленных за этот месяц;  \n",
    "- общая сумма сделок по покупкам в этом месяце."
   ]
  },
  {
   "cell_type": "markdown",
   "id": "e8a82cbd",
   "metadata": {},
   "source": [
    "WITH  \n",
    "tab_1 AS  \n",
    "    (SELECT EXTRACT(month FROM fr.funded_at) AS f_month,  \n",
    "    COUNT(DISTINCT f.id) AS count_funds  \n",
    "    FROM fund AS f  \n",
    "    LEFT JOIN investment AS i ON f.id = i.fund_id  \n",
    "    LEFT JOIN funding_round AS fr ON i.funding_round_id = fr.id  \n",
    "    WHERE f.country_code = 'USA'  \n",
    "    AND EXTRACT(YEAR FROM CAST(fr.funded_at AS DATE)) BETWEEN 2010 AND 2013  \n",
    "    GROUP BY f_month),  \n",
    "tab_2 AS  \n",
    "    (SELECT EXTRACT(MONTH FROM acquired_at) AS f_month,  \n",
    "    COUNT(acquired_company_id) AS count_company,  \n",
    "    SUM(price_amount) AS sum_total  \n",
    "    FROM acquisition  \n",
    "    WHERE EXTRACT(YEAR FROM CAST(acquired_at AS DATE)) BETWEEN 2010 AND 2013  \n",
    "    GROUP BY f_month)  \n",
    "SELECT f.f_month, f.count_funds, a.count_company, a.sum_total  \n",
    "FROM tab_1 AS f  \n",
    "LEFT JOIN tab_2 AS a ON f.f_month = a.f_month"
   ]
  },
  {
   "cell_type": "markdown",
   "id": "d78061ba",
   "metadata": {},
   "source": [
    "### Составьте сводную таблицу и выведите среднюю сумму инвестиций для стран, в которых есть стартапы, зарегистрированные в 2011, 2012 и 2013 годах. \n",
    "Данные за каждый год должны быть в отдельном поле. Отсортируйте таблицу по среднему значению инвестиций за 2011 год от большего к меньшему."
   ]
  },
  {
   "cell_type": "markdown",
   "id": "74a98a17",
   "metadata": {},
   "source": [
    "WITH  \n",
    "year_2011 AS  \n",
    "    (SELECT country_code,  \n",
    "    AVG(funding_total) AS avg_2011  \n",
    "    FROM company  \n",
    "    WHERE EXTRACT(year FROM founded_at) = 2011  \n",
    "    GROUP BY country_code),  \n",
    "\n",
    "year_2012 AS  \n",
    "    (SELECT country_code,  \n",
    "    AVG(funding_total) AS avg_2012  \n",
    "    FROM company  \n",
    "    WHERE EXTRACT(year FROM founded_at) = 2012  \n",
    "    GROUP BY country_code),  \n",
    "\n",
    "year_2013 AS  \n",
    "    (SELECT country_code,  \n",
    "    AVG(funding_total) AS avg_2013  \n",
    "    FROM company  \n",
    "    WHERE EXTRACT(year FROM founded_at) = 2013  \n",
    "    GROUP BY country_code)  \n",
    "\n",
    "    \n",
    "SELECT year_2011.country_code,  \n",
    "         year_2011.avg_2011,  \n",
    "         year_2012.avg_2012,  \n",
    "         year_2013.avg_2013  \n",
    "FROM year_2011  \n",
    "INNER JOIN year_2012 ON year_2011.country_code = year_2012.country_code  \n",
    "INNER JOIN year_2013 ON year_2012.country_code = year_2013.country_code  \n",
    "ORDER BY year_2011.avg_2011 DESC  "
   ]
  },
  {
   "cell_type": "code",
   "execution_count": null,
   "id": "8b8f997f",
   "metadata": {},
   "outputs": [],
   "source": []
  }
 ],
 "metadata": {
  "kernelspec": {
   "display_name": "Python 3 (ipykernel)",
   "language": "python",
   "name": "python3"
  },
  "language_info": {
   "codemirror_mode": {
    "name": "ipython",
    "version": 3
   },
   "file_extension": ".py",
   "mimetype": "text/x-python",
   "name": "python",
   "nbconvert_exporter": "python",
   "pygments_lexer": "ipython3",
   "version": "3.9.12"
  },
  "nbTranslate": {
   "displayLangs": [
    "*"
   ],
   "hotkey": "alt-t",
   "langInMainMenu": true,
   "sourceLang": "en",
   "targetLang": "fr",
   "useGoogleTranslate": true
  },
  "toc": {
   "base_numbering": 1,
   "nav_menu": {},
   "number_sections": true,
   "sideBar": true,
   "skip_h1_title": true,
   "title_cell": "Table of Contents",
   "title_sidebar": "Contents",
   "toc_cell": false,
   "toc_position": {},
   "toc_section_display": true,
   "toc_window_display": true
  },
  "varInspector": {
   "cols": {
    "lenName": 16,
    "lenType": 16,
    "lenVar": 40
   },
   "kernels_config": {
    "python": {
     "delete_cmd_postfix": "",
     "delete_cmd_prefix": "del ",
     "library": "var_list.py",
     "varRefreshCmd": "print(var_dic_list())"
    },
    "r": {
     "delete_cmd_postfix": ") ",
     "delete_cmd_prefix": "rm(",
     "library": "var_list.r",
     "varRefreshCmd": "cat(var_dic_list()) "
    }
   },
   "types_to_exclude": [
    "module",
    "function",
    "builtin_function_or_method",
    "instance",
    "_Feature"
   ],
   "window_display": false
  }
 },
 "nbformat": 4,
 "nbformat_minor": 5
}
